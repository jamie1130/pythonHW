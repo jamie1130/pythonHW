{
 "cells": [
  {
   "cell_type": "markdown",
   "id": "751c61e8-3498-47b2-9742-7e2399396717",
   "metadata": {},
   "source": [
    "iterable and iterators\n",
    "\n",
    "iterables are things you can \"for-loop\" over\n",
    "\n",
    "iterators are companion objects that does the \"for-loop\"ing\n",
    "\n",
    "containers: objects that hold other objects, e.g. lists, tuples, sets, dictionaries\n",
    "\n",
    "https://docs.python.org/3/tutorial/classes.html#iterators"
   ]
  },
  {
   "cell_type": "code",
   "execution_count": 1,
   "id": "c655fb3a-dcc8-42c8-b682-a57a50699453",
   "metadata": {},
   "outputs": [
    {
     "name": "stdout",
     "output_type": "stream",
     "text": [
      "1\n",
      "2\n",
      "3\n"
     ]
    }
   ],
   "source": [
    "L = [1, 2, 3]\n",
    "for element in L:\n",
    "    print(element)\n",
    "\n",
    "# behind the scenes:\n",
    "# 1. call iter(L) to get some iterator object. let's call tmp_iterator_object\n",
    "# 2. call next(tmp_iterator_object) to access element in L one at a time < repeat until....\n",
    "# 3. ... once the Exception StopIteration is raised"
   ]
  },
  {
   "cell_type": "code",
   "execution_count": 2,
   "id": "302828f8-a631-4f0a-bb2e-324388410d15",
   "metadata": {},
   "outputs": [],
   "source": [
    "L = [1, 2, 3]"
   ]
  },
  {
   "cell_type": "code",
   "execution_count": 3,
   "id": "64bf9ea1-4df3-4353-9a5c-63558e9ee5cd",
   "metadata": {},
   "outputs": [],
   "source": [
    "tmp_iterator_object = iter(L) #  iter(L) is equivalent to L.__iter__()"
   ]
  },
  {
   "cell_type": "code",
   "execution_count": 4,
   "id": "372c6849-4a05-46ff-bf0d-897bb0c77c5d",
   "metadata": {},
   "outputs": [
    {
     "data": {
      "text/plain": [
       "list_iterator"
      ]
     },
     "execution_count": 4,
     "metadata": {},
     "output_type": "execute_result"
    }
   ],
   "source": [
    "type(tmp_iterator_object)"
   ]
  },
  {
   "cell_type": "code",
   "execution_count": 5,
   "id": "22b3e387-dde7-4cd3-9ce8-0b23161df9a8",
   "metadata": {},
   "outputs": [
    {
     "data": {
      "text/plain": [
       "<list_iterator at 0x7f9a1af666d0>"
      ]
     },
     "execution_count": 5,
     "metadata": {},
     "output_type": "execute_result"
    }
   ],
   "source": [
    "tmp_iterator_object"
   ]
  },
  {
   "cell_type": "code",
   "execution_count": 6,
   "id": "1806256d-0e65-4e35-be24-a5c9d4f4bf87",
   "metadata": {},
   "outputs": [
    {
     "data": {
      "text/plain": [
       "1"
      ]
     },
     "execution_count": 6,
     "metadata": {},
     "output_type": "execute_result"
    }
   ],
   "source": [
    "next(tmp_iterator_object)"
   ]
  },
  {
   "cell_type": "markdown",
   "id": "6c48e467-6f4e-4ac9-b219-39459ad99747",
   "metadata": {},
   "source": [
    "### THESE ARE THE ONLY TWO RULES THAT MATTER FOR ITERATOR\n",
    "\n",
    "For an object `L` to be iterable ('for-loop-able'),\n",
    "\n",
    "1. `L` has __iter__ method implemented so that `iter(L)` returns an iterator\n",
    "2. that iterator returned by `iter(L)` has __next__ method implemented"
   ]
  },
  {
   "cell_type": "markdown",
   "id": "e447aaef-a930-45b0-99af-0959c282772b",
   "metadata": {},
   "source": [
    "\n",
    "\n",
    "Not every container-like object automatically supports iteration."
   ]
  },
  {
   "cell_type": "code",
   "execution_count": 7,
   "id": "2703667a-4d15-4bca-bac5-11b43cd2c666",
   "metadata": {},
   "outputs": [
    {
     "name": "stdout",
     "output_type": "stream",
     "text": [
      "[1, 2, 3]\n"
     ]
    },
    {
     "ename": "TypeError",
     "evalue": "'boringList' object is not iterable",
     "output_type": "error",
     "traceback": [
      "\u001b[0;31m---------------------------------------------------------------------------\u001b[0m",
      "\u001b[0;31mTypeError\u001b[0m                                 Traceback (most recent call last)",
      "\u001b[0;32m/var/folders/t0/z7bd7v710dv11qgg7r8r3k300000gp/T/ipykernel_40588/2092479026.py\u001b[0m in \u001b[0;36m<module>\u001b[0;34m\u001b[0m\n\u001b[1;32m      9\u001b[0m \u001b[0mprint\u001b[0m\u001b[0;34m(\u001b[0m\u001b[0mB\u001b[0m\u001b[0;34m)\u001b[0m\u001b[0;34m\u001b[0m\u001b[0;34m\u001b[0m\u001b[0m\n\u001b[1;32m     10\u001b[0m \u001b[0;34m\u001b[0m\u001b[0m\n\u001b[0;32m---> 11\u001b[0;31m \u001b[0;32mfor\u001b[0m \u001b[0mi\u001b[0m \u001b[0;32min\u001b[0m \u001b[0mB\u001b[0m\u001b[0;34m:\u001b[0m\u001b[0;34m\u001b[0m\u001b[0;34m\u001b[0m\u001b[0m\n\u001b[0m\u001b[1;32m     12\u001b[0m     \u001b[0mprint\u001b[0m\u001b[0;34m(\u001b[0m\u001b[0mi\u001b[0m\u001b[0;34m)\u001b[0m\u001b[0;34m\u001b[0m\u001b[0;34m\u001b[0m\u001b[0m\n",
      "\u001b[0;31mTypeError\u001b[0m: 'boringList' object is not iterable"
     ]
    }
   ],
   "source": [
    "class boringList:\n",
    "    def __init__(self, L):\n",
    "        self.L = L\n",
    "    \n",
    "    def __str__(self):\n",
    "        return str(self.L)\n",
    "\n",
    "B = boringList([1, 2, 3])\n",
    "print(B)\n",
    "\n",
    "for i in B:\n",
    "    print(i)"
   ]
  },
  {
   "cell_type": "code",
   "execution_count": 8,
   "id": "20b450de-ab11-4a41-8e5c-e212cdf75108",
   "metadata": {},
   "outputs": [
    {
     "name": "stdout",
     "output_type": "stream",
     "text": [
      "[1, 2, 3]\n",
      "1\n",
      "2\n",
      "3\n"
     ]
    }
   ],
   "source": [
    "class boringList:\n",
    "    def __init__(self, L):\n",
    "        self.L = L\n",
    "    \n",
    "    def __str__(self):\n",
    "        return str(self.L)\n",
    "    \n",
    "    def __iter__(self):\n",
    "        return iter(self.L) # this returns list_iterator, which has __next__ methods implemented\n",
    "    \n",
    "B = boringList([1, 2, 3])\n",
    "print(B)\n",
    "\n",
    "for i in B:\n",
    "    print(i)"
   ]
  },
  {
   "cell_type": "code",
   "execution_count": 9,
   "id": "31219741-35b8-4994-bde6-10abc8049673",
   "metadata": {},
   "outputs": [
    {
     "name": "stdout",
     "output_type": "stream",
     "text": [
      "[1, 2, 3]\n",
      "boringList __iter__\n",
      "boringListIterator __init__\n",
      "boringListIterator __next__\n",
      "1\n",
      "boringListIterator __next__\n",
      "2\n",
      "boringListIterator __next__\n",
      "3\n",
      "boringListIterator __next__\n"
     ]
    }
   ],
   "source": [
    "class boringList:\n",
    "    def __init__(self, L):\n",
    "        self.L = L\n",
    "    \n",
    "    def __str__(self):\n",
    "        return str(self.L)\n",
    "    \n",
    "    def __iter__(self):\n",
    "        print('boringList __iter__')\n",
    "        return boringListIterator(self) \n",
    "    # self is an instance of boringList\n",
    "    # typically pass self so that itator can have access to all of self's stuff\n",
    "     \n",
    "class boringListIterator:\n",
    "    def __init__(self, bL): # here self is an instance of boringListIterator, and bL is expected to be an instance of boringList\n",
    "        self.L = bL.L\n",
    "        self.i = 0 # keeps track of current index\n",
    "        print('boringListIterator __init__')\n",
    "    \n",
    "    def __next__(self):\n",
    "        print('boringListIterator __next__')\n",
    "        if self.i < len(self.L):\n",
    "            element = self.L[self.i] # access the i-th element\n",
    "            self.i += 1 # indicate where to look next\n",
    "            return element\n",
    "        else:\n",
    "            raise StopIteration\n",
    "\n",
    "# shorter version of the same code:\n",
    "#    def __next__(self):\n",
    "#         if self.i >= len(self.L):\n",
    "#             raise StopIteration\n",
    "        \n",
    "#         self.i += 1\n",
    "#         return(self.L[self.i-1])\n",
    "\n",
    "B = boringList([1,2,3])\n",
    "print(B)\n",
    "\n",
    "for i in B:\n",
    "    print(i)"
   ]
  },
  {
   "cell_type": "markdown",
   "id": "0160b8fe-5aaf-4dc5-a276-08000c62b64f",
   "metadata": {},
   "source": [
    "in slow motion, behind the scenes:"
   ]
  },
  {
   "cell_type": "code",
   "execution_count": 10,
   "id": "1d5fe98e-8bf6-4ba0-ac2f-eb635399f4ef",
   "metadata": {},
   "outputs": [
    {
     "name": "stdout",
     "output_type": "stream",
     "text": [
      "boringList __iter__\n",
      "boringListIterator __init__\n"
     ]
    }
   ],
   "source": [
    "# when Python reads for i in B:, it calls\n",
    "tmp_iterator_object = iter(B) #  this calls B.__init__()"
   ]
  },
  {
   "cell_type": "code",
   "execution_count": 11,
   "id": "9ed3e627-7b3e-4c84-92df-0104aeb21734",
   "metadata": {},
   "outputs": [
    {
     "data": {
      "text/plain": [
       "<__main__.boringListIterator at 0x7f9a1af8b610>"
      ]
     },
     "execution_count": 11,
     "metadata": {},
     "output_type": "execute_result"
    }
   ],
   "source": [
    "tmp_iterator_object"
   ]
  },
  {
   "cell_type": "code",
   "execution_count": 12,
   "id": "4fbc95ef-6ab9-42fb-b11b-f05e1fc302fc",
   "metadata": {},
   "outputs": [
    {
     "name": "stdout",
     "output_type": "stream",
     "text": [
      "boringListIterator __next__\n"
     ]
    },
    {
     "data": {
      "text/plain": [
       "1"
      ]
     },
     "execution_count": 12,
     "metadata": {},
     "output_type": "execute_result"
    }
   ],
   "source": [
    "# and until StopIteration is raised, call\n",
    "next(tmp_iterator_object) # this calls tmp_iterator_object.__next__()"
   ]
  },
  {
   "cell_type": "code",
   "execution_count": 13,
   "id": "676f9c76-8a14-4774-b447-7e43ab372b9e",
   "metadata": {},
   "outputs": [],
   "source": [
    "# class iterableBoringList(boringList):\n",
    "#     def __init__(self, L):\n",
    "#         super().__init__(L)\n",
    "#         self.i = 0 # tracker\n",
    "    \n",
    "#     def __iter__(self):\n",
    "#         self.i = 0\n",
    "#         return self\n",
    "    \n",
    "#     def __next__(self):\n",
    "#         if self.i < len(self.L):\n",
    "#             element = self.L[self.i] # access the i-th element\n",
    "#             self.i += 1 # indicate where to look next\n",
    "#             return element\n",
    "#         else:\n",
    "#             raise StopIteration\n",
    "# B = iterableBoringList([1,2,3])\n",
    "# print(B) \n",
    "# for i in B:\n",
    "#     print(i)"
   ]
  },
  {
   "cell_type": "code",
   "execution_count": 14,
   "id": "4b68c2bb-9681-43e5-953a-04beff69cff5",
   "metadata": {},
   "outputs": [
    {
     "name": "stdout",
     "output_type": "stream",
     "text": [
      "1\n",
      "2\n",
      "3\n"
     ]
    }
   ],
   "source": [
    "class boringList:\n",
    "    def __init__(self, L):\n",
    "        self.L = L\n",
    "        self.i = 0 # tracker\n",
    "        \n",
    "    def __str__(self):\n",
    "        return str(self.L)\n",
    "    \n",
    "    def __iter__(self):\n",
    "        self.i = 0\n",
    "        return self\n",
    "    \n",
    "    def __next__(self):\n",
    "        if self.i < len(self.L):\n",
    "            element = self.L[self.i] # access the i-th element\n",
    "            self.i += 1 # indicate where to look next\n",
    "            return element\n",
    "        else:\n",
    "            raise StopIteration\n",
    "\n",
    "B = boringList([1,2,3])\n",
    "for i in B:\n",
    "    print(i)        \n",
    "        "
   ]
  },
  {
   "cell_type": "code",
   "execution_count": 15,
   "id": "bd05403a-754c-42cb-8c8a-d619c8e89b50",
   "metadata": {},
   "outputs": [
    {
     "name": "stdout",
     "output_type": "stream",
     "text": [
      "1\n",
      "2\n",
      "3\n"
     ]
    }
   ],
   "source": [
    "class boringList(list):\n",
    "    pass\n",
    "\n",
    "B = boringList([1,2,3])\n",
    "for i in B: # this calls __iter__() method of list\n",
    "    print(i)"
   ]
  },
  {
   "cell_type": "code",
   "execution_count": null,
   "id": "3b715d02-2196-4b08-b415-98daf467d842",
   "metadata": {},
   "outputs": [],
   "source": []
  },
  {
   "cell_type": "code",
   "execution_count": null,
   "id": "5b2b8a53-66a2-47b7-a792-2e5e6d3a3595",
   "metadata": {},
   "outputs": [],
   "source": []
  }
 ],
 "metadata": {
  "kernelspec": {
   "display_name": "Python 3 (ipykernel)",
   "language": "python",
   "name": "python3"
  },
  "language_info": {
   "codemirror_mode": {
    "name": "ipython",
    "version": 3
   },
   "file_extension": ".py",
   "mimetype": "text/x-python",
   "name": "python",
   "nbconvert_exporter": "python",
   "pygments_lexer": "ipython3",
   "version": "3.9.7"
  }
 },
 "nbformat": 4,
 "nbformat_minor": 5
}
