{
 "cells": [
  {
   "cell_type": "markdown",
   "id": "d5cf3c22-035b-46cb-be70-f98858eb02fe",
   "metadata": {},
   "source": [
    "Announcements\n",
    "- HW1, discussions 1-4 all due on Friday (see Gradescope for exact time)\n",
    "- Discussions are NOT graded on completion or accuracy (it's not a trick!)\n",
    "- Don't stress out, HW1 code doesn't have to be the most efficient and beautiful\n",
    "- Watch Vishnu's HW1 helper video please, might send out HW1 hints today\n",
    "- Midterm (Week 6, Monday) will be a 24 hour take-home exam instead of in-class. More details later on.\n",
    "\n",
    "Monday: control flow (if, while, for, break, continue, pass), iteration, list comprehension, functions (for 5 seconds)\n",
    "\n",
    "Today: Functions- positional and keyword arguments, global and local scopes, lambda expressions\n",
    "\n",
    "Sec 4.7-4.8 https://docs.python.org/3/tutorial/controlflow.html#defining-functions"
   ]
  },
  {
   "cell_type": "code",
   "execution_count": 27,
   "id": "c4cbd5f4-eaaa-4b50-8e76-d43b8d451220",
   "metadata": {},
   "outputs": [],
   "source": [
    "def boldly_print(k): # colon ends declaration and begins definition \n",
    "    for i in range(k): # everything inside the function (what you would put inside {...}) should be indented.\n",
    "        print('to boldly go') # return values are optional"
   ]
  },
  {
   "cell_type": "code",
   "execution_count": 28,
   "id": "a44840af-8aef-4b66-b418-a6008aa700a1",
   "metadata": {},
   "outputs": [
    {
     "name": "stdout",
     "output_type": "stream",
     "text": [
      "to boldly go\n",
      "to boldly go\n",
      "to boldly go\n"
     ]
    }
   ],
   "source": [
    "boldly_print(3)"
   ]
  },
  {
   "cell_type": "code",
   "execution_count": 29,
   "id": "75adf625-983e-498b-af4f-6419fecafe25",
   "metadata": {},
   "outputs": [],
   "source": [
    "def boldly_print(k, verb='go'): # you can have default arguments\n",
    "    for i in range(k): # for i = 0, 1, 2, ... k-1\n",
    "        print('to boldly', verb)"
   ]
  },
  {
   "cell_type": "code",
   "execution_count": 30,
   "id": "1c128498-194c-46e8-9066-a84ee40c99f4",
   "metadata": {},
   "outputs": [
    {
     "name": "stdout",
     "output_type": "stream",
     "text": [
      "to boldly go\n",
      "to boldly go\n",
      "to boldly go\n"
     ]
    }
   ],
   "source": [
    "boldly_print(3)"
   ]
  },
  {
   "cell_type": "code",
   "execution_count": 31,
   "id": "297a1ec2-1428-4f8e-8723-3cdd1c57a064",
   "metadata": {},
   "outputs": [
    {
     "name": "stdout",
     "output_type": "stream",
     "text": [
      "to boldly sing\n",
      "to boldly sing\n",
      "to boldly sing\n"
     ]
    }
   ],
   "source": [
    "boldly_print(3, 'sing')"
   ]
  },
  {
   "cell_type": "code",
   "execution_count": 32,
   "id": "3bb2e528-3141-4d71-babc-6f797101368b",
   "metadata": {},
   "outputs": [],
   "source": [
    "def boldly_print(k, verb='go'): # non-default arguments need to come before default args. \n",
    "    for i in range(k): # for i = 0, 1, 2, ... k-1\n",
    "        print('to boldly', verb)"
   ]
  },
  {
   "cell_type": "markdown",
   "id": "f683312b-9283-48ec-8509-22ef5177585c",
   "metadata": {},
   "source": [
    "positional arguments - Python knows what's `k` and what's `verb` based on the positions (or order) in which they're given.\n",
    "\n",
    "keyword arguments - Python knows what's `k` and what's `verb` based on the keywords."
   ]
  },
  {
   "cell_type": "code",
   "execution_count": 33,
   "id": "78cfe327-4de8-4ee8-a130-00fb2eb112ca",
   "metadata": {},
   "outputs": [
    {
     "name": "stdout",
     "output_type": "stream",
     "text": [
      "to boldly sing\n",
      "to boldly sing\n",
      "to boldly sing\n"
     ]
    }
   ],
   "source": [
    "boldly_print(3, 'sing') # two positional arguments"
   ]
  },
  {
   "cell_type": "code",
   "execution_count": 34,
   "id": "a7254ac3-61ae-4153-8a3c-32eccfd69a76",
   "metadata": {},
   "outputs": [
    {
     "ename": "TypeError",
     "evalue": "'str' object cannot be interpreted as an integer",
     "output_type": "error",
     "traceback": [
      "\u001b[1;31m---------------------------------------------------------------------------\u001b[0m",
      "\u001b[1;31mTypeError\u001b[0m                                 Traceback (most recent call last)",
      "\u001b[1;32m~\\AppData\\Local\\Temp/ipykernel_9832/1835650874.py\u001b[0m in \u001b[0;36m<module>\u001b[1;34m\u001b[0m\n\u001b[1;32m----> 1\u001b[1;33m \u001b[0mboldly_print\u001b[0m\u001b[1;33m(\u001b[0m\u001b[1;34m'sing'\u001b[0m\u001b[1;33m,\u001b[0m \u001b[1;36m3\u001b[0m\u001b[1;33m)\u001b[0m\u001b[1;33m\u001b[0m\u001b[1;33m\u001b[0m\u001b[0m\n\u001b[0m",
      "\u001b[1;32m~\\AppData\\Local\\Temp/ipykernel_9832/38067174.py\u001b[0m in \u001b[0;36mboldly_print\u001b[1;34m(k, verb)\u001b[0m\n\u001b[0;32m      1\u001b[0m \u001b[1;32mdef\u001b[0m \u001b[0mboldly_print\u001b[0m\u001b[1;33m(\u001b[0m\u001b[0mk\u001b[0m\u001b[1;33m,\u001b[0m \u001b[0mverb\u001b[0m\u001b[1;33m=\u001b[0m\u001b[1;34m'go'\u001b[0m\u001b[1;33m)\u001b[0m\u001b[1;33m:\u001b[0m \u001b[1;31m# non-default arguments need to come before default args.\u001b[0m\u001b[1;33m\u001b[0m\u001b[1;33m\u001b[0m\u001b[0m\n\u001b[1;32m----> 2\u001b[1;33m     \u001b[1;32mfor\u001b[0m \u001b[0mi\u001b[0m \u001b[1;32min\u001b[0m \u001b[0mrange\u001b[0m\u001b[1;33m(\u001b[0m\u001b[0mk\u001b[0m\u001b[1;33m)\u001b[0m\u001b[1;33m:\u001b[0m \u001b[1;31m# for i = 0, 1, 2, ... k-1\u001b[0m\u001b[1;33m\u001b[0m\u001b[1;33m\u001b[0m\u001b[0m\n\u001b[0m\u001b[0;32m      3\u001b[0m         \u001b[0mprint\u001b[0m\u001b[1;33m(\u001b[0m\u001b[1;34m'to boldly'\u001b[0m\u001b[1;33m,\u001b[0m \u001b[0mverb\u001b[0m\u001b[1;33m)\u001b[0m\u001b[1;33m\u001b[0m\u001b[1;33m\u001b[0m\u001b[0m\n",
      "\u001b[1;31mTypeError\u001b[0m: 'str' object cannot be interpreted as an integer"
     ]
    }
   ],
   "source": [
    "boldly_print('sing', 3)"
   ]
  },
  {
   "cell_type": "code",
   "execution_count": 35,
   "id": "b95e4622-56ed-4f96-9f15-eb48381b60eb",
   "metadata": {},
   "outputs": [
    {
     "name": "stdout",
     "output_type": "stream",
     "text": [
      "to boldly sing\n",
      "to boldly sing\n",
      "to boldly sing\n"
     ]
    }
   ],
   "source": [
    "boldly_print(k=3, verb='sing') # two keyword arguments "
   ]
  },
  {
   "cell_type": "code",
   "execution_count": 36,
   "id": "7a11a64f-ee57-49c2-842b-9a1657919c15",
   "metadata": {},
   "outputs": [
    {
     "name": "stdout",
     "output_type": "stream",
     "text": [
      "to boldly sing\n",
      "to boldly sing\n",
      "to boldly sing\n"
     ]
    }
   ],
   "source": [
    "boldly_print(verb='sing', k=3) # order isn't important any more because we have keywords"
   ]
  },
  {
   "cell_type": "code",
   "execution_count": 37,
   "id": "32eb8588-798f-46cd-be47-1b73ec8b7c51",
   "metadata": {},
   "outputs": [
    {
     "ename": "TypeError",
     "evalue": "boldly_print() got an unexpected keyword argument 'verb2'",
     "output_type": "error",
     "traceback": [
      "\u001b[1;31m---------------------------------------------------------------------------\u001b[0m",
      "\u001b[1;31mTypeError\u001b[0m                                 Traceback (most recent call last)",
      "\u001b[1;32m~\\AppData\\Local\\Temp/ipykernel_9832/1402895176.py\u001b[0m in \u001b[0;36m<module>\u001b[1;34m\u001b[0m\n\u001b[1;32m----> 1\u001b[1;33m \u001b[0mboldly_print\u001b[0m\u001b[1;33m(\u001b[0m\u001b[0mverb2\u001b[0m\u001b[1;33m=\u001b[0m\u001b[1;34m'sing'\u001b[0m\u001b[1;33m,\u001b[0m \u001b[0mk\u001b[0m\u001b[1;33m=\u001b[0m\u001b[1;36m3\u001b[0m\u001b[1;33m)\u001b[0m \u001b[1;31m# but the keywords need to match the name of args.\u001b[0m\u001b[1;33m\u001b[0m\u001b[1;33m\u001b[0m\u001b[0m\n\u001b[0m",
      "\u001b[1;31mTypeError\u001b[0m: boldly_print() got an unexpected keyword argument 'verb2'"
     ]
    }
   ],
   "source": [
    "boldly_print(verb2='sing', k=3) # but the keywords need to match the name of args."
   ]
  },
  {
   "cell_type": "code",
   "execution_count": 38,
   "id": "6c4511de-3450-4683-868c-ee99df44891a",
   "metadata": {},
   "outputs": [
    {
     "name": "stdout",
     "output_type": "stream",
     "text": [
      "to boldly sing\n",
      "to boldly sing\n",
      "to boldly sing\n"
     ]
    }
   ],
   "source": [
    "boldly_print(3, verb='sing') # one pos. and one keyword argument.\n",
    "\n",
    "# keyword arguments need to come after positional arguments."
   ]
  },
  {
   "cell_type": "code",
   "execution_count": 39,
   "id": "66e2955b-201e-475d-adce-ad0d5322c440",
   "metadata": {},
   "outputs": [
    {
     "ename": "SyntaxError",
     "evalue": "positional argument follows keyword argument (Temp/ipykernel_9832/1782145714.py, line 1)",
     "output_type": "error",
     "traceback": [
      "\u001b[1;36m  File \u001b[1;32m\"C:\\Users\\12715\\AppData\\Local\\Temp/ipykernel_9832/1782145714.py\"\u001b[1;36m, line \u001b[1;32m1\u001b[0m\n\u001b[1;33m    boldly_print(verb='sing', 3)\u001b[0m\n\u001b[1;37m                               ^\u001b[0m\n\u001b[1;31mSyntaxError\u001b[0m\u001b[1;31m:\u001b[0m positional argument follows keyword argument\n"
     ]
    }
   ],
   "source": [
    "boldly_print(verb='sing', 3)"
   ]
  },
  {
   "cell_type": "markdown",
   "id": "5b1ff7ac-1bd8-49d2-8377-4a59fcdcfa5a",
   "metadata": {},
   "source": [
    "*args and \\**kwargs: being flexible with the number of arguments"
   ]
  },
  {
   "cell_type": "code",
   "execution_count": 40,
   "id": "3284718f-66b2-480f-996e-136e038a4dab",
   "metadata": {},
   "outputs": [
    {
     "data": {
      "text/plain": [
       "4"
      ]
     },
     "execution_count": 40,
     "metadata": {},
     "output_type": "execute_result"
    }
   ],
   "source": [
    "def add(a, b):\n",
    "    return a+b\n",
    "\n",
    "add(2, 2)"
   ]
  },
  {
   "cell_type": "code",
   "execution_count": 41,
   "id": "05548033-7fd7-4c1e-9fe4-022fcfe3a2e1",
   "metadata": {},
   "outputs": [
    {
     "ename": "TypeError",
     "evalue": "add() takes 2 positional arguments but 3 were given",
     "output_type": "error",
     "traceback": [
      "\u001b[1;31m---------------------------------------------------------------------------\u001b[0m",
      "\u001b[1;31mTypeError\u001b[0m                                 Traceback (most recent call last)",
      "\u001b[1;32m~\\AppData\\Local\\Temp/ipykernel_9832/3529075376.py\u001b[0m in \u001b[0;36m<module>\u001b[1;34m\u001b[0m\n\u001b[1;32m----> 1\u001b[1;33m \u001b[0madd\u001b[0m\u001b[1;33m(\u001b[0m\u001b[1;36m2\u001b[0m\u001b[1;33m,\u001b[0m \u001b[1;36m2\u001b[0m\u001b[1;33m,\u001b[0m \u001b[1;36m2\u001b[0m\u001b[1;33m)\u001b[0m\u001b[1;33m\u001b[0m\u001b[1;33m\u001b[0m\u001b[0m\n\u001b[0m",
      "\u001b[1;31mTypeError\u001b[0m: add() takes 2 positional arguments but 3 were given"
     ]
    }
   ],
   "source": [
    "add(2, 2, 2)"
   ]
  },
  {
   "cell_type": "code",
   "execution_count": 42,
   "id": "c476290c-db54-4acf-b612-7ec814ddbc8e",
   "metadata": {},
   "outputs": [],
   "source": [
    "def better_add(*args):\n",
    "    total = 0\n",
    "    for arg in args: # args inside function doesn't have *\n",
    "        total = total + arg\n",
    "    print(args, type(args))\n",
    "    return total"
   ]
  },
  {
   "cell_type": "code",
   "execution_count": 43,
   "id": "ca759e2c-d2e8-4a37-b016-03ef8aceabbc",
   "metadata": {},
   "outputs": [
    {
     "name": "stdout",
     "output_type": "stream",
     "text": [
      "(2, 2, 2, 2, 2, 2, 2, 34, 1) <class 'tuple'>\n"
     ]
    },
    {
     "data": {
      "text/plain": [
       "49"
      ]
     },
     "execution_count": 43,
     "metadata": {},
     "output_type": "execute_result"
    }
   ],
   "source": [
    "better_add(2, 2, 2, 2, 2, 2, 2, 34, 1) "
   ]
  },
  {
   "cell_type": "code",
   "execution_count": 44,
   "id": "7834d3c0-e625-42be-aa2f-b49a3f0abb04",
   "metadata": {},
   "outputs": [
    {
     "name": "stdout",
     "output_type": "stream",
     "text": [
      "<class 'function'>\n"
     ]
    }
   ],
   "source": [
    "print(type(better_add))"
   ]
  },
  {
   "cell_type": "code",
   "execution_count": 45,
   "id": "b4aee5a6-1645-444b-bc8e-67421ea9795e",
   "metadata": {},
   "outputs": [],
   "source": [
    "# *args = get all the positional arguments in a tuple called args. \n",
    "# **kwargs = get all the keyword arguments in a dict called kwargs.\n",
    "\n",
    "def f(*args, **kwargs): \n",
    "    print(\"Positional:\", type(args), args)\n",
    "    print(\"Keywords:\", type(kw), kw)"
   ]
  },
  {
   "cell_type": "code",
   "execution_count": 46,
   "id": "b0ae0a01-587c-448a-8c37-643d9a934ea8",
   "metadata": {
    "tags": []
   },
   "outputs": [
    {
     "name": "stdout",
     "output_type": "stream",
     "text": [
      "Positional: <class 'tuple'> ('one', 'two', 'three')\n"
     ]
    },
    {
     "ename": "NameError",
     "evalue": "name 'kw' is not defined",
     "output_type": "error",
     "traceback": [
      "\u001b[1;31m---------------------------------------------------------------------------\u001b[0m",
      "\u001b[1;31mNameError\u001b[0m                                 Traceback (most recent call last)",
      "\u001b[1;32m~\\AppData\\Local\\Temp/ipykernel_9832/456067411.py\u001b[0m in \u001b[0;36m<module>\u001b[1;34m\u001b[0m\n\u001b[1;32m----> 1\u001b[1;33m \u001b[0mf\u001b[0m\u001b[1;33m(\u001b[0m\u001b[1;34m'one'\u001b[0m\u001b[1;33m,\u001b[0m \u001b[1;34m'two'\u001b[0m\u001b[1;33m,\u001b[0m \u001b[1;34m'three'\u001b[0m\u001b[1;33m)\u001b[0m\u001b[1;33m\u001b[0m\u001b[1;33m\u001b[0m\u001b[0m\n\u001b[0m",
      "\u001b[1;32m~\\AppData\\Local\\Temp/ipykernel_9832/3069108906.py\u001b[0m in \u001b[0;36mf\u001b[1;34m(*args, **kwargs)\u001b[0m\n\u001b[0;32m      4\u001b[0m \u001b[1;32mdef\u001b[0m \u001b[0mf\u001b[0m\u001b[1;33m(\u001b[0m\u001b[1;33m*\u001b[0m\u001b[0margs\u001b[0m\u001b[1;33m,\u001b[0m \u001b[1;33m**\u001b[0m\u001b[0mkwargs\u001b[0m\u001b[1;33m)\u001b[0m\u001b[1;33m:\u001b[0m\u001b[1;33m\u001b[0m\u001b[1;33m\u001b[0m\u001b[0m\n\u001b[0;32m      5\u001b[0m     \u001b[0mprint\u001b[0m\u001b[1;33m(\u001b[0m\u001b[1;34m\"Positional:\"\u001b[0m\u001b[1;33m,\u001b[0m \u001b[0mtype\u001b[0m\u001b[1;33m(\u001b[0m\u001b[0margs\u001b[0m\u001b[1;33m)\u001b[0m\u001b[1;33m,\u001b[0m \u001b[0margs\u001b[0m\u001b[1;33m)\u001b[0m\u001b[1;33m\u001b[0m\u001b[1;33m\u001b[0m\u001b[0m\n\u001b[1;32m----> 6\u001b[1;33m     \u001b[0mprint\u001b[0m\u001b[1;33m(\u001b[0m\u001b[1;34m\"Keywords:\"\u001b[0m\u001b[1;33m,\u001b[0m \u001b[0mtype\u001b[0m\u001b[1;33m(\u001b[0m\u001b[0mkw\u001b[0m\u001b[1;33m)\u001b[0m\u001b[1;33m,\u001b[0m \u001b[0mkw\u001b[0m\u001b[1;33m)\u001b[0m\u001b[1;33m\u001b[0m\u001b[1;33m\u001b[0m\u001b[0m\n\u001b[0m",
      "\u001b[1;31mNameError\u001b[0m: name 'kw' is not defined"
     ]
    }
   ],
   "source": [
    "f('one', 'two', 'three')"
   ]
  },
  {
   "cell_type": "code",
   "execution_count": 47,
   "id": "ffae9459-1a87-47c3-92e7-b44c8d398d2a",
   "metadata": {},
   "outputs": [
    {
     "name": "stdout",
     "output_type": "stream",
     "text": [
      "Positional: <class 'tuple'> ()\n"
     ]
    },
    {
     "ename": "NameError",
     "evalue": "name 'kw' is not defined",
     "output_type": "error",
     "traceback": [
      "\u001b[1;31m---------------------------------------------------------------------------\u001b[0m",
      "\u001b[1;31mNameError\u001b[0m                                 Traceback (most recent call last)",
      "\u001b[1;32m~\\AppData\\Local\\Temp/ipykernel_9832/1167131340.py\u001b[0m in \u001b[0;36m<module>\u001b[1;34m\u001b[0m\n\u001b[1;32m----> 1\u001b[1;33m \u001b[0mf\u001b[0m\u001b[1;33m(\u001b[0m\u001b[0ma\u001b[0m\u001b[1;33m=\u001b[0m\u001b[1;34m'one'\u001b[0m\u001b[1;33m,\u001b[0m \u001b[0mb\u001b[0m\u001b[1;33m=\u001b[0m\u001b[1;34m'two'\u001b[0m\u001b[1;33m,\u001b[0m \u001b[0mc\u001b[0m\u001b[1;33m=\u001b[0m\u001b[1;34m'three'\u001b[0m\u001b[1;33m)\u001b[0m\u001b[1;33m\u001b[0m\u001b[1;33m\u001b[0m\u001b[0m\n\u001b[0m",
      "\u001b[1;32m~\\AppData\\Local\\Temp/ipykernel_9832/3069108906.py\u001b[0m in \u001b[0;36mf\u001b[1;34m(*args, **kwargs)\u001b[0m\n\u001b[0;32m      4\u001b[0m \u001b[1;32mdef\u001b[0m \u001b[0mf\u001b[0m\u001b[1;33m(\u001b[0m\u001b[1;33m*\u001b[0m\u001b[0margs\u001b[0m\u001b[1;33m,\u001b[0m \u001b[1;33m**\u001b[0m\u001b[0mkwargs\u001b[0m\u001b[1;33m)\u001b[0m\u001b[1;33m:\u001b[0m\u001b[1;33m\u001b[0m\u001b[1;33m\u001b[0m\u001b[0m\n\u001b[0;32m      5\u001b[0m     \u001b[0mprint\u001b[0m\u001b[1;33m(\u001b[0m\u001b[1;34m\"Positional:\"\u001b[0m\u001b[1;33m,\u001b[0m \u001b[0mtype\u001b[0m\u001b[1;33m(\u001b[0m\u001b[0margs\u001b[0m\u001b[1;33m)\u001b[0m\u001b[1;33m,\u001b[0m \u001b[0margs\u001b[0m\u001b[1;33m)\u001b[0m\u001b[1;33m\u001b[0m\u001b[1;33m\u001b[0m\u001b[0m\n\u001b[1;32m----> 6\u001b[1;33m     \u001b[0mprint\u001b[0m\u001b[1;33m(\u001b[0m\u001b[1;34m\"Keywords:\"\u001b[0m\u001b[1;33m,\u001b[0m \u001b[0mtype\u001b[0m\u001b[1;33m(\u001b[0m\u001b[0mkw\u001b[0m\u001b[1;33m)\u001b[0m\u001b[1;33m,\u001b[0m \u001b[0mkw\u001b[0m\u001b[1;33m)\u001b[0m\u001b[1;33m\u001b[0m\u001b[1;33m\u001b[0m\u001b[0m\n\u001b[0m",
      "\u001b[1;31mNameError\u001b[0m: name 'kw' is not defined"
     ]
    }
   ],
   "source": [
    "f(a='one', b='two', c='three')"
   ]
  },
  {
   "cell_type": "code",
   "execution_count": 48,
   "id": "eb1ed1f0-cf33-4d7c-8398-6f662c59793e",
   "metadata": {},
   "outputs": [
    {
     "name": "stdout",
     "output_type": "stream",
     "text": [
      "Positional: <class 'tuple'> ('one', 'two')\n"
     ]
    },
    {
     "ename": "NameError",
     "evalue": "name 'kw' is not defined",
     "output_type": "error",
     "traceback": [
      "\u001b[1;31m---------------------------------------------------------------------------\u001b[0m",
      "\u001b[1;31mNameError\u001b[0m                                 Traceback (most recent call last)",
      "\u001b[1;32m~\\AppData\\Local\\Temp/ipykernel_9832/3680936496.py\u001b[0m in \u001b[0;36m<module>\u001b[1;34m\u001b[0m\n\u001b[1;32m----> 1\u001b[1;33m \u001b[0mf\u001b[0m\u001b[1;33m(\u001b[0m\u001b[1;34m'one'\u001b[0m\u001b[1;33m,\u001b[0m \u001b[1;34m'two'\u001b[0m\u001b[1;33m,\u001b[0m \u001b[0mc\u001b[0m\u001b[1;33m=\u001b[0m\u001b[1;34m'three'\u001b[0m\u001b[1;33m,\u001b[0m \u001b[0md\u001b[0m\u001b[1;33m=\u001b[0m\u001b[1;34m'four'\u001b[0m\u001b[1;33m)\u001b[0m\u001b[1;33m\u001b[0m\u001b[1;33m\u001b[0m\u001b[0m\n\u001b[0m",
      "\u001b[1;32m~\\AppData\\Local\\Temp/ipykernel_9832/3069108906.py\u001b[0m in \u001b[0;36mf\u001b[1;34m(*args, **kwargs)\u001b[0m\n\u001b[0;32m      4\u001b[0m \u001b[1;32mdef\u001b[0m \u001b[0mf\u001b[0m\u001b[1;33m(\u001b[0m\u001b[1;33m*\u001b[0m\u001b[0margs\u001b[0m\u001b[1;33m,\u001b[0m \u001b[1;33m**\u001b[0m\u001b[0mkwargs\u001b[0m\u001b[1;33m)\u001b[0m\u001b[1;33m:\u001b[0m\u001b[1;33m\u001b[0m\u001b[1;33m\u001b[0m\u001b[0m\n\u001b[0;32m      5\u001b[0m     \u001b[0mprint\u001b[0m\u001b[1;33m(\u001b[0m\u001b[1;34m\"Positional:\"\u001b[0m\u001b[1;33m,\u001b[0m \u001b[0mtype\u001b[0m\u001b[1;33m(\u001b[0m\u001b[0margs\u001b[0m\u001b[1;33m)\u001b[0m\u001b[1;33m,\u001b[0m \u001b[0margs\u001b[0m\u001b[1;33m)\u001b[0m\u001b[1;33m\u001b[0m\u001b[1;33m\u001b[0m\u001b[0m\n\u001b[1;32m----> 6\u001b[1;33m     \u001b[0mprint\u001b[0m\u001b[1;33m(\u001b[0m\u001b[1;34m\"Keywords:\"\u001b[0m\u001b[1;33m,\u001b[0m \u001b[0mtype\u001b[0m\u001b[1;33m(\u001b[0m\u001b[0mkw\u001b[0m\u001b[1;33m)\u001b[0m\u001b[1;33m,\u001b[0m \u001b[0mkw\u001b[0m\u001b[1;33m)\u001b[0m\u001b[1;33m\u001b[0m\u001b[1;33m\u001b[0m\u001b[0m\n\u001b[0m",
      "\u001b[1;31mNameError\u001b[0m: name 'kw' is not defined"
     ]
    }
   ],
   "source": [
    "f('one', 'two', c='three', d='four')"
   ]
  },
  {
   "cell_type": "code",
   "execution_count": 49,
   "id": "1c87823b-4a45-492c-89a5-53279281e9d0",
   "metadata": {},
   "outputs": [
    {
     "ename": "NameError",
     "evalue": "name 'plt' is not defined",
     "output_type": "error",
     "traceback": [
      "\u001b[1;31m---------------------------------------------------------------------------\u001b[0m",
      "\u001b[1;31mNameError\u001b[0m                                 Traceback (most recent call last)",
      "\u001b[1;32m~\\AppData\\Local\\Temp/ipykernel_9832/3166694935.py\u001b[0m in \u001b[0;36m<module>\u001b[1;34m\u001b[0m\n\u001b[1;32m----> 1\u001b[1;33m \u001b[0mplt\u001b[0m\u001b[1;33m.\u001b[0m\u001b[0mplot\u001b[0m\u001b[1;33m(\u001b[0m\u001b[0mx\u001b[0m\u001b[1;33m,\u001b[0m \u001b[0my\u001b[0m\u001b[1;33m,\u001b[0m \u001b[0mmarker\u001b[0m\u001b[1;33m=\u001b[0m\u001b[1;34m'.'\u001b[0m\u001b[1;33m)\u001b[0m \u001b[1;31m# size of dots, line width, markers, etc\u001b[0m\u001b[1;33m\u001b[0m\u001b[1;33m\u001b[0m\u001b[0m\n\u001b[0m",
      "\u001b[1;31mNameError\u001b[0m: name 'plt' is not defined"
     ]
    }
   ],
   "source": [
    "plt.plot(x, y, marker='.') # size of dots, line width, markers, etc"
   ]
  },
  {
   "cell_type": "markdown",
   "id": "e80700ad-9eb2-4a63-a40f-06ba9b061514",
   "metadata": {},
   "source": [
    "Global and local scope of variables\n",
    "\n",
    "- Variables in the global scope are available within the function.\n",
    "- Variables created within the function are **not** available within the global scope.\n",
    "\n",
    "When a function is called and there's a reference to a name:\n",
    "\n",
    "- First look for it in the local scope, i.e. variables declared/assigned inside the function definition.\n",
    "- If you don't see it, then look for variables in the global scope."
   ]
  },
  {
   "cell_type": "code",
   "execution_count": 50,
   "id": "0d0e443b-9bf6-4762-85ad-e543ce5760db",
   "metadata": {},
   "outputs": [
    {
     "data": {
      "text/plain": [
       "3"
      ]
     },
     "execution_count": 50,
     "metadata": {},
     "output_type": "execute_result"
    }
   ],
   "source": [
    "x = 3 # available in global scope\n",
    "x"
   ]
  },
  {
   "cell_type": "code",
   "execution_count": 51,
   "id": "d6ebba00-9d2f-4afc-8ab4-68341e736d86",
   "metadata": {},
   "outputs": [],
   "source": [
    "del x "
   ]
  },
  {
   "cell_type": "code",
   "execution_count": 52,
   "id": "0698b9ea-9a2c-4205-ad10-1a7775075901",
   "metadata": {},
   "outputs": [
    {
     "ename": "NameError",
     "evalue": "name 'x' is not defined",
     "output_type": "error",
     "traceback": [
      "\u001b[1;31m---------------------------------------------------------------------------\u001b[0m",
      "\u001b[1;31mNameError\u001b[0m                                 Traceback (most recent call last)",
      "\u001b[1;32m~\\AppData\\Local\\Temp/ipykernel_9832/32546335.py\u001b[0m in \u001b[0;36m<module>\u001b[1;34m\u001b[0m\n\u001b[1;32m----> 1\u001b[1;33m \u001b[0mx\u001b[0m\u001b[1;33m\u001b[0m\u001b[1;33m\u001b[0m\u001b[0m\n\u001b[0m",
      "\u001b[1;31mNameError\u001b[0m: name 'x' is not defined"
     ]
    }
   ],
   "source": [
    "x"
   ]
  },
  {
   "cell_type": "code",
   "execution_count": 53,
   "id": "a7bf20a9-679a-4e2b-b42f-7137d6d3f413",
   "metadata": {},
   "outputs": [
    {
     "ename": "NameError",
     "evalue": "name 'x' is not defined",
     "output_type": "error",
     "traceback": [
      "\u001b[1;31m---------------------------------------------------------------------------\u001b[0m",
      "\u001b[1;31mNameError\u001b[0m                                 Traceback (most recent call last)",
      "\u001b[1;32m~\\AppData\\Local\\Temp/ipykernel_9832/1995160812.py\u001b[0m in \u001b[0;36m<module>\u001b[1;34m\u001b[0m\n\u001b[0;32m      1\u001b[0m \u001b[1;32mdef\u001b[0m \u001b[0mprint_x\u001b[0m\u001b[1;33m(\u001b[0m\u001b[1;33m)\u001b[0m\u001b[1;33m:\u001b[0m\u001b[1;33m\u001b[0m\u001b[1;33m\u001b[0m\u001b[0m\n\u001b[0;32m      2\u001b[0m     \u001b[0mprint\u001b[0m\u001b[1;33m(\u001b[0m\u001b[0mx\u001b[0m\u001b[1;33m)\u001b[0m\u001b[1;33m\u001b[0m\u001b[1;33m\u001b[0m\u001b[0m\n\u001b[1;32m----> 3\u001b[1;33m \u001b[0mprint_x\u001b[0m\u001b[1;33m(\u001b[0m\u001b[1;33m)\u001b[0m\u001b[1;33m\u001b[0m\u001b[1;33m\u001b[0m\u001b[0m\n\u001b[0m",
      "\u001b[1;32m~\\AppData\\Local\\Temp/ipykernel_9832/1995160812.py\u001b[0m in \u001b[0;36mprint_x\u001b[1;34m()\u001b[0m\n\u001b[0;32m      1\u001b[0m \u001b[1;32mdef\u001b[0m \u001b[0mprint_x\u001b[0m\u001b[1;33m(\u001b[0m\u001b[1;33m)\u001b[0m\u001b[1;33m:\u001b[0m\u001b[1;33m\u001b[0m\u001b[1;33m\u001b[0m\u001b[0m\n\u001b[1;32m----> 2\u001b[1;33m     \u001b[0mprint\u001b[0m\u001b[1;33m(\u001b[0m\u001b[0mx\u001b[0m\u001b[1;33m)\u001b[0m\u001b[1;33m\u001b[0m\u001b[1;33m\u001b[0m\u001b[0m\n\u001b[0m\u001b[0;32m      3\u001b[0m \u001b[0mprint_x\u001b[0m\u001b[1;33m(\u001b[0m\u001b[1;33m)\u001b[0m\u001b[1;33m\u001b[0m\u001b[1;33m\u001b[0m\u001b[0m\n",
      "\u001b[1;31mNameError\u001b[0m: name 'x' is not defined"
     ]
    }
   ],
   "source": [
    "def print_x():\n",
    "    print(x)\n",
    "print_x()"
   ]
  },
  {
   "cell_type": "code",
   "execution_count": 54,
   "id": "d2a6beba-38da-4e02-bcfb-5451b2192a91",
   "metadata": {},
   "outputs": [
    {
     "name": "stdout",
     "output_type": "stream",
     "text": [
      "2\n"
     ]
    }
   ],
   "source": [
    "def print_y():\n",
    "    y = 2\n",
    "    print(y)\n",
    "print_y()"
   ]
  },
  {
   "cell_type": "code",
   "execution_count": 55,
   "id": "950cd6eb-b0d1-4b00-867c-e10545ff1955",
   "metadata": {},
   "outputs": [
    {
     "ename": "NameError",
     "evalue": "name 'y' is not defined",
     "output_type": "error",
     "traceback": [
      "\u001b[1;31m---------------------------------------------------------------------------\u001b[0m",
      "\u001b[1;31mNameError\u001b[0m                                 Traceback (most recent call last)",
      "\u001b[1;32m~\\AppData\\Local\\Temp/ipykernel_9832/3563912222.py\u001b[0m in \u001b[0;36m<module>\u001b[1;34m\u001b[0m\n\u001b[1;32m----> 1\u001b[1;33m \u001b[0my\u001b[0m\u001b[1;33m\u001b[0m\u001b[1;33m\u001b[0m\u001b[0m\n\u001b[0m",
      "\u001b[1;31mNameError\u001b[0m: name 'y' is not defined"
     ]
    }
   ],
   "source": [
    "y"
   ]
  },
  {
   "cell_type": "code",
   "execution_count": 56,
   "id": "6db8572e-746e-4816-9b37-bf5e938c1952",
   "metadata": {},
   "outputs": [
    {
     "name": "stdout",
     "output_type": "stream",
     "text": [
      "7\n"
     ]
    }
   ],
   "source": [
    "def new_x():\n",
    "    x = 7\n",
    "    print(x)\n",
    "new_x()"
   ]
  },
  {
   "cell_type": "markdown",
   "id": "abfd0517-0d80-430a-bae3-7888718a30f1",
   "metadata": {},
   "source": [
    "The default values are evaluated at the point of function definition"
   ]
  },
  {
   "cell_type": "code",
   "execution_count": 57,
   "id": "6af7dce0-3c12-4f33-9fcd-b21ab3bcbb6b",
   "metadata": {},
   "outputs": [
    {
     "ename": "NameError",
     "evalue": "name 'x' is not defined",
     "output_type": "error",
     "traceback": [
      "\u001b[1;31m---------------------------------------------------------------------------\u001b[0m",
      "\u001b[1;31mNameError\u001b[0m                                 Traceback (most recent call last)",
      "\u001b[1;32m~\\AppData\\Local\\Temp/ipykernel_9832/2034078106.py\u001b[0m in \u001b[0;36m<module>\u001b[1;34m\u001b[0m\n\u001b[1;32m----> 1\u001b[1;33m \u001b[0mprint\u001b[0m\u001b[1;33m(\u001b[0m\u001b[0mx\u001b[0m\u001b[1;33m)\u001b[0m \u001b[1;31m# 3 or 7\u001b[0m\u001b[1;33m\u001b[0m\u001b[1;33m\u001b[0m\u001b[0m\n\u001b[0m",
      "\u001b[1;31mNameError\u001b[0m: name 'x' is not defined"
     ]
    }
   ],
   "source": [
    "print(x) # 3 or 7"
   ]
  },
  {
   "cell_type": "code",
   "execution_count": 58,
   "id": "04c1797f-d03f-4770-9a8f-ad7a38ad4cec",
   "metadata": {},
   "outputs": [],
   "source": [
    "def f(a, L=[]):\n",
    "    L.append(a)\n",
    "    return L"
   ]
  },
  {
   "cell_type": "code",
   "execution_count": 59,
   "id": "f6ce3577-453d-4e98-8378-9deaf4e61e89",
   "metadata": {},
   "outputs": [
    {
     "name": "stdout",
     "output_type": "stream",
     "text": [
      "[1]\n",
      "[1, 2]\n",
      "[1, 2, 3]\n"
     ]
    }
   ],
   "source": [
    "print(f(1))\n",
    "print(f(2)) # [2]?\n",
    "print(f(3))"
   ]
  },
  {
   "cell_type": "code",
   "execution_count": 60,
   "id": "9c0b95fd-d694-486c-b599-10fac540b9fd",
   "metadata": {},
   "outputs": [
    {
     "name": "stdout",
     "output_type": "stream",
     "text": [
      "[1]\n",
      "[1, 5]\n"
     ]
    }
   ],
   "source": [
    "x = []\n",
    "\n",
    "def f(a, L=x):\n",
    "    L.append(a)\n",
    "    return L\n",
    "\n",
    "print(f(1))\n",
    "x.append(5)\n",
    "print(x) # [5], [1, 5]?"
   ]
  },
  {
   "cell_type": "code",
   "execution_count": 61,
   "id": "6e4ef95a-f192-43d7-ab27-960359b2e647",
   "metadata": {},
   "outputs": [
    {
     "data": {
      "text/plain": [
       "[3, 2]"
      ]
     },
     "execution_count": 61,
     "metadata": {},
     "output_type": "execute_result"
    }
   ],
   "source": [
    "f(2, [3])"
   ]
  },
  {
   "cell_type": "code",
   "execution_count": 62,
   "id": "b4372930-d67d-4144-b7b7-800531a77c03",
   "metadata": {},
   "outputs": [
    {
     "data": {
      "text/plain": [
       "[1, 5, 1]"
      ]
     },
     "execution_count": 62,
     "metadata": {},
     "output_type": "execute_result"
    }
   ],
   "source": [
    "f(1)"
   ]
  },
  {
   "cell_type": "markdown",
   "id": "044d37e9-20f6-48c5-9037-b2a6016f6ded",
   "metadata": {},
   "source": [
    "lambda functions"
   ]
  },
  {
   "cell_type": "code",
   "execution_count": null,
   "id": "698edb47-e0fd-4ef7-a844-46ef702bc9cb",
   "metadata": {},
   "outputs": [],
   "source": []
  },
  {
   "cell_type": "code",
   "execution_count": null,
   "id": "50c93a2e-0ec9-44cf-a92c-58ea38a11175",
   "metadata": {},
   "outputs": [],
   "source": []
  },
  {
   "cell_type": "code",
   "execution_count": null,
   "id": "d3b2f0d5-7915-4d8d-98ad-4d7eb7bbc130",
   "metadata": {},
   "outputs": [],
   "source": []
  },
  {
   "cell_type": "code",
   "execution_count": null,
   "id": "06326e4a-1d0f-45ec-a482-14d1e1c740c8",
   "metadata": {},
   "outputs": [],
   "source": []
  }
 ],
 "metadata": {
  "kernelspec": {
   "display_name": "Python 3 (ipykernel)",
   "language": "python",
   "name": "python3"
  },
  "language_info": {
   "codemirror_mode": {
    "name": "ipython",
    "version": 3
   },
   "file_extension": ".py",
   "mimetype": "text/x-python",
   "name": "python",
   "nbconvert_exporter": "python",
   "pygments_lexer": "ipython3",
   "version": "3.9.7"
  }
 },
 "nbformat": 4,
 "nbformat_minor": 5
}
