{
 "cells": [
  {
   "cell_type": "markdown",
   "metadata": {},
   "source": [
    "Last time: `int`, `float`, `bool`, `str`, variable assignments\n",
    "\n",
    "Today: indexing, slicing, `list`, how objects work in Python\n",
    "\n",
    "`int` and `float` operations:"
   ]
  },
  {
   "cell_type": "code",
   "execution_count": 1,
   "metadata": {},
   "outputs": [
    {
     "name": "stdout",
     "output_type": "stream",
     "text": [
      "7\n",
      "3\n",
      "10\n",
      "2.5 <class 'float'>\n",
      "2.0\n"
     ]
    }
   ],
   "source": [
    "print(5 + 2)\n",
    "print(5 - 2)\n",
    "print(5 * 2)\n",
    "print(5 / 2, type(5/2)) # always returns a float\n",
    "print(4/2)"
   ]
  },
  {
   "cell_type": "code",
   "execution_count": 3,
   "metadata": {},
   "outputs": [
    {
     "name": "stdout",
     "output_type": "stream",
     "text": [
      "2 <class 'int'>\n",
      "1\n",
      "25\n",
      "7\n",
      "1\n",
      "0\n"
     ]
    }
   ],
   "source": [
    "print(5 // 2, type(5//2)) # floor division (divide and take the int)\n",
    "print(5 % 2) # remainder\n",
    "\n",
    "# every 100 steps print where I am now, print progress\n",
    "# if step % 100 == 0:\n",
    "#    print progress\n",
    "\n",
    "print(5 ** 2) # power\n",
    "\n",
    "print(5 ^ 2) # this is NOT power operation\n",
    "print(3^2)\n",
    "print(1 ^ 1)"
   ]
  },
  {
   "cell_type": "markdown",
   "metadata": {},
   "source": [
    "A little bit more about `str`:"
   ]
  },
  {
   "cell_type": "code",
   "execution_count": 11,
   "metadata": {},
   "outputs": [
    {
     "name": "stdout",
     "output_type": "stream",
     "text": [
      "10\n",
      "abc def\n"
     ]
    }
   ],
   "source": [
    "s = '0123456789'\n",
    "#s = \"0123456789\"\n",
    "\n",
    "# get length\n",
    "print(len(s))\n",
    "\n",
    "# concatenate with +\n",
    "print( \"abc\" + \" \" + \"def\" )"
   ]
  },
  {
   "cell_type": "code",
   "execution_count": 19,
   "metadata": {},
   "outputs": [
    {
     "name": "stdout",
     "output_type": "stream",
     "text": [
      "789\n"
     ]
    }
   ],
   "source": [
    "print(s[-3:])"
   ]
  },
  {
   "cell_type": "code",
   "execution_count": 13,
   "metadata": {},
   "outputs": [
    {
     "name": "stdout",
     "output_type": "stream",
     "text": [
      "0 3\n",
      "9 9 9\n",
      "7\n",
      "012\n",
      "012\n",
      "9876543210\n",
      "97531\n",
      "02468\n",
      "2345678\n"
     ]
    }
   ],
   "source": [
    "# indexing\n",
    "print(s[0], s[3])\n",
    "print(s[9], s[len(s)-1], s[-1])\n",
    "print(s[-3])\n",
    "\n",
    "# slicing\n",
    "print(s[0:3:1]) \n",
    "\n",
    "# start:end:step, start is included, end is NOT included\n",
    "# if there is no step, assume 1\n",
    "# if there is no start, assume very beginning (0)\n",
    "# if there is no end, assume very end + 1 (len(s))\n",
    "# very intuitive once you get used to it: s[:x], s[-x:]\n",
    "\n",
    "print(s[:3])\n",
    "print(s[::-1])\n",
    "\n",
    "print(s[::-2])\n",
    "print (s[:-1:2])\n",
    "print (s[2:-1])\n",
    "\n"
   ]
  },
  {
   "cell_type": "code",
   "execution_count": 15,
   "metadata": {},
   "outputs": [
    {
     "name": "stdout",
     "output_type": "stream",
     "text": [
      "strinstrinstrin\n"
     ]
    }
   ],
   "source": [
    "print (\"strin\" *3 )"
   ]
  },
  {
   "cell_type": "markdown",
   "metadata": {},
   "source": [
    "More string methods https://docs.python.org/3/library/stdtypes.html#string-methods (hint, some might be useful for HW1...)\n",
    "\n",
    "Personally I use `strip`, `replace`, `split`, `splitlines`, `join`, and capitalization-related ones pretty often. Definitely *don't* sit down and memorize them, but keep this link handy!\n",
    "\n",
    "Try running these lines later:\n",
    "```Python\n",
    "s =  '   spacious    '\n",
    "print(s.strip())\n",
    "\n",
    "s =  'aaahh   panic    aahhh'\n",
    "print(s.strip('ah'))\n",
    "print(s.strip('ah '))\n",
    "\n",
    "L = [\"ba\", \"na\", \"na\"]\n",
    "print(\"\".join(L))\n",
    "print(\" \".join(L))\n",
    "print(\"---\".join(L))\n",
    "```\n",
    "\n",
    "Q: They can be useful tools for file paths (e.g. '/Users/harlinl/Box Sync/PIC/16A/lectures') - how so?"
   ]
  },
  {
   "cell_type": "code",
   "execution_count": 6,
   "metadata": {},
   "outputs": [
    {
     "name": "stdout",
     "output_type": "stream",
     "text": [
      "spacious\n",
      "<class 'str'>\n",
      "   panic    \n",
      "panic\n",
      "<class 'list'>\n",
      "banana\n",
      "ba na na\n",
      "ba---na---na\n"
     ]
    }
   ],
   "source": [
    "s =  '   spacious    '\n",
    "print(s.strip())\n",
    "\n",
    "s =  'aaahh   panic    aahhh'\n",
    "print(type(s))\n",
    "print(s.strip('ah'))\n",
    "print(s.strip('ah '))\n",
    "\n",
    "L = [\"ba\", \"na\", \"na\"]\n",
    "print(type(L))\n",
    "print(\"\".join(L))\n",
    "print(\" \".join(L))\n",
    "print(\"---\".join(L))"
   ]
  },
  {
   "cell_type": "code",
   "execution_count": 3,
   "metadata": {},
   "outputs": [
    {
     "name": "stdout",
     "output_type": "stream",
     "text": [
      "Tired    \n"
     ]
    }
   ],
   "source": [
    "s = \"Tired    : Doing math on your calculator.\\nWired    : Doing math in Python.\\nInspired : Training literal pythons to carry out long division using an abacus.\"\n",
    "\n",
    "##print(s.replace(': ', '\\n'))\n",
    "print(s[0:s.find(\":\")])\n"
   ]
  },
  {
   "cell_type": "markdown",
   "metadata": {
    "tags": []
   },
   "source": [
    "## `list`"
   ]
  },
  {
   "cell_type": "code",
   "execution_count": 21,
   "metadata": {},
   "outputs": [
    {
     "name": "stdout",
     "output_type": "stream",
     "text": [
      "[1, 2, 'meow', 4, '5'] <class 'list'>\n"
     ]
    }
   ],
   "source": [
    "L = [1, 2, \"meow\", 4, '5'] # can have mixed types\n",
    "print(L, type(L))"
   ]
  },
  {
   "cell_type": "code",
   "execution_count": 22,
   "metadata": {},
   "outputs": [
    {
     "name": "stdout",
     "output_type": "stream",
     "text": [
      "5\n",
      "[0, 1, 2, 3, 4, 5.0]\n",
      "2 3\n",
      "[4, 3, 2, 1, 0]\n"
     ]
    }
   ],
   "source": [
    "L = [0, 1, 2, 3, 4]\n",
    "# len, +, indexing, slicing - same as str\n",
    "\n",
    "print(len(L))\n",
    "print(L + [5.0])\n",
    "print(L[2], L[-2])\n",
    "print(L[::-1])\n",
    "\n"
   ]
  },
  {
   "cell_type": "code",
   "execution_count": 23,
   "metadata": {},
   "outputs": [
    {
     "name": "stdout",
     "output_type": "stream",
     "text": [
      "[0]\n",
      "[0, 1]\n"
     ]
    }
   ],
   "source": [
    "# lists have append\n",
    "\n",
    "L = [0]\n",
    "print(L)\n",
    "\n",
    "L.append(1) # L.append([1]) is a common mistake\n",
    "print(L)"
   ]
  },
  {
   "cell_type": "code",
   "execution_count": 26,
   "metadata": {},
   "outputs": [
    {
     "name": "stdout",
     "output_type": "stream",
     "text": [
      "['hello', 2, 'meow', 4, '5']\n"
     ]
    }
   ],
   "source": [
    "# lists have item assignment\n",
    "\n",
    "L = [1, 2, \"meow\", 4, '5']\n",
    "\n",
    "L[0] = \"hello\"\n",
    "print(L)"
   ]
  },
  {
   "cell_type": "code",
   "execution_count": 9,
   "metadata": {},
   "outputs": [],
   "source": [
    "L = [0]\n",
    "L.append(1) # [0, 1]\n",
    "\n",
    "\n",
    "L = [0]\n",
    "L = L + [1] # [0, 1]\n"
   ]
  },
  {
   "cell_type": "markdown",
   "metadata": {},
   "source": [
    "More list methods: https://docs.python.org/3/tutorial/datastructures.html#more-on-lists\n",
    "\n",
    "Some more exercises in https://docs.python.org/3/tutorial/introduction.html#lists."
   ]
  },
  {
   "cell_type": "markdown",
   "metadata": {},
   "source": [
    "## This part is important!\n",
    "Objects are Python's abstractions of data.\n",
    "\n",
    "https://docs.python.org/3/reference/datamodel.html#objects-values-and-types\n",
    "\n",
    "In `x = 0`, then `0` is the object, and `x` is the name (variable name).\n",
    "\n",
    "An object has 3 things:\n",
    "- an identity: basically object's address in memory. use `id()`\n",
    "- a type: use `type()`\n",
    "- a value"
   ]
  },
  {
   "cell_type": "code",
   "execution_count": 27,
   "metadata": {},
   "outputs": [
    {
     "name": "stdout",
     "output_type": "stream",
     "text": [
      "identity is 140231543232784\n",
      "type is <class 'int'>\n",
      "value is 0\n"
     ]
    }
   ],
   "source": [
    "x = 0\n",
    "print('identity is', id(x))\n",
    "print('type is', type(x))\n",
    "print('value is', x)"
   ]
  },
  {
   "cell_type": "markdown",
   "metadata": {},
   "source": [
    "![title](object.jpeg)"
   ]
  },
  {
   "cell_type": "code",
   "execution_count": 28,
   "metadata": {},
   "outputs": [
    {
     "name": "stdout",
     "output_type": "stream",
     "text": [
      "0 0\n",
      "0 1\n"
     ]
    }
   ],
   "source": [
    "x = 0\n",
    "y = x\n",
    "\n",
    "print(x, y)\n",
    "\n",
    "y = 1\n",
    "\n",
    "print(x, y)"
   ]
  },
  {
   "cell_type": "code",
   "execution_count": 29,
   "metadata": {},
   "outputs": [
    {
     "name": "stdout",
     "output_type": "stream",
     "text": [
      "[0] [0]\n",
      "[0] [1]\n"
     ]
    }
   ],
   "source": [
    "x = [0]\n",
    "y = x\n",
    "\n",
    "print(x, y)\n",
    "\n",
    "y = [1]\n",
    "print(x, y)"
   ]
  },
  {
   "cell_type": "code",
   "execution_count": 32,
   "metadata": {},
   "outputs": [
    {
     "name": "stdout",
     "output_type": "stream",
     "text": [
      "[0] [0]\n",
      "140231675307200 140231675307200\n",
      "[0, 1] [0, 1]\n"
     ]
    }
   ],
   "source": [
    "x = [0]\n",
    "y = x\n",
    "\n",
    "print(x, y)\n",
    "print(id(x), id(y))\n",
    "\n",
    "y.append(1)\n",
    "\n",
    "print(x, y)"
   ]
  },
  {
   "cell_type": "code",
   "execution_count": 31,
   "metadata": {},
   "outputs": [
    {
     "name": "stdout",
     "output_type": "stream",
     "text": [
      "[0] [0]\n",
      "[0] [0, 1]\n"
     ]
    }
   ],
   "source": [
    "x = [0]\n",
    "y = [0]\n",
    "\n",
    "print(x, y)\n",
    "\n",
    "y.append(1)\n",
    "\n",
    "print(x, y)"
   ]
  },
  {
   "cell_type": "code",
   "execution_count": 35,
   "metadata": {},
   "outputs": [
    {
     "name": "stdout",
     "output_type": "stream",
     "text": [
      "[0] [0]\n",
      "140231654269824 140231654269824\n",
      "[0, 1, 2] [0, 1, 2]\n",
      "140231654269824 140231654269824\n"
     ]
    }
   ],
   "source": [
    "x = [0]\n",
    "y = x\n",
    "\n",
    "print(x, y)\n",
    "print(id(x), id(y)) #\n",
    "\n",
    "x.append(1)\n",
    "y.append(2)\n",
    "\n",
    "print(x, y)\n",
    "print(id(x), id(y))"
   ]
  },
  {
   "cell_type": "code",
   "execution_count": 36,
   "metadata": {},
   "outputs": [
    {
     "name": "stdout",
     "output_type": "stream",
     "text": [
      "[0] [0]\n",
      "140231654672576 140231654672576\n",
      "[0, 1] [0, 2]\n",
      "140231654682944 140231675650624\n"
     ]
    }
   ],
   "source": [
    "x = [0]\n",
    "y = x\n",
    "\n",
    "print(x, y)\n",
    "print(id(x), id(y))\n",
    "\n",
    "x = x + [1]\n",
    "y = y + [2]\n",
    "\n",
    "print(x, y)\n",
    "print(id(x), id(y)) # note that not only are they different from each other, they are also different from the original object!"
   ]
  },
  {
   "cell_type": "markdown",
   "metadata": {},
   "source": [
    "List of lists"
   ]
  },
  {
   "cell_type": "code",
   "execution_count": null,
   "metadata": {},
   "outputs": [],
   "source": []
  },
  {
   "cell_type": "markdown",
   "metadata": {},
   "source": [
    "'mutable' vs. 'immutable'"
   ]
  },
  {
   "cell_type": "code",
   "execution_count": null,
   "metadata": {},
   "outputs": [],
   "source": []
  },
  {
   "cell_type": "code",
   "execution_count": null,
   "metadata": {},
   "outputs": [],
   "source": []
  },
  {
   "cell_type": "code",
   "execution_count": null,
   "metadata": {},
   "outputs": [],
   "source": []
  },
  {
   "cell_type": "markdown",
   "metadata": {},
   "source": [
    "Strings and lists\n",
    "\n",
    "`tuple`"
   ]
  },
  {
   "cell_type": "code",
   "execution_count": null,
   "metadata": {},
   "outputs": [],
   "source": []
  },
  {
   "cell_type": "code",
   "execution_count": null,
   "metadata": {},
   "outputs": [],
   "source": []
  },
  {
   "cell_type": "code",
   "execution_count": null,
   "metadata": {},
   "outputs": [],
   "source": []
  },
  {
   "cell_type": "code",
   "execution_count": null,
   "metadata": {},
   "outputs": [],
   "source": []
  },
  {
   "cell_type": "code",
   "execution_count": null,
   "metadata": {},
   "outputs": [],
   "source": []
  }
 ],
 "metadata": {
  "kernelspec": {
   "display_name": "Python 3 (ipykernel)",
   "language": "python",
   "name": "python3"
  },
  "language_info": {
   "codemirror_mode": {
    "name": "ipython",
    "version": 3
   },
   "file_extension": ".py",
   "mimetype": "text/x-python",
   "name": "python",
   "nbconvert_exporter": "python",
   "pygments_lexer": "ipython3",
   "version": "3.9.7"
  }
 },
 "nbformat": 4,
 "nbformat_minor": 4
}
