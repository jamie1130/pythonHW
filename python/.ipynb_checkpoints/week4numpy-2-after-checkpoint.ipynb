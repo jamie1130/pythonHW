{
 "cells": [
  {
   "cell_type": "markdown",
   "id": "a139673d-9ced-4529-87cf-d5a848adfd78",
   "metadata": {},
   "source": [
    "Announcements:\n",
    "\n",
    "- See \"Important update!\" email for logistics.\n",
    "- HW3 due Monday, HW4 due Thursday\n",
    "- Project details are out! You should read them before Quiz 4.\n",
    "\n",
    "Wednesday: Introduction to numpy\n",
    "    \n",
    "Friday: numpy part 2"
   ]
  },
  {
   "cell_type": "markdown",
   "id": "515884d2-764e-4da3-9507-526829fced7c",
   "metadata": {},
   "source": [
    "![title](cat.jpg)"
   ]
  },
  {
   "cell_type": "code",
   "execution_count": 6,
   "id": "47de0f79-713d-42eb-90ea-74e366cd2c6d",
   "metadata": {},
   "outputs": [],
   "source": [
    "import numpy as np"
   ]
  },
  {
   "cell_type": "code",
   "execution_count": 7,
   "id": "4a49f120-0cde-473d-bd5d-926398c55560",
   "metadata": {},
   "outputs": [
    {
     "data": {
      "text/plain": [
       "array([[ 0,  1,  2,  3,  4],\n",
       "       [ 5,  6,  7,  8,  9],\n",
       "       [10, 11, 12, 13, 14]])"
      ]
     },
     "execution_count": 7,
     "metadata": {},
     "output_type": "execute_result"
    }
   ],
   "source": [
    "A = np.reshape(np.arange(15), (3, 5))\n",
    "A"
   ]
  },
  {
   "cell_type": "markdown",
   "id": "5aa6922d-2d51-416a-a60d-86127396fb5e",
   "metadata": {},
   "source": [
    "multidimensional arrays"
   ]
  },
  {
   "cell_type": "code",
   "execution_count": 8,
   "id": "9c74294d-be30-4ce9-a669-7ef912e1fa41",
   "metadata": {},
   "outputs": [
    {
     "data": {
      "text/plain": [
       "2"
      ]
     },
     "execution_count": 8,
     "metadata": {},
     "output_type": "execute_result"
    }
   ],
   "source": [
    "A[0, 2] # zeroth row, second column of A"
   ]
  },
  {
   "cell_type": "code",
   "execution_count": 9,
   "id": "91daa276-acd4-41e8-916a-986dcc7e0f16",
   "metadata": {},
   "outputs": [
    {
     "data": {
      "text/plain": [
       "10"
      ]
     },
     "execution_count": 9,
     "metadata": {},
     "output_type": "execute_result"
    }
   ],
   "source": [
    "A[-1, 0] # last row, 0th column of A"
   ]
  },
  {
   "cell_type": "code",
   "execution_count": 10,
   "id": "3c5a3dd7-ebfe-4027-9eef-eec3ce45c492",
   "metadata": {},
   "outputs": [
    {
     "data": {
      "text/plain": [
       "array([10, 11])"
      ]
     },
     "execution_count": 10,
     "metadata": {},
     "output_type": "execute_result"
    }
   ],
   "source": [
    "A[-1,:2]"
   ]
  },
  {
   "cell_type": "code",
   "execution_count": 11,
   "id": "de28e0e0-8b15-4ce7-b079-7b37a8860e62",
   "metadata": {},
   "outputs": [
    {
     "data": {
      "text/plain": [
       "array([10, 11, 12, 13, 14])"
      ]
     },
     "execution_count": 11,
     "metadata": {},
     "output_type": "execute_result"
    }
   ],
   "source": [
    "A[-1, :] # the entire last row \n",
    "# start:end -> 0:len(sequence) -> : here  means \"everything along the dimension\""
   ]
  },
  {
   "cell_type": "code",
   "execution_count": 12,
   "id": "7b6dd3e9-2a8b-4d62-8c90-c45c9b598e3f",
   "metadata": {},
   "outputs": [
    {
     "data": {
      "text/plain": [
       "array([ 3,  8, 13])"
      ]
     },
     "execution_count": 12,
     "metadata": {},
     "output_type": "execute_result"
    }
   ],
   "source": [
    "A[:, 3] # the entire third column"
   ]
  },
  {
   "cell_type": "code",
   "execution_count": 13,
   "id": "1069e8f3-c5e4-4ec4-8f6c-7713aa849f07",
   "metadata": {},
   "outputs": [
    {
     "data": {
      "text/plain": [
       "array([ 1,  3,  5,  7,  9, 11, 13])"
      ]
     },
     "execution_count": 13,
     "metadata": {},
     "output_type": "execute_result"
    }
   ],
   "source": [
    "A[A % 2 == 1]# all the odd elements"
   ]
  },
  {
   "cell_type": "code",
   "execution_count": 14,
   "id": "d42e00aa-cc7e-426b-bf55-0cddbd113e92",
   "metadata": {},
   "outputs": [],
   "source": [
    "A[A % 2 == 1] += 2 # modify all the odd elements by +2"
   ]
  },
  {
   "cell_type": "code",
   "execution_count": 15,
   "id": "3a50853c-056c-4b1c-b177-32cc92cfd300",
   "metadata": {},
   "outputs": [
    {
     "data": {
      "text/plain": [
       "array([[ 0,  3,  2,  5,  4],\n",
       "       [ 7,  6,  9,  8, 11],\n",
       "       [10, 13, 12, 15, 14]])"
      ]
     },
     "execution_count": 15,
     "metadata": {},
     "output_type": "execute_result"
    }
   ],
   "source": [
    "A"
   ]
  },
  {
   "cell_type": "markdown",
   "id": "92921a00-bc4e-4ac4-8d91-ea29a9c8647d",
   "metadata": {},
   "source": [
    "Functions of Arrays"
   ]
  },
  {
   "cell_type": "code",
   "execution_count": 16,
   "id": "f4364827-a994-43d9-a11b-b6b4b8fc9110",
   "metadata": {},
   "outputs": [
    {
     "data": {
      "text/plain": [
       "(array([ 1,  2,  3,  4,  5,  6,  7,  8,  9, 10]),\n",
       " array([11, 12, 13, 14, 15, 16, 17, 18, 19, 20]))"
      ]
     },
     "execution_count": 16,
     "metadata": {},
     "output_type": "execute_result"
    }
   ],
   "source": [
    "A = np.arange(1, 11)\n",
    "B = np.arange(11, 21)\n",
    "A, B"
   ]
  },
  {
   "cell_type": "code",
   "execution_count": null,
   "id": "c6e5354d-a5ff-41f0-aca9-820e2c0c61a6",
   "metadata": {},
   "outputs": [],
   "source": [
    "# f([x1, x2, x3, ... ]) -> [f(x1), f(x2), ... ]"
   ]
  },
  {
   "cell_type": "code",
   "execution_count": 17,
   "id": "fac7d919-da43-40f4-9eba-550edc31e7d4",
   "metadata": {},
   "outputs": [
    {
     "data": {
      "text/plain": [
       "array([ -1,  -2,  -3,  -4,  -5,  -6,  -7,  -8,  -9, -10])"
      ]
     },
     "execution_count": 17,
     "metadata": {},
     "output_type": "execute_result"
    }
   ],
   "source": [
    "-A # negate an array"
   ]
  },
  {
   "cell_type": "code",
   "execution_count": 18,
   "id": "63ea1597-4481-47a8-8746-07e792e76747",
   "metadata": {},
   "outputs": [
    {
     "data": {
      "text/plain": [
       "array([ 1,  2,  3,  4,  5,  6,  7,  8,  9, 10])"
      ]
     },
     "execution_count": 18,
     "metadata": {},
     "output_type": "execute_result"
    }
   ],
   "source": [
    "np.abs(-A)"
   ]
  },
  {
   "cell_type": "code",
   "execution_count": 19,
   "id": "7b56eb73-7922-45a0-9c8e-fc122a96f985",
   "metadata": {},
   "outputs": [
    {
     "data": {
      "text/plain": [
       "array([12, 14, 16, 18, 20, 22, 24, 26, 28, 30])"
      ]
     },
     "execution_count": 19,
     "metadata": {},
     "output_type": "execute_result"
    }
   ],
   "source": [
    "A + B"
   ]
  },
  {
   "cell_type": "code",
   "execution_count": 20,
   "id": "936dcd40-46ae-4486-9df1-81e5b6c49811",
   "metadata": {},
   "outputs": [
    {
     "data": {
      "text/plain": [
       "array([-10, -10, -10, -10, -10, -10, -10, -10, -10, -10])"
      ]
     },
     "execution_count": 20,
     "metadata": {},
     "output_type": "execute_result"
    }
   ],
   "source": [
    "A - B"
   ]
  },
  {
   "cell_type": "code",
   "execution_count": 21,
   "id": "d00aedc2-f7b4-463a-aed9-395981683ad3",
   "metadata": {},
   "outputs": [
    {
     "data": {
      "text/plain": [
       "array([                  1,                4096,             1594323,\n",
       "                 268435456,         30517578125,       2821109907456,\n",
       "           232630513987207,   18014398509481984, 1350851717672992089,\n",
       "       7766279631452241920])"
      ]
     },
     "execution_count": 21,
     "metadata": {},
     "output_type": "execute_result"
    }
   ],
   "source": [
    "A ** B"
   ]
  },
  {
   "cell_type": "code",
   "execution_count": 22,
   "id": "43b60001-d381-40e4-b7ca-1ed696f3ddce",
   "metadata": {},
   "outputs": [
    {
     "data": {
      "text/plain": [
       "array([0.        , 1.57079633, 3.14159265])"
      ]
     },
     "execution_count": 22,
     "metadata": {},
     "output_type": "execute_result"
    }
   ],
   "source": [
    "theta = np.linspace(0, np.pi, 3)\n",
    "theta"
   ]
  },
  {
   "cell_type": "code",
   "execution_count": 24,
   "id": "c6f70995-9ba0-4c0a-a349-0a74313de679",
   "metadata": {},
   "outputs": [
    {
     "name": "stdout",
     "output_type": "stream",
     "text": [
      "[0.0000000e+00 1.0000000e+00 1.2246468e-16]\n"
     ]
    }
   ],
   "source": [
    "print(np.sin(theta))"
   ]
  },
  {
   "cell_type": "code",
   "execution_count": 25,
   "id": "0facb0c8-9b04-4718-9b0c-d37c47b10578",
   "metadata": {},
   "outputs": [
    {
     "name": "stdout",
     "output_type": "stream",
     "text": [
      "[ 1.000000e+00  6.123234e-17 -1.000000e+00]\n"
     ]
    }
   ],
   "source": [
    "print(np.cos(theta))"
   ]
  },
  {
   "cell_type": "code",
   "execution_count": 26,
   "id": "37e84250-05fc-4bdb-b081-6d0445547d6f",
   "metadata": {},
   "outputs": [
    {
     "data": {
      "text/plain": [
       "array([ 0.00000000e+00,  1.63312394e+16, -1.22464680e-16])"
      ]
     },
     "execution_count": 26,
     "metadata": {},
     "output_type": "execute_result"
    }
   ],
   "source": [
    "np.tan(theta)"
   ]
  },
  {
   "cell_type": "code",
   "execution_count": 27,
   "id": "8eefe5da-8c07-4a35-a413-c531d36acbda",
   "metadata": {},
   "outputs": [],
   "source": [
    "x = np.array([1,2,3])"
   ]
  },
  {
   "cell_type": "code",
   "execution_count": 28,
   "id": "67823c3c-9361-4581-8e51-bc14c07a480f",
   "metadata": {},
   "outputs": [
    {
     "data": {
      "text/plain": [
       "array([2, 4, 8])"
      ]
     },
     "execution_count": 28,
     "metadata": {},
     "output_type": "execute_result"
    }
   ],
   "source": [
    "2 ** x # 2 **1, 2**2, 2**3, look up Reflected arithmetic operators later"
   ]
  },
  {
   "cell_type": "code",
   "execution_count": 29,
   "id": "ec1a2ca2-d00f-4661-863d-b9e3a31b8718",
   "metadata": {},
   "outputs": [
    {
     "data": {
      "text/plain": [
       "array([ 2.71828183,  7.3890561 , 20.08553692])"
      ]
     },
     "execution_count": 29,
     "metadata": {},
     "output_type": "execute_result"
    }
   ],
   "source": [
    "np.exp(x) # e ** x"
   ]
  },
  {
   "cell_type": "code",
   "execution_count": 30,
   "id": "1a7da7fc-fb93-4a20-9a0b-733cb9d8bce8",
   "metadata": {},
   "outputs": [
    {
     "data": {
      "text/plain": [
       "array([0.        , 0.69314718, 1.09861229])"
      ]
     },
     "execution_count": 30,
     "metadata": {},
     "output_type": "execute_result"
    }
   ],
   "source": [
    "np.log(x) # natural log (ln)"
   ]
  },
  {
   "cell_type": "code",
   "execution_count": 31,
   "id": "148114cb-2683-4473-8a19-c0da58f5f265",
   "metadata": {},
   "outputs": [
    {
     "data": {
      "text/plain": [
       "(array([0.       , 1.       , 1.5849625]),\n",
       " array([0.        , 0.30103   , 0.47712125]))"
      ]
     },
     "execution_count": 31,
     "metadata": {},
     "output_type": "execute_result"
    }
   ],
   "source": [
    "np.log2(x), np.log10(x)"
   ]
  },
  {
   "cell_type": "markdown",
   "id": "35f1dc0b-e5ec-486a-b2a2-4f173a28af70",
   "metadata": {},
   "source": [
    "`NaN` `np.nan` Not A Number"
   ]
  },
  {
   "cell_type": "code",
   "execution_count": 32,
   "id": "36512a91-96ff-4e18-8c6b-a5a59dc413e2",
   "metadata": {},
   "outputs": [
    {
     "name": "stderr",
     "output_type": "stream",
     "text": [
      "/var/folders/t0/z7bd7v710dv11qgg7r8r3k300000gp/T/ipykernel_20106/611737383.py:3: RuntimeWarning: invalid value encountered in log\n",
      "  x, np.log(x)\n"
     ]
    },
    {
     "data": {
      "text/plain": [
       "(array([ 1, -2]), array([ 0., nan]))"
      ]
     },
     "execution_count": 32,
     "metadata": {},
     "output_type": "execute_result"
    }
   ],
   "source": [
    "x = np.array([1, -2])\n",
    "\n",
    "x, np.log(x)"
   ]
  },
  {
   "cell_type": "code",
   "execution_count": null,
   "id": "3346e412-9199-4548-a9ae-f85a6b4b902d",
   "metadata": {},
   "outputs": [],
   "source": []
  },
  {
   "cell_type": "code",
   "execution_count": null,
   "id": "1c43f6d2-f78b-4876-b749-797d1545b794",
   "metadata": {},
   "outputs": [],
   "source": []
  },
  {
   "cell_type": "markdown",
   "id": "16ac4d64-1e56-4641-a4f1-729770ff5c8e",
   "metadata": {},
   "source": [
    "`NaN` values propagate"
   ]
  },
  {
   "cell_type": "code",
   "execution_count": 33,
   "id": "9f13795d-f864-48fd-85ac-1051db436db2",
   "metadata": {},
   "outputs": [
    {
     "name": "stdout",
     "output_type": "stream",
     "text": [
      "[ 0. nan]\n",
      "[ 2. nan]\n"
     ]
    },
    {
     "name": "stderr",
     "output_type": "stream",
     "text": [
      "/var/folders/t0/z7bd7v710dv11qgg7r8r3k300000gp/T/ipykernel_20106/30222960.py:1: RuntimeWarning: invalid value encountered in log\n",
      "  y = np.log(x)\n"
     ]
    }
   ],
   "source": [
    "y = np.log(x)\n",
    "print(y)\n",
    "print(y+2)"
   ]
  },
  {
   "cell_type": "markdown",
   "id": "f7240dd5-72a3-4ed1-957b-2b2a422fe247",
   "metadata": {},
   "source": [
    "`np.inf`"
   ]
  },
  {
   "cell_type": "code",
   "execution_count": 34,
   "id": "7347c674-6ec6-4382-a47e-e73f53f29f19",
   "metadata": {},
   "outputs": [],
   "source": [
    "z = np.array([1, 2])\n",
    "\n",
    "r = np.zeros(2)"
   ]
  },
  {
   "cell_type": "code",
   "execution_count": 35,
   "id": "db1b6032-bf89-4af7-ab2a-205305b008d4",
   "metadata": {},
   "outputs": [
    {
     "name": "stderr",
     "output_type": "stream",
     "text": [
      "/var/folders/t0/z7bd7v710dv11qgg7r8r3k300000gp/T/ipykernel_20106/3700682475.py:1: RuntimeWarning: divide by zero encountered in true_divide\n",
      "  z/r\n"
     ]
    },
    {
     "data": {
      "text/plain": [
       "array([inf, inf])"
      ]
     },
     "execution_count": 35,
     "metadata": {},
     "output_type": "execute_result"
    }
   ],
   "source": [
    "z/r"
   ]
  },
  {
   "cell_type": "code",
   "execution_count": 36,
   "id": "0d77e17d-7a85-4c62-a2d6-63db1827be99",
   "metadata": {},
   "outputs": [
    {
     "name": "stderr",
     "output_type": "stream",
     "text": [
      "/var/folders/t0/z7bd7v710dv11qgg7r8r3k300000gp/T/ipykernel_20106/181303701.py:1: RuntimeWarning: invalid value encountered in true_divide\n",
      "  r/r\n"
     ]
    },
    {
     "data": {
      "text/plain": [
       "array([nan, nan])"
      ]
     },
     "execution_count": 36,
     "metadata": {},
     "output_type": "execute_result"
    }
   ],
   "source": [
    "r/r"
   ]
  },
  {
   "cell_type": "code",
   "execution_count": 38,
   "id": "8ec7ed9e-f121-45a3-99b1-9ea00ec68a53",
   "metadata": {},
   "outputs": [
    {
     "data": {
      "text/plain": [
       "float"
      ]
     },
     "execution_count": 38,
     "metadata": {},
     "output_type": "execute_result"
    }
   ],
   "source": [
    "type(np.nan)"
   ]
  },
  {
   "cell_type": "markdown",
   "id": "a790bcab-6de6-4b7a-bb67-75c5dae3f456",
   "metadata": {},
   "source": [
    "Aggregation Functions\n"
   ]
  },
  {
   "cell_type": "code",
   "execution_count": 40,
   "id": "1bf8e5c0-3099-44dc-b127-e2e4c98aca78",
   "metadata": {},
   "outputs": [
    {
     "data": {
      "text/plain": [
       "array([0, 1, 2, 3, 4, 5, 6, 7, 8, 9])"
      ]
     },
     "execution_count": 40,
     "metadata": {},
     "output_type": "execute_result"
    }
   ],
   "source": [
    "a = np.arange(10)\n",
    "a"
   ]
  },
  {
   "cell_type": "code",
   "execution_count": 41,
   "id": "afe70b39-6206-4182-a8bb-b5b08686c5f7",
   "metadata": {},
   "outputs": [],
   "source": [
    "# g([x1, x2, x3, ...]) -> y"
   ]
  },
  {
   "cell_type": "code",
   "execution_count": 42,
   "id": "76ab7f39-de2b-45a5-aa64-96db90451283",
   "metadata": {},
   "outputs": [
    {
     "data": {
      "text/plain": [
       "(45, 45)"
      ]
     },
     "execution_count": 42,
     "metadata": {},
     "output_type": "execute_result"
    }
   ],
   "source": [
    "np.sum(a), a.sum()"
   ]
  },
  {
   "cell_type": "code",
   "execution_count": 43,
   "id": "cf05ae0e-9dc9-4e08-842b-9953cd8e77db",
   "metadata": {},
   "outputs": [
    {
     "data": {
      "text/plain": [
       "4.5"
      ]
     },
     "execution_count": 43,
     "metadata": {},
     "output_type": "execute_result"
    }
   ],
   "source": [
    "a.mean()"
   ]
  },
  {
   "cell_type": "code",
   "execution_count": 44,
   "id": "6ad44808-6fb0-4d58-bf4f-a711b4e05cee",
   "metadata": {},
   "outputs": [
    {
     "data": {
      "text/plain": [
       "(0, 9)"
      ]
     },
     "execution_count": 44,
     "metadata": {},
     "output_type": "execute_result"
    }
   ],
   "source": [
    "a.min(), a.max()"
   ]
  },
  {
   "cell_type": "code",
   "execution_count": 45,
   "id": "0ad4de53-30c7-4739-b7af-25cc89493d4d",
   "metadata": {},
   "outputs": [
    {
     "data": {
      "text/plain": [
       "0"
      ]
     },
     "execution_count": 45,
     "metadata": {},
     "output_type": "execute_result"
    }
   ],
   "source": [
    "a.prod() # for product \n",
    "# example: a.shape gives me (3, 5), np.prod(a.shape) gives me 15, which is the number of elements in the array\n",
    "# "
   ]
  },
  {
   "cell_type": "code",
   "execution_count": 52,
   "id": "10265a44-0c35-4280-baa3-2ce226fcd302",
   "metadata": {},
   "outputs": [
    {
     "data": {
      "text/plain": [
       "3"
      ]
     },
     "execution_count": 52,
     "metadata": {},
     "output_type": "execute_result"
    }
   ],
   "source": [
    "b = np.array([1,2,3])\n",
    "len(b)"
   ]
  },
  {
   "cell_type": "code",
   "execution_count": 46,
   "id": "9de22236-dc41-4aab-9498-1bc2f8035f80",
   "metadata": {},
   "outputs": [
    {
     "data": {
      "text/plain": [
       "3628800"
      ]
     },
     "execution_count": 46,
     "metadata": {},
     "output_type": "execute_result"
    }
   ],
   "source": [
    "(a+1).prod()"
   ]
  },
  {
   "cell_type": "code",
   "execution_count": 53,
   "id": "cc3f07d3-a411-456a-bdbe-624f790c737a",
   "metadata": {},
   "outputs": [
    {
     "data": {
      "text/plain": [
       "0.08039208135358215"
      ]
     },
     "execution_count": 53,
     "metadata": {},
     "output_type": "execute_result"
    }
   ],
   "source": [
    "x = np.random.rand(100) # 100 random numbers between 0 and 1 : Uniform([0, 1])\n",
    "x.var()\n",
    "\n",
    "# exercise: try to get the same results as x.var() without using the var() (only using mean)"
   ]
  },
  {
   "cell_type": "code",
   "execution_count": 55,
   "id": "bd5b1aea-3933-4122-b4af-c091644947c1",
   "metadata": {},
   "outputs": [
    {
     "data": {
      "text/plain": [
       "array([0.18166503, 0.93681887, 0.7921645 , 0.57090466, 0.54156092])"
      ]
     },
     "execution_count": 55,
     "metadata": {},
     "output_type": "execute_result"
    }
   ],
   "source": [
    "x[:5]"
   ]
  },
  {
   "cell_type": "code",
   "execution_count": 57,
   "id": "b22788f5-81de-411e-9360-bd9233ccbf76",
   "metadata": {},
   "outputs": [
    {
     "data": {
      "text/plain": [
       "3"
      ]
     },
     "execution_count": 57,
     "metadata": {},
     "output_type": "execute_result"
    }
   ],
   "source": [
    "np.random.randint(5) # Uniform({0, 1, 2, 3, 4})"
   ]
  },
  {
   "cell_type": "code",
   "execution_count": null,
   "id": "cbd46680-efa9-4326-a927-395d6a6e8442",
   "metadata": {},
   "outputs": [],
   "source": []
  },
  {
   "cell_type": "markdown",
   "id": "215f11b8-1215-4901-8c2c-2a742427ff9d",
   "metadata": {},
   "source": [
    "boolean aggregations"
   ]
  },
  {
   "cell_type": "code",
   "execution_count": 85,
   "id": "33cc6963-df1b-469d-a717-fc789c68182c",
   "metadata": {},
   "outputs": [
    {
     "data": {
      "text/plain": [
       "array([0, 1, 2, 3, 4, 5, 6, 7, 8, 9])"
      ]
     },
     "execution_count": 85,
     "metadata": {},
     "output_type": "execute_result"
    }
   ],
   "source": [
    "a = np.arange(10)\n",
    "a"
   ]
  },
  {
   "cell_type": "code",
   "execution_count": 90,
   "id": "e6b9823f-a5ff-4831-96e1-444afc897310",
   "metadata": {},
   "outputs": [
    {
     "data": {
      "text/plain": [
       "array([10, 11, 12, 13, 14, 15, 16, 17, 18, 19])"
      ]
     },
     "execution_count": 90,
     "metadata": {},
     "output_type": "execute_result"
    }
   ],
   "source": [
    "b = np.arange(10, 20)\n",
    "b"
   ]
  },
  {
   "cell_type": "code",
   "execution_count": 91,
   "id": "ef981a80-5ee4-4152-8686-66227e3dcba5",
   "metadata": {},
   "outputs": [
    {
     "data": {
      "text/plain": [
       "array([ True,  True,  True,  True,  True,  True,  True,  True,  True,\n",
       "        True])"
      ]
     },
     "execution_count": 91,
     "metadata": {},
     "output_type": "execute_result"
    }
   ],
   "source": [
    "b > a"
   ]
  },
  {
   "cell_type": "code",
   "execution_count": 86,
   "id": "0e701440-4804-4e74-8861-3b8389abe9b2",
   "metadata": {},
   "outputs": [
    {
     "data": {
      "text/plain": [
       "array([False, False, False, False, False, False, False, False, False,\n",
       "        True])"
      ]
     },
     "execution_count": 86,
     "metadata": {},
     "output_type": "execute_result"
    }
   ],
   "source": [
    "a > 8"
   ]
  },
  {
   "cell_type": "code",
   "execution_count": 87,
   "id": "87b1dc43-3ce6-4bfd-bbff-db88ad461fe6",
   "metadata": {},
   "outputs": [
    {
     "data": {
      "text/plain": [
       "array([False, False, False, False, False, False, False,  True, False,\n",
       "        True])"
      ]
     },
     "execution_count": 87,
     "metadata": {},
     "output_type": "execute_result"
    }
   ],
   "source": [
    "(a > 5) & (a % 2 ==1)"
   ]
  },
  {
   "cell_type": "code",
   "execution_count": 60,
   "id": "fbbb846d-7173-44e7-a345-858d540ad2ae",
   "metadata": {},
   "outputs": [
    {
     "data": {
      "text/plain": [
       "True"
      ]
     },
     "execution_count": 60,
     "metadata": {},
     "output_type": "execute_result"
    }
   ],
   "source": [
    "np.any(a > 8) # return True if ANY of the array elements are True"
   ]
  },
  {
   "cell_type": "code",
   "execution_count": 61,
   "id": "aa416f4a-7958-41d4-a6df-f382faee478b",
   "metadata": {},
   "outputs": [
    {
     "data": {
      "text/plain": [
       "True"
      ]
     },
     "execution_count": 61,
     "metadata": {},
     "output_type": "execute_result"
    }
   ],
   "source": [
    "np.all(a < 10) # return True if ALL of the array elements are True"
   ]
  },
  {
   "cell_type": "markdown",
   "id": "ef686d1b-c207-4a49-b6ef-6742b3b01308",
   "metadata": {},
   "source": [
    "Aggregation Along Multiple Dimensions\n"
   ]
  },
  {
   "cell_type": "code",
   "execution_count": 62,
   "id": "91f4ecc6-1784-4db3-afec-921de32fad51",
   "metadata": {},
   "outputs": [
    {
     "data": {
      "text/plain": [
       "array([[ 0,  1,  2,  3,  4],\n",
       "       [ 5,  6,  7,  8,  9],\n",
       "       [10, 11, 12, 13, 14]])"
      ]
     },
     "execution_count": 62,
     "metadata": {},
     "output_type": "execute_result"
    }
   ],
   "source": [
    "A = np.reshape(np.arange(15), (3, 5))\n",
    "A"
   ]
  },
  {
   "cell_type": "code",
   "execution_count": 63,
   "id": "d0f3c9e1-3331-4ae9-a68b-b49c852dc1d1",
   "metadata": {},
   "outputs": [
    {
     "data": {
      "text/plain": [
       "105"
      ]
     },
     "execution_count": 63,
     "metadata": {},
     "output_type": "execute_result"
    }
   ],
   "source": [
    "A.sum() #  by default, it adds up all the numbers in A"
   ]
  },
  {
   "cell_type": "code",
   "execution_count": 64,
   "id": "1c9403cd-daeb-4ae0-8015-9a7d78a58027",
   "metadata": {},
   "outputs": [
    {
     "data": {
      "text/plain": [
       "array([15, 18, 21, 24, 27])"
      ]
     },
     "execution_count": 64,
     "metadata": {},
     "output_type": "execute_result"
    }
   ],
   "source": [
    "A.sum(axis=0) # gives the totals in each column "
   ]
  },
  {
   "cell_type": "code",
   "execution_count": 65,
   "id": "71424a5a-0e25-42c4-97a7-93f4b4387bfd",
   "metadata": {},
   "outputs": [
    {
     "data": {
      "text/plain": [
       "array([10, 35, 60])"
      ]
     },
     "execution_count": 65,
     "metadata": {},
     "output_type": "execute_result"
    }
   ],
   "source": [
    "A.sum(axis=1) # gives the totals in each row"
   ]
  },
  {
   "cell_type": "code",
   "execution_count": 66,
   "id": "abbe938e-7a96-4711-9a12-b7d78bbac7f5",
   "metadata": {},
   "outputs": [
    {
     "data": {
      "text/plain": [
       "array([0, 1, 2, 3, 4])"
      ]
     },
     "execution_count": 66,
     "metadata": {},
     "output_type": "execute_result"
    }
   ],
   "source": [
    "A.min(axis=0)"
   ]
  },
  {
   "cell_type": "code",
   "execution_count": 67,
   "id": "99e7c350-3358-4013-85c5-09ee36c1c8d7",
   "metadata": {},
   "outputs": [
    {
     "data": {
      "text/plain": [
       "array([ 4,  9, 14])"
      ]
     },
     "execution_count": 67,
     "metadata": {},
     "output_type": "execute_result"
    }
   ],
   "source": [
    "A.max(axis=1)"
   ]
  },
  {
   "cell_type": "code",
   "execution_count": 68,
   "id": "c68ab62a-fc36-4688-9fad-a96de4399d2d",
   "metadata": {},
   "outputs": [
    {
     "data": {
      "text/plain": [
       "array([ 2.,  7., 12.])"
      ]
     },
     "execution_count": 68,
     "metadata": {},
     "output_type": "execute_result"
    }
   ],
   "source": [
    "A.mean(axis=1)"
   ]
  },
  {
   "cell_type": "code",
   "execution_count": 69,
   "id": "39ea657a-7f8c-48a9-93ca-207d3860ed1b",
   "metadata": {},
   "outputs": [
    {
     "data": {
      "text/plain": [
       "array([0, 1, 2, 3, 4, 5, 6, 7, 8, 9])"
      ]
     },
     "execution_count": 69,
     "metadata": {},
     "output_type": "execute_result"
    }
   ],
   "source": [
    "a = np.arange(10)\n",
    "a"
   ]
  },
  {
   "cell_type": "code",
   "execution_count": 70,
   "id": "d25ff34f-9907-40e5-ad64-bd9ce2996e97",
   "metadata": {},
   "outputs": [
    {
     "data": {
      "text/plain": [
       "array([ 0,  1,  3,  6, 10, 15, 21, 28, 36, 45])"
      ]
     },
     "execution_count": 70,
     "metadata": {},
     "output_type": "execute_result"
    }
   ],
   "source": [
    "a.cumsum() # cumulative sum - it can be helpful for HW4 problem 5 (random walk one)"
   ]
  },
  {
   "cell_type": "code",
   "execution_count": 72,
   "id": "a9cb8937-50cf-4279-8b54-c3691a43a2f1",
   "metadata": {},
   "outputs": [
    {
     "data": {
      "text/plain": [
       "array([[ 0,  1,  2,  3,  4],\n",
       "       [ 5,  6,  7,  8,  9],\n",
       "       [10, 11, 12, 13, 14]])"
      ]
     },
     "execution_count": 72,
     "metadata": {},
     "output_type": "execute_result"
    }
   ],
   "source": [
    "A"
   ]
  },
  {
   "cell_type": "code",
   "execution_count": 74,
   "id": "9e413931-1fe3-4a9a-b7a0-3b972dd1f58e",
   "metadata": {},
   "outputs": [
    {
     "data": {
      "text/plain": [
       "array([[ 0,  1,  2,  3,  4],\n",
       "       [ 5,  7,  9, 11, 13],\n",
       "       [15, 18, 21, 24, 27]])"
      ]
     },
     "execution_count": 74,
     "metadata": {},
     "output_type": "execute_result"
    }
   ],
   "source": [
    "A.cumsum(axis=0) "
   ]
  },
  {
   "cell_type": "code",
   "execution_count": 73,
   "id": "a6207a59-274b-4b5f-9a03-91fbde13109c",
   "metadata": {},
   "outputs": [
    {
     "data": {
      "text/plain": [
       "array([[ 0,  1,  3,  6, 10],\n",
       "       [ 5, 11, 18, 26, 35],\n",
       "       [10, 21, 33, 46, 60]])"
      ]
     },
     "execution_count": 73,
     "metadata": {},
     "output_type": "execute_result"
    }
   ],
   "source": [
    "A.cumsum(axis=1)"
   ]
  },
  {
   "cell_type": "code",
   "execution_count": 75,
   "id": "b2517b0f-aa64-4743-99ab-42817781ab6f",
   "metadata": {},
   "outputs": [
    {
     "data": {
      "text/plain": [
       "10"
      ]
     },
     "execution_count": 75,
     "metadata": {},
     "output_type": "execute_result"
    }
   ],
   "source": [
    "A[0, :].sum()"
   ]
  },
  {
   "cell_type": "markdown",
   "id": "eda2190f-e72d-49b4-bc65-6e803e2a873d",
   "metadata": {},
   "source": [
    "Dealing with NaN values -> use the nan* version of methods\n"
   ]
  },
  {
   "cell_type": "code",
   "execution_count": 84,
   "id": "8fd642cc-9029-4e6a-af20-c965f4736f87",
   "metadata": {},
   "outputs": [],
   "source": [
    "A = np.reshape(np.arange(15), (3, 5))\n",
    "A = 1.0*A # convert to float so that  we can modify elements to be nan later on"
   ]
  },
  {
   "cell_type": "code",
   "execution_count": 83,
   "id": "649aa54c-cb28-4735-bcc1-15a7e1e3b8bf",
   "metadata": {},
   "outputs": [
    {
     "ename": "ValueError",
     "evalue": "cannot convert float NaN to integer",
     "output_type": "error",
     "traceback": [
      "\u001b[0;31m---------------------------------------------------------------------------\u001b[0m",
      "\u001b[0;31mValueError\u001b[0m                                Traceback (most recent call last)",
      "\u001b[0;32m/var/folders/t0/z7bd7v710dv11qgg7r8r3k300000gp/T/ipykernel_20106/2819468822.py\u001b[0m in \u001b[0;36m<module>\u001b[0;34m\u001b[0m\n\u001b[0;32m----> 1\u001b[0;31m \u001b[0mA\u001b[0m\u001b[0;34m[\u001b[0m\u001b[0;36m0\u001b[0m\u001b[0;34m,\u001b[0m \u001b[0;34m:\u001b[0m\u001b[0;34m]\u001b[0m \u001b[0;34m=\u001b[0m \u001b[0mnp\u001b[0m\u001b[0;34m.\u001b[0m\u001b[0mnan\u001b[0m\u001b[0;34m\u001b[0m\u001b[0;34m\u001b[0m\u001b[0m\n\u001b[0m\u001b[1;32m      2\u001b[0m \u001b[0mA\u001b[0m\u001b[0;34m\u001b[0m\u001b[0;34m\u001b[0m\u001b[0m\n",
      "\u001b[0;31mValueError\u001b[0m: cannot convert float NaN to integer"
     ]
    }
   ],
   "source": [
    "A[0, :] = np.nan\n",
    "A"
   ]
  },
  {
   "cell_type": "code",
   "execution_count": 92,
   "id": "09f67ccc-a276-4b3a-abac-e5154b25824c",
   "metadata": {},
   "outputs": [
    {
     "data": {
      "text/plain": [
       "float"
      ]
     },
     "execution_count": 92,
     "metadata": {},
     "output_type": "execute_result"
    }
   ],
   "source": [
    "type(np.nan)"
   ]
  },
  {
   "cell_type": "code",
   "execution_count": 78,
   "id": "b78c00d6-bb87-4a89-890c-9c6b27cdffbc",
   "metadata": {},
   "outputs": [
    {
     "data": {
      "text/plain": [
       "array([nan, nan, nan, nan, nan])"
      ]
     },
     "execution_count": 78,
     "metadata": {},
     "output_type": "execute_result"
    }
   ],
   "source": [
    "A.mean(axis=0)"
   ]
  },
  {
   "cell_type": "code",
   "execution_count": 79,
   "id": "24027166-aa78-4dd0-8053-4612e6ef89a8",
   "metadata": {},
   "outputs": [
    {
     "data": {
      "text/plain": [
       "array([nan,  7., 12.])"
      ]
     },
     "execution_count": 79,
     "metadata": {},
     "output_type": "execute_result"
    }
   ],
   "source": [
    "A.mean(axis=1)"
   ]
  },
  {
   "cell_type": "code",
   "execution_count": 80,
   "id": "0445d00f-b75b-4f4f-bb11-130b30f84b87",
   "metadata": {},
   "outputs": [
    {
     "data": {
      "text/plain": [
       "array([ 7.5,  8.5,  9.5, 10.5, 11.5])"
      ]
     },
     "execution_count": 80,
     "metadata": {},
     "output_type": "execute_result"
    }
   ],
   "source": [
    "np.nanmean(A, axis=0) # get the mean, ignoring nan values"
   ]
  },
  {
   "cell_type": "code",
   "execution_count": 81,
   "id": "b4125645-c281-4168-b3be-cd8d2f7e1caa",
   "metadata": {},
   "outputs": [
    {
     "name": "stderr",
     "output_type": "stream",
     "text": [
      "/var/folders/t0/z7bd7v710dv11qgg7r8r3k300000gp/T/ipykernel_20106/307700822.py:1: RuntimeWarning: Mean of empty slice\n",
      "  np.nanmean(A, axis=1)\n"
     ]
    },
    {
     "data": {
      "text/plain": [
       "array([nan,  7., 12.])"
      ]
     },
     "execution_count": 81,
     "metadata": {},
     "output_type": "execute_result"
    }
   ],
   "source": [
    "np.nanmean(A, axis=1) # doesn't know how to get the mean of an empty array, so still gives nan"
   ]
  },
  {
   "cell_type": "code",
   "execution_count": null,
   "id": "a86ff263-33f5-4a7b-8480-e093491c1864",
   "metadata": {},
   "outputs": [],
   "source": []
  },
  {
   "cell_type": "code",
   "execution_count": null,
   "id": "6706540f-fcbf-4dce-bec8-2be0d3140adb",
   "metadata": {},
   "outputs": [],
   "source": []
  },
  {
   "cell_type": "code",
   "execution_count": null,
   "id": "7a6b893a-429f-4757-9235-12664f41d21c",
   "metadata": {},
   "outputs": [],
   "source": [
    "id(a) == id(b) "
   ]
  },
  {
   "cell_type": "code",
   "execution_count": 94,
   "id": "a2f4289a-63f4-41a6-8143-cc964ffc7345",
   "metadata": {},
   "outputs": [
    {
     "data": {
      "text/plain": [
       "False"
      ]
     },
     "execution_count": 94,
     "metadata": {},
     "output_type": "execute_result"
    }
   ],
   "source": [
    "np.all(a == b)"
   ]
  },
  {
   "cell_type": "code",
   "execution_count": 98,
   "id": "afc8f96c-ff28-457f-9c40-80bb843f43af",
   "metadata": {},
   "outputs": [],
   "source": [
    "s = \"hello my name is harlin\""
   ]
  },
  {
   "cell_type": "code",
   "execution_count": 99,
   "id": "4cecc447-a189-4c95-9dad-45589cfe0b8f",
   "metadata": {},
   "outputs": [
    {
     "data": {
      "text/plain": [
       "'llo my name is harlin'"
      ]
     },
     "execution_count": 99,
     "metadata": {},
     "output_type": "execute_result"
    }
   ],
   "source": [
    "s[2:]"
   ]
  },
  {
   "cell_type": "code",
   "execution_count": 104,
   "id": "96836a7a-0162-4ce8-847f-65716815083c",
   "metadata": {},
   "outputs": [],
   "source": [
    "for i in range(2, -1, 2): # []\n",
    "    print(i)\n",
    "    # range(2) # range(2, len(s))"
   ]
  },
  {
   "cell_type": "code",
   "execution_count": null,
   "id": "bd1645d5-43a9-4140-9a07-e45f397f5606",
   "metadata": {},
   "outputs": [],
   "source": []
  }
 ],
 "metadata": {
  "kernelspec": {
   "display_name": "Python 3 (ipykernel)",
   "language": "python",
   "name": "python3"
  },
  "language_info": {
   "codemirror_mode": {
    "name": "ipython",
    "version": 3
   },
   "file_extension": ".py",
   "mimetype": "text/x-python",
   "name": "python",
   "nbconvert_exporter": "python",
   "pygments_lexer": "ipython3",
   "version": "3.9.7"
  }
 },
 "nbformat": 4,
 "nbformat_minor": 5
}
