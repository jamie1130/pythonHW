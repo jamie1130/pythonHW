{
 "cells": [
  {
   "cell_type": "markdown",
   "id": "71636a93-5f99-49fb-a347-324bd36d5bfb",
   "metadata": {},
   "source": [
    "Announcements:\n",
    "\n",
    "- Everyone on waitlist will be enrolled by this afternoon.\n",
    "- HW1 and Discussions 1-4 due today! Ask questions on Campuswire if you're stuck.\n",
    "- Quiz 2 is out, due next Tuesday before discussion\n",
    "- No lecture on Monday in observance of MLK Jr. Day! Will send out some optional reading material over the weekend about computing and ethics, esp. re: racism.\n",
    "- Note on group work: https://www.philchodrow.com/PIC16A/groups/ You'll want to read it before opening quiz 2.\n",
    "\n",
    "Wednesday: positional and keyword arguments, global and local scopes, default values\n",
    "\n",
    "Today: lambda expressions, classes and object oriented programming\n"
   ]
  },
  {
   "cell_type": "code",
   "execution_count": 1,
   "id": "1e6a0e88-79e4-4468-b23b-481a96583f68",
   "metadata": {},
   "outputs": [
    {
     "name": "stdout",
     "output_type": "stream",
     "text": [
      "[1]\n",
      "[1]\n",
      "[1, 5, 2]\n",
      "[1, 5, 2, 3]\n"
     ]
    }
   ],
   "source": [
    "x = [] # makes an empty list object, and create variable x in global scope (x -> list obj.)\n",
    "\n",
    "######### function definition\n",
    "def f(a, L=x):\n",
    "    L.append(a)\n",
    "    return L\n",
    "# creates a new function object named f (f -> function obj.)\n",
    "# value of this function obj. includes a reference to the same list obj. that x points to for default value.\n",
    "# variable L in local scope is NOT CREATED during function definition.\n",
    "#########\n",
    "\n",
    "######### function call with positional argument 1\n",
    "print(f(1))\n",
    "#########\n",
    "print(x)\n",
    "x.append(5) # modifies the list object that x points to \n",
    "\n",
    "print(f(2)) # [1, 5, 2] \n",
    "print(f(3))"
   ]
  },
  {
   "cell_type": "code",
   "execution_count": null,
   "id": "7eac44a2-fe3e-497f-a3f8-661b743aa774",
   "metadata": {},
   "outputs": [],
   "source": [
    "# when you call f(1)\n",
    "# imagine you're in local scope now\n",
    "\n",
    "a = 1\n",
    "L = x  # []\n",
    "L.append(a)\n",
    "del L\n",
    "del a"
   ]
  },
  {
   "cell_type": "code",
   "execution_count": 3,
   "id": "a40fcbc8-a09f-4bd3-888c-fa12e691671d",
   "metadata": {},
   "outputs": [
    {
     "name": "stdout",
     "output_type": "stream",
     "text": [
      "[1]\n",
      "[2]\n",
      "[3]\n"
     ]
    }
   ],
   "source": [
    "def f(a, L=None):\n",
    "    if L is None:\n",
    "        L = []\n",
    "    L.append(a)\n",
    "    return L\n",
    "\n",
    "print(f(1)) # skipping an argument with default value is same as giving None as an argument\n",
    "print(f(2)) # equivalent to f(2, L=None), f(2, None)\n",
    "print(f(3))"
   ]
  },
  {
   "cell_type": "code",
   "execution_count": 5,
   "id": "2127a753-9cdd-4739-aba4-8cef22806153",
   "metadata": {},
   "outputs": [
    {
     "data": {
      "text/plain": [
       "[2]"
      ]
     },
     "execution_count": 5,
     "metadata": {},
     "output_type": "execute_result"
    }
   ],
   "source": [
    "f(2, L=None)"
   ]
  },
  {
   "cell_type": "markdown",
   "id": "3bd07a96-147a-4276-b615-9a9bd9b33ca9",
   "metadata": {},
   "source": [
    "lambda expressions"
   ]
  },
  {
   "cell_type": "code",
   "execution_count": 6,
   "id": "b757b80d-d139-4236-8a08-4dca879b1e0b",
   "metadata": {},
   "outputs": [
    {
     "name": "stdout",
     "output_type": "stream",
     "text": [
      "4\n"
     ]
    }
   ],
   "source": [
    "def double(x):\n",
    "    return 2*x\n",
    "\n",
    "print(double(2))"
   ]
  },
  {
   "cell_type": "code",
   "execution_count": 7,
   "id": "0127d024-b64d-47d5-b966-7f67a5ae07cd",
   "metadata": {},
   "outputs": [
    {
     "name": "stdout",
     "output_type": "stream",
     "text": [
      "4\n"
     ]
    }
   ],
   "source": [
    "double = lambda x: 2*x # double(x) = 2x\n",
    "\n",
    "print(double(2))"
   ]
  },
  {
   "cell_type": "code",
   "execution_count": 9,
   "id": "e6221bf3-2a82-48c7-870c-35ad784199ba",
   "metadata": {},
   "outputs": [
    {
     "name": "stdout",
     "output_type": "stream",
     "text": [
      "6\n"
     ]
    }
   ],
   "source": [
    "multiply = lambda x, y: x*y\n",
    "\n",
    "print(multiply(2, 3))"
   ]
  },
  {
   "cell_type": "code",
   "execution_count": null,
   "id": "516b6578-2cca-458e-8e92-fad4193115cc",
   "metadata": {},
   "outputs": [],
   "source": [
    "def remain(x):\n",
    "    return x % 2"
   ]
  },
  {
   "cell_type": "code",
   "execution_count": 12,
   "id": "39081959-872d-42bb-9e00-b17a700b3cfa",
   "metadata": {},
   "outputs": [
    {
     "name": "stdout",
     "output_type": "stream",
     "text": [
      "2\n"
     ]
    }
   ],
   "source": [
    "f = lambda x: print(x)\n",
    "\n",
    "f(2)"
   ]
  },
  {
   "cell_type": "code",
   "execution_count": 11,
   "id": "47f781c6-80c8-4641-87ca-c1c13949ad10",
   "metadata": {},
   "outputs": [
    {
     "name": "stdout",
     "output_type": "stream",
     "text": [
      "[4, 6, 100, 3, 1, 23]\n"
     ]
    }
   ],
   "source": [
    "L = [3, 1, 23, 4, 6, 100]\n",
    "L.sort(key=lambda x: x % 2) # [1, 1, 1, 0, 0, 0] \n",
    "print(L)"
   ]
  },
  {
   "cell_type": "markdown",
   "id": "81273511-77b0-498b-b424-f353f74db3e3",
   "metadata": {},
   "source": [
    "Object oriented programming (OOP) \n",
    "\n",
    "basically everything in Python is an object. Objects are bundles of data (properties) and methods (functions or behaviors). A class in Python are similar to class and structs from C++.\n",
    "\n",
    "A class defines an abstract set of possible objects sharing certain characteristics. Once you define the class, you can *instantiate* it, which gives you an instance of the class.\n",
    "\n",
    "\"Classes provide a means of bundling data and functionality together. Creating a new class creates a new *type* of object, allowing new *instances* of that type to be made.\"\n",
    "\n",
    "https://docs.python.org/3/tutorial/classes.html"
   ]
  },
  {
   "cell_type": "code",
   "execution_count": 13,
   "id": "ba173145-3731-4b11-a4af-f6ba5d27f3b2",
   "metadata": {},
   "outputs": [],
   "source": [
    "class Cat: # define class\n",
    "    pass "
   ]
  },
  {
   "cell_type": "code",
   "execution_count": 14,
   "id": "21f076c1-e513-4747-a3b3-7c35484d6e28",
   "metadata": {},
   "outputs": [],
   "source": [
    "puppycat = Cat() # puppycat is an instance of class Cat"
   ]
  },
  {
   "cell_type": "code",
   "execution_count": 15,
   "id": "03a34442-d4da-4451-aff2-d594d8d3b906",
   "metadata": {},
   "outputs": [
    {
     "name": "stdout",
     "output_type": "stream",
     "text": [
      "<class '__main__.Cat'>\n"
     ]
    }
   ],
   "source": [
    "print(type(puppycat))"
   ]
  },
  {
   "cell_type": "code",
   "execution_count": 16,
   "id": "8e7b4b81-8ce0-44df-8c24-86d160a75584",
   "metadata": {},
   "outputs": [
    {
     "name": "stdout",
     "output_type": "stream",
     "text": [
      "<class 'type'>\n"
     ]
    }
   ],
   "source": [
    "print(type(Cat)) # just like list, int, etc"
   ]
  },
  {
   "cell_type": "code",
   "execution_count": 17,
   "id": "44cda50d-5480-41d4-a478-cc69e8c6f9d2",
   "metadata": {},
   "outputs": [
    {
     "name": "stdout",
     "output_type": "stream",
     "text": [
      "<class 'type'> <class 'type'>\n"
     ]
    }
   ],
   "source": [
    "print(type(list), type(int))"
   ]
  },
  {
   "cell_type": "markdown",
   "id": "4a70d382-33d4-4df1-a296-b8302d7b9fbd",
   "metadata": {},
   "source": [
    "Class variables, instance variables, self\n",
    "\n",
    "The self prefix is required to refer to local data and functions -- that is, data and functions that are only available within the object.\n",
    "Additionally, all methods need to take self as their first argument."
   ]
  },
  {
   "cell_type": "code",
   "execution_count": 18,
   "id": "76abf73a-9569-4ee5-84da-22436cc2d4f6",
   "metadata": {},
   "outputs": [],
   "source": [
    "class Cat: # define class\n",
    "    # class variables: shared across all instances of Cat \n",
    "    genus = \"Felis\"\n",
    "    species = \"catus\"\n",
    "    \n",
    "    def get_scientific_name(self): # self has to be the first argument in class methods. self refers to the instance of that class.\n",
    "        return self.genus + \" \" + self.species"
   ]
  },
  {
   "cell_type": "code",
   "execution_count": 19,
   "id": "4cf38e4c-e58e-493e-8340-76ef5aab321c",
   "metadata": {},
   "outputs": [
    {
     "name": "stdout",
     "output_type": "stream",
     "text": [
      "Felis\n",
      "Felis catus\n"
     ]
    }
   ],
   "source": [
    "puppycat = Cat()\n",
    "print(puppycat.genus) # access class variable\n",
    "print(puppycat.get_scientific_name()) # think of it as shorthand for Cat.get_scientific_name(puppycat), self is special argument name"
   ]
  },
  {
   "cell_type": "code",
   "execution_count": 21,
   "id": "a766fbec-b2b8-4d22-ac77-14d43881a08b",
   "metadata": {},
   "outputs": [
    {
     "name": "stdout",
     "output_type": "stream",
     "text": [
      "Felis catus\n"
     ]
    }
   ],
   "source": [
    "print(Cat.get_scientific_name(puppycat))"
   ]
  },
  {
   "cell_type": "code",
   "execution_count": 25,
   "id": "c51b65ec-03a9-44ab-b1cd-af96f8c97f90",
   "metadata": {},
   "outputs": [
    {
     "name": "stdout",
     "output_type": "stream",
     "text": [
      "Felis <class '__main__.Cat'>\n",
      "Felis catus\n"
     ]
    }
   ],
   "source": [
    "boba = Cat()\n",
    "print(boba.genus, type(boba))\n",
    "print(boba.get_scientific_name())"
   ]
  },
  {
   "cell_type": "markdown",
   "id": "b9727ae4-0b3e-4f1f-a67c-9bd6e6587a22",
   "metadata": {},
   "source": [
    "__init__"
   ]
  },
  {
   "cell_type": "code",
   "execution_count": 36,
   "id": "3829e5bc-8db9-4527-b567-b04c3672d13e",
   "metadata": {},
   "outputs": [],
   "source": [
    "class Cat: # define class\n",
    "    # class variables: shared across all instances of Cat \n",
    "    genus = \"Felis\"\n",
    "    species = \"catus\"\n",
    "    \n",
    "    def __init__(self, size, color):\n",
    "        self.size = size\n",
    "        self.color = color # instance variables: specific to the instance of Cat\n",
    "    \n",
    "    def describe(self, s):\n",
    "        print(s, 'color:', self.color, 'size:', self.size)\n",
    " "
   ]
  },
  {
   "cell_type": "code",
   "execution_count": 37,
   "id": "99ef4c76-d8ec-4926-89fa-a4cd81c38629",
   "metadata": {},
   "outputs": [
    {
     "name": "stdout",
     "output_type": "stream",
     "text": [
      "hello i am a cat with color: tortie size: medium\n"
     ]
    }
   ],
   "source": [
    "puppycat = Cat('medium', 'tortie') # equivalent to Cat.__init__(puppycat, 'medium', 'tortie')\n",
    "puppycat.describe('hello i am a cat with')"
   ]
  },
  {
   "cell_type": "code",
   "execution_count": 33,
   "id": "efd5eec1-787f-4113-97f8-2c4d97719f00",
   "metadata": {},
   "outputs": [
    {
     "ename": "TypeError",
     "evalue": "__init__() missing 2 required positional arguments: 'size' and 'color'",
     "output_type": "error",
     "traceback": [
      "\u001b[0;31m---------------------------------------------------------------------------\u001b[0m",
      "\u001b[0;31mTypeError\u001b[0m                                 Traceback (most recent call last)",
      "\u001b[0;32m/var/folders/t0/z7bd7v710dv11qgg7r8r3k300000gp/T/ipykernel_74108/3243720574.py\u001b[0m in \u001b[0;36m<module>\u001b[0;34m\u001b[0m\n\u001b[0;32m----> 1\u001b[0;31m \u001b[0mboba\u001b[0m \u001b[0;34m=\u001b[0m \u001b[0mCat\u001b[0m\u001b[0;34m(\u001b[0m\u001b[0;34m)\u001b[0m\u001b[0;34m\u001b[0m\u001b[0;34m\u001b[0m\u001b[0m\n\u001b[0m",
      "\u001b[0;31mTypeError\u001b[0m: __init__() missing 2 required positional arguments: 'size' and 'color'"
     ]
    }
   ],
   "source": [
    "boba = Cat()"
   ]
  },
  {
   "cell_type": "markdown",
   "id": "ffe6137e-b1df-4642-89be-60305a88191b",
   "metadata": {},
   "source": [
    "magic methods\n",
    "\n",
    "The \"magic\" in \"magic method\" refers to the fact that Python will automatically use these methods when interpreting symbols like + and *. \n",
    "\n",
    "https://rszalski.github.io/magicmethods/"
   ]
  },
  {
   "cell_type": "code",
   "execution_count": 38,
   "id": "4c853af2-3b40-4085-a9ab-fde23a91be2c",
   "metadata": {},
   "outputs": [
    {
     "data": {
      "text/plain": [
       "(1, 2, 3, 4)"
      ]
     },
     "execution_count": 38,
     "metadata": {},
     "output_type": "execute_result"
    }
   ],
   "source": [
    "# we want vectors that work like (1, 2) + (3, 4) = (4, 6)\n",
    "(1, 2) + (3, 4) # because for lists and tuples, A + B is A concetante B"
   ]
  },
  {
   "cell_type": "code",
   "execution_count": 43,
   "id": "32f07e9f-698a-4974-b476-cbe4a1697140",
   "metadata": {},
   "outputs": [],
   "source": [
    "class Vector:\n",
    "    def __init__(self, x, y): # this is called when you instantiate\n",
    "        self.x = x\n",
    "        self.y = y \n",
    "    \n",
    "    def __str__(self): # this is called when you print instance\n",
    "        return \"Vector(\" + str(self.x) + ',' + str(self.y) + ')'\n",
    "    \n",
    "    def __add__(self, other): # this is called when you ask for instance + other instance\n",
    "        return Vector(self.x + other.x, self.y + other.y)\n",
    "    \n",
    "    def __sub__(self, other): # this is called when you ask for instance - other instance\n",
    "        return Vector(self.x - other.x, self.y - other.y)\n",
    "        "
   ]
  },
  {
   "cell_type": "code",
   "execution_count": 44,
   "id": "254e81a1-3ee7-4876-a951-75d0959eb4c2",
   "metadata": {},
   "outputs": [
    {
     "name": "stdout",
     "output_type": "stream",
     "text": [
      "Vector(1,2)\n",
      "Vector(4,6)\n",
      "Vector(-2,-2)\n"
     ]
    }
   ],
   "source": [
    "u = Vector(1, 2) # Vector.__init__(u, 1, 2)\n",
    "print(u) # print(Vector.__str__(u))\n",
    "\n",
    "v = Vector(3, 4)\n",
    "print(u + v) # print(Vecotr.__add__(u, v))\n",
    "\n",
    "print(u - v)"
   ]
  },
  {
   "cell_type": "code",
   "execution_count": 56,
   "id": "0cde4394-5e79-4499-a16d-e97c2c75956d",
   "metadata": {},
   "outputs": [],
   "source": [
    "class tmp:\n",
    "    def __init__(self, foo):\n",
    "        self.__foo = foo\n",
    "        print(self, type(self), id(self))\n",
    "        \n",
    "        "
   ]
  },
  {
   "cell_type": "code",
   "execution_count": 59,
   "id": "9f094233-59c1-41ed-b759-751e7be5228e",
   "metadata": {},
   "outputs": [
    {
     "name": "stdout",
     "output_type": "stream",
     "text": [
      "<__main__.tmp object at 0x7fb5a8032b20> <class '__main__.tmp'> 140418184588064\n"
     ]
    }
   ],
   "source": [
    "x = tmp(3)\n",
    "x.__foo = 5"
   ]
  },
  {
   "cell_type": "code",
   "execution_count": 58,
   "id": "9f97fb39-7019-45bf-aafd-ea973aefbd1b",
   "metadata": {},
   "outputs": [
    {
     "name": "stdout",
     "output_type": "stream",
     "text": [
      "<__main__.tmp object at 0x7fb5a8032070> <class '__main__.tmp'> 140418184585328\n"
     ]
    },
    {
     "ename": "AttributeError",
     "evalue": "'tmp' object has no attribute '__foo'",
     "output_type": "error",
     "traceback": [
      "\u001b[0;31m---------------------------------------------------------------------------\u001b[0m",
      "\u001b[0;31mAttributeError\u001b[0m                            Traceback (most recent call last)",
      "\u001b[0;32m/var/folders/t0/z7bd7v710dv11qgg7r8r3k300000gp/T/ipykernel_74108/444865307.py\u001b[0m in \u001b[0;36m<module>\u001b[0;34m\u001b[0m\n\u001b[1;32m      1\u001b[0m \u001b[0mx\u001b[0m \u001b[0;34m=\u001b[0m \u001b[0mtmp\u001b[0m\u001b[0;34m(\u001b[0m\u001b[0;36m3\u001b[0m\u001b[0;34m)\u001b[0m\u001b[0;34m\u001b[0m\u001b[0;34m\u001b[0m\u001b[0m\n\u001b[0;32m----> 2\u001b[0;31m \u001b[0mprint\u001b[0m\u001b[0;34m(\u001b[0m\u001b[0mx\u001b[0m\u001b[0;34m.\u001b[0m\u001b[0m__foo\u001b[0m\u001b[0;34m)\u001b[0m\u001b[0;34m\u001b[0m\u001b[0;34m\u001b[0m\u001b[0m\n\u001b[0m\u001b[1;32m      3\u001b[0m \u001b[0mx\u001b[0m\u001b[0;34m.\u001b[0m\u001b[0m__foo\u001b[0m \u001b[0;34m=\u001b[0m \u001b[0;36m3\u001b[0m\u001b[0;34m\u001b[0m\u001b[0;34m\u001b[0m\u001b[0m\n",
      "\u001b[0;31mAttributeError\u001b[0m: 'tmp' object has no attribute '__foo'"
     ]
    }
   ],
   "source": [
    "x = tmp(3)\n",
    "print(x.__foo)"
   ]
  },
  {
   "cell_type": "code",
   "execution_count": 46,
   "id": "56209922-d5b7-49eb-8e70-1491fa049a2f",
   "metadata": {},
   "outputs": [
    {
     "name": "stdout",
     "output_type": "stream",
     "text": [
      "<__main__.tmp object at 0x7fb5a8032d30> <class '__main__.tmp'> 140418184588592\n"
     ]
    }
   ],
   "source": [
    "x = tmp() # tmp.__init__(x)"
   ]
  },
  {
   "cell_type": "code",
   "execution_count": 47,
   "id": "020aa3e0-07a2-42a8-b06b-d1359e2e02d2",
   "metadata": {},
   "outputs": [
    {
     "data": {
      "text/plain": [
       "140418184588592"
      ]
     },
     "execution_count": 47,
     "metadata": {},
     "output_type": "execute_result"
    }
   ],
   "source": [
    "id(x)"
   ]
  },
  {
   "cell_type": "code",
   "execution_count": null,
   "id": "c0074ffa-54bb-4bad-8dba-0c7a957a7756",
   "metadata": {},
   "outputs": [],
   "source": []
  }
 ],
 "metadata": {
  "kernelspec": {
   "display_name": "Python 3 (ipykernel)",
   "language": "python",
   "name": "python3"
  },
  "language_info": {
   "codemirror_mode": {
    "name": "ipython",
    "version": 3
   },
   "file_extension": ".py",
   "mimetype": "text/x-python",
   "name": "python",
   "nbconvert_exporter": "python",
   "pygments_lexer": "ipython3",
   "version": "3.9.7"
  }
 },
 "nbformat": 4,
 "nbformat_minor": 5
}
