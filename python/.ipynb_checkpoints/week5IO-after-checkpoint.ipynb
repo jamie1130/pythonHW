{
 "cells": [
  {
   "cell_type": "markdown",
   "metadata": {},
   "source": [
    "Announcements:\n",
    "\n",
    "- Happy lunar new year & Black history month, but also how are you doing after Monday???\n",
    "- Please fill out the anonymous survey!\n",
    "- HW4 due on Saturday but no late days.\n",
    "- No quiz this Friday & no HW due next week.\n",
    "\n",
    "\n",
    "Monday: numpy broadcasting, unittest\n",
    "\n",
    "Today: I/O\n",
    "\n",
    "https://docs.python.org/3/tutorial/inputoutput.html#reading-and-writing-files\n",
    "\n",
    "\n",
    "\n",
    "`open()`\n",
    "https://docs.python.org/3/library/functions.html#open"
   ]
  },
  {
   "cell_type": "code",
   "execution_count": 1,
   "metadata": {},
   "outputs": [],
   "source": [
    "f = open(\"my_file.txt\", \"w\") # i want to write a file called \"my_file.txt\""
   ]
  },
  {
   "cell_type": "code",
   "execution_count": 2,
   "metadata": {},
   "outputs": [
    {
     "data": {
      "text/plain": [
       "<_io.TextIOWrapper name='my_file.txt' mode='w' encoding='UTF-8'>"
      ]
     },
     "execution_count": 2,
     "metadata": {},
     "output_type": "execute_result"
    }
   ],
   "source": [
    "f # think of it as connection to the file"
   ]
  },
  {
   "cell_type": "code",
   "execution_count": 3,
   "metadata": {},
   "outputs": [
    {
     "data": {
      "text/plain": [
       "9"
      ]
     },
     "execution_count": 3,
     "metadata": {},
     "output_type": "execute_result"
    }
   ],
   "source": [
    "f.write(\"puppycat\\n\")"
   ]
  },
  {
   "cell_type": "code",
   "execution_count": 4,
   "metadata": {
    "tags": []
   },
   "outputs": [],
   "source": [
    "f.close()"
   ]
  },
  {
   "cell_type": "code",
   "execution_count": 5,
   "metadata": {},
   "outputs": [
    {
     "ename": "ValueError",
     "evalue": "I/O operation on closed file.",
     "output_type": "error",
     "traceback": [
      "\u001b[0;31m---------------------------------------------------------------------------\u001b[0m",
      "\u001b[0;31mValueError\u001b[0m                                Traceback (most recent call last)",
      "\u001b[0;32m/var/folders/t0/z7bd7v710dv11qgg7r8r3k300000gp/T/ipykernel_1966/1144186596.py\u001b[0m in \u001b[0;36m<module>\u001b[0;34m\u001b[0m\n\u001b[0;32m----> 1\u001b[0;31m \u001b[0mf\u001b[0m\u001b[0;34m.\u001b[0m\u001b[0mwrite\u001b[0m\u001b[0;34m(\u001b[0m\u001b[0;34m\"is the cutest\"\u001b[0m\u001b[0;34m)\u001b[0m\u001b[0;34m\u001b[0m\u001b[0;34m\u001b[0m\u001b[0m\n\u001b[0m",
      "\u001b[0;31mValueError\u001b[0m: I/O operation on closed file."
     ]
    }
   ],
   "source": [
    "f.write(\"is the cutest\") # can't write after connection is closed"
   ]
  },
  {
   "cell_type": "markdown",
   "metadata": {},
   "source": [
    "always close files after you've opened  them!!!"
   ]
  },
  {
   "cell_type": "markdown",
   "metadata": {},
   "source": [
    "`with`"
   ]
  },
  {
   "cell_type": "code",
   "execution_count": 6,
   "metadata": {},
   "outputs": [],
   "source": [
    "with open(\"my_file2.txt\", \"w\") as f:\n",
    "    f.write(\"puppycat puppycat\\n\")\n",
    "\n",
    "# same as -- \n",
    "# try:\n",
    "#     f = open(\"my_file2.txt\", \"w\")\n",
    "#     f.write(\"puppycat puppycat\\n\") \n",
    "# finally:\n",
    "#     f.close()\n",
    "\n",
    "# even if an error happens with I/O in try block, the finally block makes sure that f if closed,.\n",
    "\n",
    "# try except finally\n",
    "\n",
    "# with self.assertRaises(..):\n",
    "#      ...."
   ]
  },
  {
   "cell_type": "code",
   "execution_count": 7,
   "metadata": {},
   "outputs": [],
   "source": [
    "with open(\"my_file2.txt\", \"w\") as f:\n",
    "    f.write(\"puppycat2 puppycat2\\n\")\n",
    "# you can open and close files multiple times"
   ]
  },
  {
   "cell_type": "code",
   "execution_count": 8,
   "metadata": {},
   "outputs": [],
   "source": [
    "D = {\"Puppycat\": \"cat\", \"boba\" : \"cat\", \"Sophie\" : \"dog\"}"
   ]
  },
  {
   "cell_type": "code",
   "execution_count": 11,
   "metadata": {},
   "outputs": [],
   "source": [
    "with open(\"pets.txt\", \"w\") as f:\n",
    "    for key, val in D.items():\n",
    "        f.write(key.capitalize() + \" is a \" + val + \".\\n\")\n",
    "\n",
    "# loop over data and write line by line to a file"
   ]
  },
  {
   "cell_type": "code",
   "execution_count": 12,
   "metadata": {},
   "outputs": [],
   "source": [
    "with open(\"pets.txt\", \"a\") as f: # \"a\" stands for append\n",
    "    f.write(\"pets are great.\")\n"
   ]
  },
  {
   "cell_type": "markdown",
   "metadata": {},
   "source": [
    "Reading Data\n",
    "\n",
    "`f.readline()` behaves very similarly to `__next__()` of iterators."
   ]
  },
  {
   "cell_type": "code",
   "execution_count": 18,
   "metadata": {},
   "outputs": [
    {
     "name": "stdout",
     "output_type": "stream",
     "text": [
      "Puppycat is a cat.\n",
      "\n",
      "Boba is a cat.\n",
      "\n",
      "Sophie is a dog.\n",
      "\n",
      "pets are great.\n"
     ]
    }
   ],
   "source": [
    "with open(\"pets.txt\", \"r\") as f: # \"r\" stands for read\n",
    "    print(f.readline()) # readline literally reads one line\n",
    "    print(f.readline())\n",
    "    print(f.readline())\n",
    "    print(f.readline())"
   ]
  },
  {
   "cell_type": "code",
   "execution_count": 20,
   "metadata": {},
   "outputs": [
    {
     "name": "stdout",
     "output_type": "stream",
     "text": [
      "0 Puppycat is a cat.\n",
      "\n",
      "1 Boba is a cat.\n",
      "\n",
      "2 Sophie is a dog.\n",
      "\n",
      "3 pets are great.\n"
     ]
    }
   ],
   "source": [
    "with open(\"pets.txt\", \"r\") as f:\n",
    "    for i, line in enumerate(f): # behind the scenes calls f.readline()\n",
    "        print(i, line)"
   ]
  },
  {
   "cell_type": "markdown",
   "metadata": {},
   "source": [
    "CSV Files\n",
    "\n",
    "The [Palmer penguins] data set, which were collected by [Dr. Kristen Gorman](https://www.uaf.edu/cfos/people/faculty/detail/kristen-gorman.php) and the [Palmer Station, Antarctica LTER](https://pal.lternet.edu/), a member of the [Long Term Ecological Research Network](https://lternet.edu/). \n",
    "\n",
    "<figure class=\"image\" style=\"width:50%\">\n",
    "  <img src=\"https://allisonhorst.github.io/palmerpenguins/man/figures/lter_penguins.png\" alt=\"Three stylized penguins, one each of the species Adelie, Gentoo, and Chinstrap, with labels above their heads and patches of color behind them.\">\n",
    "  <figcaption><i>Illustrations of the penguins in the Palmer Penguins data set, by Allison Horst.</i></figcaption>\n",
    "</figure>"
   ]
  },
  {
   "cell_type": "code",
   "execution_count": 21,
   "metadata": {},
   "outputs": [],
   "source": [
    "import csv"
   ]
  },
  {
   "cell_type": "code",
   "execution_count": 26,
   "metadata": {},
   "outputs": [
    {
     "name": "stdout",
     "output_type": "stream",
     "text": [
      "['studyName', 'Sample Number', 'Species', 'Region']\n",
      "['PAL0708', '1', 'Adelie Penguin (Pygoscelis adeliae)', 'Anvers']\n",
      "['PAL0708', '2', 'Adelie Penguin (Pygoscelis adeliae)', 'Anvers']\n",
      "['PAL0708', '3', 'Adelie Penguin (Pygoscelis adeliae)', 'Anvers']\n",
      "['PAL0708', '4', 'Adelie Penguin (Pygoscelis adeliae)', 'Anvers']\n",
      "['PAL0708', '5', 'Adelie Penguin (Pygoscelis adeliae)', 'Anvers']\n",
      "['PAL0708', '6', 'Adelie Penguin (Pygoscelis adeliae)', 'Anvers']\n",
      "['PAL0708', '7', 'Adelie Penguin (Pygoscelis adeliae)', 'Anvers']\n",
      "['PAL0708', '8', 'Adelie Penguin (Pygoscelis adeliae)', 'Anvers']\n",
      "['PAL0708', '9', 'Adelie Penguin (Pygoscelis adeliae)', 'Anvers']\n"
     ]
    }
   ],
   "source": [
    "with open(\"palmer_penguins.csv\", \"r\") as f:\n",
    "    reader = csv.reader(f)\n",
    "    for row in list(reader)[:10]:\n",
    "        print(row[:4])"
   ]
  },
  {
   "cell_type": "code",
   "execution_count": 28,
   "metadata": {},
   "outputs": [],
   "source": [
    "with open(\"palmer_penguins.csv\", \"r\") as f_original:\n",
    "    with open(\"palmer_penguins_subset.csv\", \"w\") as f_subset:\n",
    "        reader = csv.reader(f_original) # reads f_original\n",
    "        writer = csv.writer(f_subset) # writes to f_subset\n",
    "        \n",
    "        for row in reader: # go through each line in \"palmer_penguins.csv\"\n",
    "            if row[2] == 'Adelie Penguin (Pygoscelis adeliae)': \n",
    "                writer.writerow(row)\n"
   ]
  },
  {
   "cell_type": "markdown",
   "metadata": {},
   "source": [
    "downloading online data"
   ]
  },
  {
   "cell_type": "code",
   "execution_count": 29,
   "metadata": {},
   "outputs": [],
   "source": [
    "import urllib"
   ]
  },
  {
   "cell_type": "code",
   "execution_count": 31,
   "metadata": {},
   "outputs": [],
   "source": [
    "url = \"https://philchodrow.github.io/PIC16A/content/IO_and_modules/IO/palmer_penguins.csv\"\n",
    "\n",
    "filedata = urllib.request.urlopen(url)\n",
    "to_write = filedata.read() # by default binary data\n",
    "\n",
    "with open(\"downloaded_penguins.csv\", \"wb\") as f:\n",
    "    f.write(to_write)\n",
    "\n",
    "# another popular module for downloading files from the internet is wget."
   ]
  },
  {
   "cell_type": "code",
   "execution_count": 32,
   "metadata": {},
   "outputs": [
    {
     "data": {
      "text/plain": [
       "<http.client.HTTPResponse at 0x7fe94cecde50>"
      ]
     },
     "execution_count": 32,
     "metadata": {},
     "output_type": "execute_result"
    }
   ],
   "source": [
    "filedata"
   ]
  },
  {
   "cell_type": "code",
   "execution_count": 34,
   "metadata": {},
   "outputs": [],
   "source": [
    "#to_write"
   ]
  },
  {
   "cell_type": "code",
   "execution_count": 35,
   "metadata": {},
   "outputs": [
    {
     "name": "stdout",
     "output_type": "stream",
     "text": [
      "<!doctype html>\n",
      "<html class=\"no-js\" lang=\"en\">\n",
      "\n",
      "<head>\n",
      "  <meta charset=\"utf-8\">\n",
      "  <meta http-equiv=\"x-ua-compatible\" content=\"ie=edge\">\n",
      "  <!-- Google Tag Manager -->\n",
      "  <script>(function(w,d,s,l,i){w[l]=w[l]||[];w[l].push({'gtm.start':\n",
      "  new Date().getTime(),event:'gtm.js'});var f=d.getElementsByTagName(s)[0],\n",
      "  j=d.createElement(s),dl=l!='dataLayer'?'&l='+l:'';j.async=true;j.src=\n",
      "  'https://www.googletagmanager.com/gtm.js?id='+i+dl;f.parentNode.insertBefore(j,f);\n",
      "  })(window,document,'script','d\n"
     ]
    }
   ],
   "source": [
    "from urllib.request import urlopen\n",
    "\n",
    "url = \"https://www.ucla.edu/\"\n",
    "\n",
    "page = urlopen(url)\n",
    "html_bits = page.read()\n",
    "\n",
    "html = html_bits.decode(\"utf-8\")\n",
    "\n",
    "print(html[:500])"
   ]
  },
  {
   "cell_type": "code",
   "execution_count": 36,
   "metadata": {},
   "outputs": [
    {
     "data": {
      "text/plain": [
       "['https://cdn.webcomponents.ucla.edu/1.0.0-beta.15/css/ucla-lib.min.css',\n",
       " 'https://cdnjs.cloudflare.com/ajax/libs/fancybox/3.5.6/jquery.fancybox.min.css',\n",
       " 'https://browsehappy.com/',\n",
       " 'https://covid-19.ucla.edu/ ',\n",
       " 'https://community.ucla.edu',\n",
       " 'https://newsroom.ucla.edu',\n",
       " 'https://newsroom.ucla.edu/magazine',\n",
       " 'https://alumni.ucla.edu/',\n",
       " 'https://goarts.ucla.edu/',\n",
       " 'https://giveto.ucla.edu',\n",
       " 'https://alumni.ucla.edu/uclas-story',\n",
       " 'https://www.adminvc.ucla.edu/content/strategic-plan',\n",
       " 'https://equity.ucla.edu/',\n",
       " 'https://100.ucla.edu/timeline?mode=time&nodeID=XL5AnBAAAB4A9_2N',\n",
       " 'https://www.global.ucla.edu/home',\n",
       " 'https://optimism.ucla.edu/profiles/',\n",
       " 'https://admission.ucla.edu/tuition-aid/tuition-fees',\n",
       " 'https://admission.ucla.edu/tuition-aid/financial-aid-and-scholarships',\n",
       " 'http://www.admission.ucla.edu/tours.htm',\n",
       " 'https://grad.ucla.edu/funding/tuition',\n",
       " 'https://grad.ucla.edu',\n",
       " 'https://grad.ucla.edu/admissions/visiting-ucla',\n",
       " 'https://www.uclaextension.edu/student-services/enrollment-services-support',\n",
       " 'https://summer.ucla.edu',\n",
       " 'https://www.uclaextension.edu/',\n",
       " 'https://summer.ucla.edu/',\n",
       " 'https://ieo.ucla.edu/',\n",
       " 'https://career.ucla.edu',\n",
       " 'https://www.registrar.ucla.edu/Academics/Academic-Counseling',\n",
       " 'https://firsttogo.ucla.edu/',\n",
       " 'http://newstudents.ucla.edu/',\n",
       " 'http://www.honors.ucla.edu',\n",
       " 'https://registrar.ucla.edu/calendars/academic-calendar',\n",
       " 'https://sa.ucla.edu/ro/public/soc',\n",
       " ' https://catalog.registrar.ucla.edu/',\n",
       " 'https://research.ucla.edu/about/campus',\n",
       " 'https://tdg.ucla.edu/',\n",
       " 'https://research.ucla.edu/entrepreneurship',\n",
       " 'https://grad.ucla.edu/academics/research/',\n",
       " 'https://admission.ucla.edu/explore/research',\n",
       " 'https://portal.housing.ucla.edu',\n",
       " 'https://reslife.ucla.edu/',\n",
       " 'https://housing.ucla.edu/dining-services/overview',\n",
       " 'https://www.studenthealth.ucla.edu/',\n",
       " 'https://www.sustain.ucla.edu/',\n",
       " 'https://www.recreation.ucla.edu/',\n",
       " 'https://volunteer.ucla.edu/',\n",
       " 'http://www.directory.ucla.edu/',\n",
       " 'https://www.registrar.ucla.edu/Calendars/Annual-Academic-Calendar',\n",
       " 'http://map.ucla.edu/',\n",
       " 'https://www.transportation.ucla.edu/campus-parking',\n",
       " 'https://transportation.ucla.edu/getting-around-campus/bruinbus',\n",
       " 'https://transportation.ucla.edu/getting-to-ucla/public-transit',\n",
       " 'https://newsroom.ucla.edu/',\n",
       " 'https://newsroom.ucla.edu/magazine',\n",
       " 'https://alumni.ucla.edu/',\n",
       " 'https://goarts.ucla.edu/',\n",
       " 'https://giveto.ucla.edu/?utm_campaign=UCLA-Gateway&utm_source=Gateway-Header&utm_medium=website&utm_content=Give+Now+Button&_ga=2.113305351.1621921878.1573682885-1712134942.1573682885',\n",
       " 'https://newsroom.ucla.edu/magazine/swabseq-covid-19-testing-technology',\n",
       " 'https://newsroom.ucla.edu/magazine/black-bruin-resource-center-mural',\n",
       " 'https://cpo.ucla.edu/cpo/foodcloset/?utm_source=ucla-gateway&amp;utm_medium=banner&amp;utm_campaign=gateway-moment&amp;utm_content=foodcloset-cpo-page',\n",
       " 'https://newsroom.ucla.edu/magazine/gene-block-growing-student-enrollment',\n",
       " 'https://newsroom.ucla.edu/stories/photonbooth-kid-friendly-science-ellen-sletten',\n",
       " 'https://newsroom.ucla.edu/stories/photonbooth-kid-friendly-science-ellen-sletten',\n",
       " 'https://newsroom.ucla.edu/',\n",
       " 'https://newsroom.ucla.edu/releases/ucla-food-studies-institute-to-tackle-global-food-challenges',\n",
       " 'https://newsroom.ucla.edu/',\n",
       " 'https://newsroom.ucla.edu/releases/jennifer-osorio-new-director-of-ucla-library-special-collections',\n",
       " 'https://newsroom.ucla.edu',\n",
       " 'https://newsroom.ucla.edu/releases/california-coverage-health-care-access-disparities',\n",
       " 'https://newsroom.ucla.edu/',\n",
       " 'https://newsroom.ucla.edu/',\n",
       " 'https://community.ucla.edu/',\n",
       " 'https://community.ucla.edu/event/58d067dc-5a1a-4d1f-91c4-89e5fd8b15ae',\n",
       " 'https://community.ucla.edu/event/2ac44f99-26f5-2646-dbc9-3be40459fc65',\n",
       " 'https://community.ucla.edu/event/586b66af-7074-4476-b136-a1d03536cd87',\n",
       " 'https://community.ucla.edu/event/2db06229-e89e-46e8-91ab-a1616db8e7e8',\n",
       " 'https://community.ucla.edu/event/c07bb044-de6a-1041-4ac7-7a598003b1f2',\n",
       " 'https://community.ucla.edu/event/1661febf-4d78-ac94-a5f1-aa0e7810a5b5',\n",
       " 'https://community.ucla.edu/event/f27e4950-610a-3d61-fb59-eeffe6c6f081',\n",
       " 'https://community.ucla.edu/event/14dd7dcc-cdd7-39eb-4fc9-c1f852a5d882',\n",
       " 'https://community.ucla.edu/event/d95015cc-a812-4c68-bed1-4194c7a89d7a',\n",
       " 'https://community.ucla.edu/event/577fd90c-0e1d-3ca1-cc8b-9e237b01fc24',\n",
       " 'http://happenings.ucla.edu',\n",
       " 'http://twitter.com/UCLA/status/1486397789718421509',\n",
       " 'http://twitter.com/UCLA/status/1486033533562880000',\n",
       " 'https://www.instagram.com/p/CZAwfgqMlvY/',\n",
       " 'https://www.instagram.com/p/CZAD8-VJGMM/',\n",
       " 'http://twitter.com/UCLA/status/1484251091327799297',\n",
       " 'http://twitter.com/UCLA/status/1483950551209443328',\n",
       " 'https://www.instagram.com/p/CY69qmDBI1g/',\n",
       " 'https://www.instagram.com/p/CY2T4w5vRN9/',\n",
       " 'https://www.instagram.com/p/CYuJ2V3Pga4/',\n",
       " 'http://twitter.com/UCLA/status/1481687633084534789',\n",
       " 'https://www.facebook.com/UCLA/',\n",
       " 'https://twitter.com/ucla',\n",
       " 'https://www.instagram.com/ucla/',\n",
       " 'https://www.snapchat.com/add/uclaofficial',\n",
       " 'https://www.linkedin.com/company/ucla',\n",
       " 'https://www.youtube.com/user/UCLA',\n",
       " 'https://www.tiktok.com/@ucla',\n",
       " 'http://www.directory.ucla.edu/',\n",
       " 'https://registrar.ucla.edu/calendars/academic-calendar',\n",
       " 'https://newsroom.ucla.edu/media-contacts-at-ucla',\n",
       " 'https://map.ucla.edu',\n",
       " 'https://transportation.ucla.edu/campus-parking',\n",
       " 'https://transportation.ucla.edu/getting-around-campus/bruinbus',\n",
       " 'https://transportation.ucla.edu/getting-to-ucla/public-transit',\n",
       " 'https://alumni.ucla.edu/',\n",
       " 'https://alumni.ucla.edu/parents/',\n",
       " 'https://apo.ucla.edu/',\n",
       " 'https://campusservices.ucla.edu/',\n",
       " 'https://errc.ucla.edu',\n",
       " 'http://luskinconferencecenter.ucla.edu/',\n",
       " 'https://events.ucla.edu/filming-at-ucla/commercial-external-filming',\n",
       " 'https://www.events.ucla.edu/',\n",
       " 'https://uclabruins.com/',\n",
       " 'https://www.uclaextension.edu/',\n",
       " 'https://www.uclahealth.org/?utm_source=ucla.edu',\n",
       " 'https://shop.uclastore.com/',\n",
       " 'http://giveto.ucla.edu/',\n",
       " 'http://100.ucla.edu/',\n",
       " 'https://goarts.ucla.edu/',\n",
       " 'https://hammer.ucla.edu/',\n",
       " 'https://fowler.ucla.edu/',\n",
       " 'https://cap.ucla.edu/',\n",
       " 'https://www.facebook.com/UCLA/',\n",
       " 'https://www.instagram.com/ucla/',\n",
       " 'https://www.linkedin.com/school/ucla',\n",
       " 'https://twitter.com/ucla',\n",
       " 'https://www.youtube.com/user/UCLA',\n",
       " 'https://www.tiktok.com/@ucla?lang=en',\n",
       " 'https://story.snapchat.com/@uclaofficial',\n",
       " 'http://www.universityofcalifornia.edu/',\n",
       " 'https://www.bso.ucla.edu/',\n",
       " 'https://ucla-gme-advocate.symplicity.com/public_report/index.php/pid031251']"
      ]
     },
     "execution_count": 36,
     "metadata": {},
     "output_type": "execute_result"
    }
   ],
   "source": [
    "# no need to understand, just know that this takes in all the urls that ucla.edu has links to\n",
    "\n",
    "import re # regex\n",
    "\n",
    "urls = re.findall(r'href=[\\'\"]?([^\\'\">]+)', html)\n",
    "\n",
    "urls\n",
    "\n",
    "[url for url in urls if \"http\" in url]\n",
    "# ---"
   ]
  },
  {
   "cell_type": "code",
   "execution_count": null,
   "metadata": {},
   "outputs": [],
   "source": []
  }
 ],
 "metadata": {
  "kernelspec": {
   "display_name": "Python 3 (ipykernel)",
   "language": "python",
   "name": "python3"
  },
  "language_info": {
   "codemirror_mode": {
    "name": "ipython",
    "version": 3
   },
   "file_extension": ".py",
   "mimetype": "text/x-python",
   "name": "python",
   "nbconvert_exporter": "python",
   "pygments_lexer": "ipython3",
   "version": "3.9.7"
  }
 },
 "nbformat": 4,
 "nbformat_minor": 4
}
