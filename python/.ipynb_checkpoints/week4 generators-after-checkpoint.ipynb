{
 "cells": [
  {
   "cell_type": "markdown",
   "metadata": {},
   "source": [
    "Announcements:\n",
    "\n",
    "- Figuring out remote learning with other instructors and LAs today & tomorrow. Will announce by Wednesday.\n",
    "- HW4 released, due Feb 3 Thursday. No extensions beyond the usual 2 late days.\n",
    "- Midterm on Feb 7, you have 24 hours to take a 50 min exam, open book/notes/internet. More details later.\n",
    "- HW3: please watch Vishnu's helper video and start early! Autograder only checks Problems 1 &2.\n",
    "- HW2 solution released. \n",
    "- Will releases project details soon!\n",
    "\n",
    "Friday: exceptions, iterators\n",
    "\n",
    "Today: generator, modules\n",
    "\n",
    "https://docs.python.org/3/tutorial/classes.html#generators"
   ]
  },
  {
   "cell_type": "markdown",
   "metadata": {},
   "source": [
    "generators are just syntactic shortcut for writing iterators. \n",
    "\n",
    "the main differences are: syntax looks like a function and not a class, and uses the keyword `yield` where you would normally use `return`"
   ]
  },
  {
   "cell_type": "code",
   "execution_count": 1,
   "metadata": {},
   "outputs": [],
   "source": [
    "class every_other_iterator:\n",
    "    def __init__(self, data):\n",
    "        self.data = data\n",
    "        self.i = 0\n",
    "    \n",
    "    def __iter__(self): # so that iter(obj) should return an iterator\n",
    "        self.i = 0 # every time I call a for loop, I want to start from the first index\n",
    "        return self # instance of class every_other_iterator is an iterable (\"for-loop-able\") but also an iterator\n",
    "    \n",
    "    def __next__(self):\n",
    "        if self.i < len(self.data):\n",
    "            element = self.data[self.i] # get the i-th element of data\n",
    "            self.i += 2 # this makes it \"every other\" rather than \"every\"\n",
    "            return element\n",
    "        else:\n",
    "            raise StopIteration"
   ]
  },
  {
   "cell_type": "code",
   "execution_count": 2,
   "metadata": {},
   "outputs": [],
   "source": [
    "data = \"hello my name is harlin\"\n",
    "\n",
    "It = every_other_iterator(data)"
   ]
  },
  {
   "cell_type": "code",
   "execution_count": 3,
   "metadata": {},
   "outputs": [
    {
     "name": "stdout",
     "output_type": "stream",
     "text": [
      "h\n",
      "l\n",
      "o\n",
      "m\n",
      " \n",
      "a\n",
      "e\n",
      "i\n",
      " \n",
      "a\n",
      "l\n",
      "n\n"
     ]
    },
    {
     "ename": "StopIteration",
     "evalue": "",
     "output_type": "error",
     "traceback": [
      "\u001b[0;31m---------------------------------------------------------------------------\u001b[0m",
      "\u001b[0;31mStopIteration\u001b[0m                             Traceback (most recent call last)",
      "\u001b[0;32m/var/folders/t0/z7bd7v710dv11qgg7r8r3k300000gp/T/ipykernel_5464/2901998286.py\u001b[0m in \u001b[0;36m<module>\u001b[0;34m\u001b[0m\n\u001b[1;32m      1\u001b[0m \u001b[0;32mwhile\u001b[0m \u001b[0;32mTrue\u001b[0m\u001b[0;34m:\u001b[0m\u001b[0;34m\u001b[0m\u001b[0;34m\u001b[0m\u001b[0m\n\u001b[0;32m----> 2\u001b[0;31m     \u001b[0mprint\u001b[0m\u001b[0;34m(\u001b[0m\u001b[0mnext\u001b[0m\u001b[0;34m(\u001b[0m\u001b[0mIt\u001b[0m\u001b[0;34m)\u001b[0m\u001b[0;34m)\u001b[0m\u001b[0;34m\u001b[0m\u001b[0;34m\u001b[0m\u001b[0m\n\u001b[0m",
      "\u001b[0;32m/var/folders/t0/z7bd7v710dv11qgg7r8r3k300000gp/T/ipykernel_5464/2561497036.py\u001b[0m in \u001b[0;36m__next__\u001b[0;34m(self)\u001b[0m\n\u001b[1;32m     14\u001b[0m             \u001b[0;32mreturn\u001b[0m \u001b[0melement\u001b[0m\u001b[0;34m\u001b[0m\u001b[0;34m\u001b[0m\u001b[0m\n\u001b[1;32m     15\u001b[0m         \u001b[0;32melse\u001b[0m\u001b[0;34m:\u001b[0m\u001b[0;34m\u001b[0m\u001b[0;34m\u001b[0m\u001b[0m\n\u001b[0;32m---> 16\u001b[0;31m             \u001b[0;32mraise\u001b[0m \u001b[0mStopIteration\u001b[0m\u001b[0;34m\u001b[0m\u001b[0;34m\u001b[0m\u001b[0m\n\u001b[0m",
      "\u001b[0;31mStopIteration\u001b[0m: "
     ]
    }
   ],
   "source": [
    "while True:\n",
    "    print(next(It))"
   ]
  },
  {
   "cell_type": "code",
   "execution_count": null,
   "metadata": {},
   "outputs": [],
   "source": [
    "for letter in It:\n",
    "    print(letter)"
   ]
  },
  {
   "cell_type": "code",
   "execution_count": null,
   "metadata": {},
   "outputs": [],
   "source": [
    "def every_other_generator(data):\n",
    "    for i in range(0, len(data), 2): # from 0 (inclusive) to len(data) (exclusive), every 2 elements\n",
    "        yield data[i]\n",
    "    \n",
    "\n",
    "# for j in range(0, len(data)//2):\n",
    "#     yield data[2*j]"
   ]
  },
  {
   "cell_type": "code",
   "execution_count": null,
   "metadata": {},
   "outputs": [],
   "source": [
    "data = \"hello my name is harlin\"\n",
    "\n",
    "Gen = every_other_generator(data)\n"
   ]
  },
  {
   "cell_type": "code",
   "execution_count": null,
   "metadata": {},
   "outputs": [],
   "source": [
    "for letter in Gen:\n",
    "    print(letter)"
   ]
  },
  {
   "cell_type": "code",
   "execution_count": null,
   "metadata": {},
   "outputs": [],
   "source": [
    "# import random\n",
    "\n",
    "# def while_loop_generator(data):\n",
    "#     iter_num = 0\n",
    "#     while iter_num < 20:\n",
    "#         i = random.choices(range(len(data)))\n",
    "#         i = i[0]\n",
    "#         iter_num += 1\n",
    "#         yield data[i]\n",
    "\n",
    "# data = \"hello my name is harlin\"\n",
    "\n",
    "# Gen2 = while_loop_generator(data)\n",
    "# print(Gen2, type(Gen2))\n",
    "\n",
    "# for letter in Gen2:\n",
    "#     print(letter)"
   ]
  }
 ],
 "metadata": {
  "kernelspec": {
   "display_name": "Python 3 (ipykernel)",
   "language": "python",
   "name": "python3"
  },
  "language_info": {
   "codemirror_mode": {
    "name": "ipython",
    "version": 3
   },
   "file_extension": ".py",
   "mimetype": "text/x-python",
   "name": "python",
   "nbconvert_exporter": "python",
   "pygments_lexer": "ipython3",
   "version": "3.9.7"
  }
 },
 "nbformat": 4,
 "nbformat_minor": 4
}
