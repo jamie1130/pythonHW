{
 "cells": [
  {
   "cell_type": "markdown",
   "id": "45428489-c1e1-40bc-a411-fdbf946a7073",
   "metadata": {},
   "source": [
    "Announcements:\n",
    "\n",
    "- You can use up to two late days for HW3 (as usual)\n",
    "- HW4 due Thursday\n",
    "- Midterm info on bruinlearn!\n",
    "\n",
    "Friday: Numpy functions\n",
    "\n",
    "Today: Broadcasting in Numpy and unittest\n",
    "\n",
    "\n",
    "unittest"
   ]
  },
  {
   "cell_type": "code",
   "execution_count": 1,
   "id": "fd3225f5-4dc0-41c7-b1e5-1556c14a6b2f",
   "metadata": {},
   "outputs": [],
   "source": [
    "def reverse_lookup(D, val):\n",
    "    \"\"\"\n",
    "    Finds all keys in dictionary D with value val\n",
    "    \"\"\"\n",
    "    if not isinstance(D, dict):\n",
    "        raise TypeError(\"First argument must be a dict!\")\n",
    "    \n",
    "    return [key for key in D.keys() if D[key] == val] # [x for x in L if x is something]"
   ]
  },
  {
   "cell_type": "code",
   "execution_count": 2,
   "id": "dd72f689-dab5-44a9-98bd-eaf64c193e71",
   "metadata": {},
   "outputs": [],
   "source": [
    "D = {\"puppycat\": \"cat\",\n",
    "     \"pepper\": \"dog\",\n",
    "     \"boba\": \"cat\", \n",
    "     \"sophie\": \"dog\"}"
   ]
  },
  {
   "cell_type": "code",
   "execution_count": 3,
   "id": "ac97e237-4074-45a7-aba4-ccf2d228b777",
   "metadata": {},
   "outputs": [
    {
     "data": {
      "text/plain": [
       "['puppycat', 'boba']"
      ]
     },
     "execution_count": 3,
     "metadata": {},
     "output_type": "execute_result"
    }
   ],
   "source": [
    "reverse_lookup(D, \"cat\") # expect to see [\"puppycat\", \"boba\"]"
   ]
  },
  {
   "cell_type": "code",
   "execution_count": 4,
   "id": "0dd1cc4c-843d-4f66-8ad9-70095624be29",
   "metadata": {},
   "outputs": [
    {
     "data": {
      "text/plain": [
       "[]"
      ]
     },
     "execution_count": 4,
     "metadata": {},
     "output_type": "execute_result"
    }
   ],
   "source": [
    "reverse_lookup(D, \"bird\") # expect to see []"
   ]
  },
  {
   "cell_type": "code",
   "execution_count": 5,
   "id": "7f434f37-dd37-4255-a169-fec3eeebee07",
   "metadata": {},
   "outputs": [
    {
     "ename": "TypeError",
     "evalue": "First argument must be a dict!",
     "output_type": "error",
     "traceback": [
      "\u001b[0;31m---------------------------------------------------------------------------\u001b[0m",
      "\u001b[0;31mTypeError\u001b[0m                                 Traceback (most recent call last)",
      "\u001b[0;32m/var/folders/t0/z7bd7v710dv11qgg7r8r3k300000gp/T/ipykernel_5420/2719409135.py\u001b[0m in \u001b[0;36m<module>\u001b[0;34m\u001b[0m\n\u001b[1;32m      1\u001b[0m \u001b[0mD\u001b[0m \u001b[0;34m=\u001b[0m \u001b[0;34m[\u001b[0m\u001b[0;34m\"puppycat\"\u001b[0m\u001b[0;34m,\u001b[0m \u001b[0;34m\"pepper\"\u001b[0m\u001b[0;34m,\u001b[0m \u001b[0;34m\"boba\"\u001b[0m\u001b[0;34m,\u001b[0m \u001b[0;34m\"sophie\"\u001b[0m\u001b[0;34m]\u001b[0m\u001b[0;34m\u001b[0m\u001b[0;34m\u001b[0m\u001b[0m\n\u001b[1;32m      2\u001b[0m \u001b[0;34m\u001b[0m\u001b[0m\n\u001b[0;32m----> 3\u001b[0;31m \u001b[0mreverse_lookup\u001b[0m\u001b[0;34m(\u001b[0m\u001b[0mD\u001b[0m\u001b[0;34m,\u001b[0m \u001b[0;34m\"cat\"\u001b[0m\u001b[0;34m)\u001b[0m \u001b[0;31m# expect to see TypeError raised\u001b[0m\u001b[0;34m\u001b[0m\u001b[0;34m\u001b[0m\u001b[0m\n\u001b[0m",
      "\u001b[0;32m/var/folders/t0/z7bd7v710dv11qgg7r8r3k300000gp/T/ipykernel_5420/1956642827.py\u001b[0m in \u001b[0;36mreverse_lookup\u001b[0;34m(D, val)\u001b[0m\n\u001b[1;32m      4\u001b[0m     \"\"\"\n\u001b[1;32m      5\u001b[0m     \u001b[0;32mif\u001b[0m \u001b[0;32mnot\u001b[0m \u001b[0misinstance\u001b[0m\u001b[0;34m(\u001b[0m\u001b[0mD\u001b[0m\u001b[0;34m,\u001b[0m \u001b[0mdict\u001b[0m\u001b[0;34m)\u001b[0m\u001b[0;34m:\u001b[0m\u001b[0;34m\u001b[0m\u001b[0;34m\u001b[0m\u001b[0m\n\u001b[0;32m----> 6\u001b[0;31m         \u001b[0;32mraise\u001b[0m \u001b[0mTypeError\u001b[0m\u001b[0;34m(\u001b[0m\u001b[0;34m\"First argument must be a dict!\"\u001b[0m\u001b[0;34m)\u001b[0m\u001b[0;34m\u001b[0m\u001b[0;34m\u001b[0m\u001b[0m\n\u001b[0m\u001b[1;32m      7\u001b[0m \u001b[0;34m\u001b[0m\u001b[0m\n\u001b[1;32m      8\u001b[0m     \u001b[0;32mreturn\u001b[0m \u001b[0;34m[\u001b[0m\u001b[0mkey\u001b[0m \u001b[0;32mfor\u001b[0m \u001b[0mkey\u001b[0m \u001b[0;32min\u001b[0m \u001b[0mD\u001b[0m\u001b[0;34m.\u001b[0m\u001b[0mkeys\u001b[0m\u001b[0;34m(\u001b[0m\u001b[0;34m)\u001b[0m \u001b[0;32mif\u001b[0m \u001b[0mD\u001b[0m\u001b[0;34m[\u001b[0m\u001b[0mkey\u001b[0m\u001b[0;34m]\u001b[0m \u001b[0;34m==\u001b[0m \u001b[0mval\u001b[0m\u001b[0;34m]\u001b[0m \u001b[0;31m# [x for x in L if x is something]\u001b[0m\u001b[0;34m\u001b[0m\u001b[0;34m\u001b[0m\u001b[0m\n",
      "\u001b[0;31mTypeError\u001b[0m: First argument must be a dict!"
     ]
    }
   ],
   "source": [
    "D = [\"puppycat\", \"pepper\", \"boba\", \"sophie\"]\n",
    "\n",
    "reverse_lookup(D, \"cat\") # expect to see TypeError raised"
   ]
  },
  {
   "cell_type": "markdown",
   "id": "33bf8c51-020e-4864-99df-28a0e965e7ee",
   "metadata": {},
   "source": [
    "unittest https://docs.python.org/3/library/unittest.html\n",
    "\n",
    "https://docs.python.org/3/library/unittest.html#assert-methods"
   ]
  },
  {
   "cell_type": "code",
   "execution_count": 6,
   "id": "f8ce39f6-4a86-483a-80a8-af13dbc8b7a4",
   "metadata": {},
   "outputs": [],
   "source": [
    "import unittest"
   ]
  },
  {
   "cell_type": "code",
   "execution_count": 7,
   "id": "840f544a-5185-4aa0-87ef-b2b83d8f7f3b",
   "metadata": {},
   "outputs": [],
   "source": [
    "class TestReverseLookUp(unittest.TestCase): # class called TestCase defined in module unittest\n",
    "    \n",
    "    def test_standard_lookup(self):\n",
    "        D = {\"puppycat\": \"cat\",\n",
    "     \"pepper\": \"dog\",\n",
    "     \"boba\": \"cat\", \n",
    "     \"sophie\": \"dog\"}\n",
    "        res = reverse_lookup(D, \"cat\") # expect to see [\"puppycat\", \"boba\"]\n",
    "        self.assertEqual(len(res), 2) # assert that len(res) == 2\n",
    "        \n",
    "    def test_no_match(self):\n",
    "        D = {\"puppycat\": \"cat\",\n",
    "     \"pepper\": \"dog\",\n",
    "     \"boba\": \"cat\", \n",
    "     \"sophie\": \"dog\"}\n",
    "        \n",
    "        res = reverse_lookup(D, \"bird\") \n",
    "        self.assertEqual(len(res), 0)\n",
    "        \n",
    "    def test_type_error(self):\n",
    "        D = [\"puppycat\", \"pepper\", \"boba\", \"sophie\"]\n",
    "        \n",
    "        with self.assertRaises(TypeError):\n",
    "            reverse_lookup(D, \"cat\") # assert that this line raises a TypeError\n",
    "    \n",
    "    # purposefully wrong test case to show you what happens when a test fails\n",
    "    def test_dog_incorrect(self):\n",
    "        D = {\"puppycat\": \"cat\", \"pepper\": \"dog\", \"boba\": \"cat\", \"sophie\": \"dog\"}\n",
    "        res = reverse_lookup(D, \"dog\")\n",
    "        self.assertEqual(len(res), 3)"
   ]
  },
  {
   "cell_type": "code",
   "execution_count": 8,
   "id": "d753b1bd-5c65-49ab-987a-266fcc5704ef",
   "metadata": {},
   "outputs": [],
   "source": [
    "tester = TestReverseLookUp()"
   ]
  },
  {
   "cell_type": "code",
   "execution_count": 9,
   "id": "e385af16-3573-4a89-be14-ecab5e4c42e3",
   "metadata": {},
   "outputs": [],
   "source": [
    "tester.test_standard_lookup()\n",
    "tester.test_no_match()\n",
    "tester.test_type_error()\n",
    "\n",
    "# if nothing happens, that means your code passed all the test cases"
   ]
  },
  {
   "cell_type": "code",
   "execution_count": 10,
   "id": "d3ba2693-01cc-4649-83ed-ae1e208b660d",
   "metadata": {},
   "outputs": [
    {
     "ename": "AssertionError",
     "evalue": "2 != 3",
     "output_type": "error",
     "traceback": [
      "\u001b[0;31m---------------------------------------------------------------------------\u001b[0m",
      "\u001b[0;31mAssertionError\u001b[0m                            Traceback (most recent call last)",
      "\u001b[0;32m/var/folders/t0/z7bd7v710dv11qgg7r8r3k300000gp/T/ipykernel_5420/910266027.py\u001b[0m in \u001b[0;36m<module>\u001b[0;34m\u001b[0m\n\u001b[0;32m----> 1\u001b[0;31m \u001b[0mtester\u001b[0m\u001b[0;34m.\u001b[0m\u001b[0mtest_dog_incorrect\u001b[0m\u001b[0;34m(\u001b[0m\u001b[0;34m)\u001b[0m\u001b[0;34m\u001b[0m\u001b[0;34m\u001b[0m\u001b[0m\n\u001b[0m",
      "\u001b[0;32m/var/folders/t0/z7bd7v710dv11qgg7r8r3k300000gp/T/ipykernel_5420/4096144850.py\u001b[0m in \u001b[0;36mtest_dog_incorrect\u001b[0;34m(self)\u001b[0m\n\u001b[1;32m     28\u001b[0m         \u001b[0mD\u001b[0m \u001b[0;34m=\u001b[0m \u001b[0;34m{\u001b[0m\u001b[0;34m\"puppycat\"\u001b[0m\u001b[0;34m:\u001b[0m \u001b[0;34m\"cat\"\u001b[0m\u001b[0;34m,\u001b[0m \u001b[0;34m\"pepper\"\u001b[0m\u001b[0;34m:\u001b[0m \u001b[0;34m\"dog\"\u001b[0m\u001b[0;34m,\u001b[0m \u001b[0;34m\"boba\"\u001b[0m\u001b[0;34m:\u001b[0m \u001b[0;34m\"cat\"\u001b[0m\u001b[0;34m,\u001b[0m \u001b[0;34m\"sophie\"\u001b[0m\u001b[0;34m:\u001b[0m \u001b[0;34m\"dog\"\u001b[0m\u001b[0;34m}\u001b[0m\u001b[0;34m\u001b[0m\u001b[0;34m\u001b[0m\u001b[0m\n\u001b[1;32m     29\u001b[0m         \u001b[0mres\u001b[0m \u001b[0;34m=\u001b[0m \u001b[0mreverse_lookup\u001b[0m\u001b[0;34m(\u001b[0m\u001b[0mD\u001b[0m\u001b[0;34m,\u001b[0m \u001b[0;34m\"dog\"\u001b[0m\u001b[0;34m)\u001b[0m\u001b[0;34m\u001b[0m\u001b[0;34m\u001b[0m\u001b[0m\n\u001b[0;32m---> 30\u001b[0;31m         \u001b[0mself\u001b[0m\u001b[0;34m.\u001b[0m\u001b[0massertEqual\u001b[0m\u001b[0;34m(\u001b[0m\u001b[0mlen\u001b[0m\u001b[0;34m(\u001b[0m\u001b[0mres\u001b[0m\u001b[0;34m)\u001b[0m\u001b[0;34m,\u001b[0m \u001b[0;36m3\u001b[0m\u001b[0;34m)\u001b[0m\u001b[0;34m\u001b[0m\u001b[0;34m\u001b[0m\u001b[0m\n\u001b[0m",
      "\u001b[0;32m~/opt/anaconda3/lib/python3.9/unittest/case.py\u001b[0m in \u001b[0;36massertEqual\u001b[0;34m(self, first, second, msg)\u001b[0m\n\u001b[1;32m    827\u001b[0m         \"\"\"\n\u001b[1;32m    828\u001b[0m         \u001b[0massertion_func\u001b[0m \u001b[0;34m=\u001b[0m \u001b[0mself\u001b[0m\u001b[0;34m.\u001b[0m\u001b[0m_getAssertEqualityFunc\u001b[0m\u001b[0;34m(\u001b[0m\u001b[0mfirst\u001b[0m\u001b[0;34m,\u001b[0m \u001b[0msecond\u001b[0m\u001b[0;34m)\u001b[0m\u001b[0;34m\u001b[0m\u001b[0;34m\u001b[0m\u001b[0m\n\u001b[0;32m--> 829\u001b[0;31m         \u001b[0massertion_func\u001b[0m\u001b[0;34m(\u001b[0m\u001b[0mfirst\u001b[0m\u001b[0;34m,\u001b[0m \u001b[0msecond\u001b[0m\u001b[0;34m,\u001b[0m \u001b[0mmsg\u001b[0m\u001b[0;34m=\u001b[0m\u001b[0mmsg\u001b[0m\u001b[0;34m)\u001b[0m\u001b[0;34m\u001b[0m\u001b[0;34m\u001b[0m\u001b[0m\n\u001b[0m\u001b[1;32m    830\u001b[0m \u001b[0;34m\u001b[0m\u001b[0m\n\u001b[1;32m    831\u001b[0m     \u001b[0;32mdef\u001b[0m \u001b[0massertNotEqual\u001b[0m\u001b[0;34m(\u001b[0m\u001b[0mself\u001b[0m\u001b[0;34m,\u001b[0m \u001b[0mfirst\u001b[0m\u001b[0;34m,\u001b[0m \u001b[0msecond\u001b[0m\u001b[0;34m,\u001b[0m \u001b[0mmsg\u001b[0m\u001b[0;34m=\u001b[0m\u001b[0;32mNone\u001b[0m\u001b[0;34m)\u001b[0m\u001b[0;34m:\u001b[0m\u001b[0;34m\u001b[0m\u001b[0;34m\u001b[0m\u001b[0m\n",
      "\u001b[0;32m~/opt/anaconda3/lib/python3.9/unittest/case.py\u001b[0m in \u001b[0;36m_baseAssertEqual\u001b[0;34m(self, first, second, msg)\u001b[0m\n\u001b[1;32m    820\u001b[0m             \u001b[0mstandardMsg\u001b[0m \u001b[0;34m=\u001b[0m \u001b[0;34m'%s != %s'\u001b[0m \u001b[0;34m%\u001b[0m \u001b[0m_common_shorten_repr\u001b[0m\u001b[0;34m(\u001b[0m\u001b[0mfirst\u001b[0m\u001b[0;34m,\u001b[0m \u001b[0msecond\u001b[0m\u001b[0;34m)\u001b[0m\u001b[0;34m\u001b[0m\u001b[0;34m\u001b[0m\u001b[0m\n\u001b[1;32m    821\u001b[0m             \u001b[0mmsg\u001b[0m \u001b[0;34m=\u001b[0m \u001b[0mself\u001b[0m\u001b[0;34m.\u001b[0m\u001b[0m_formatMessage\u001b[0m\u001b[0;34m(\u001b[0m\u001b[0mmsg\u001b[0m\u001b[0;34m,\u001b[0m \u001b[0mstandardMsg\u001b[0m\u001b[0;34m)\u001b[0m\u001b[0;34m\u001b[0m\u001b[0;34m\u001b[0m\u001b[0m\n\u001b[0;32m--> 822\u001b[0;31m             \u001b[0;32mraise\u001b[0m \u001b[0mself\u001b[0m\u001b[0;34m.\u001b[0m\u001b[0mfailureException\u001b[0m\u001b[0;34m(\u001b[0m\u001b[0mmsg\u001b[0m\u001b[0;34m)\u001b[0m\u001b[0;34m\u001b[0m\u001b[0;34m\u001b[0m\u001b[0m\n\u001b[0m\u001b[1;32m    823\u001b[0m \u001b[0;34m\u001b[0m\u001b[0m\n\u001b[1;32m    824\u001b[0m     \u001b[0;32mdef\u001b[0m \u001b[0massertEqual\u001b[0m\u001b[0;34m(\u001b[0m\u001b[0mself\u001b[0m\u001b[0;34m,\u001b[0m \u001b[0mfirst\u001b[0m\u001b[0;34m,\u001b[0m \u001b[0msecond\u001b[0m\u001b[0;34m,\u001b[0m \u001b[0mmsg\u001b[0m\u001b[0;34m=\u001b[0m\u001b[0;32mNone\u001b[0m\u001b[0;34m)\u001b[0m\u001b[0;34m:\u001b[0m\u001b[0;34m\u001b[0m\u001b[0;34m\u001b[0m\u001b[0m\n",
      "\u001b[0;31mAssertionError\u001b[0m: 2 != 3"
     ]
    }
   ],
   "source": [
    "tester.test_dog_incorrect()"
   ]
  },
  {
   "cell_type": "markdown",
   "id": "2b11ccd9-11ca-4bbd-9e3f-e0dc46ee22eb",
   "metadata": {},
   "source": [
    "numpy broadcasting\n",
    "\n",
    "https://numpy.org/doc/stable/user/basics.broadcasting.html\n",
    "\n",
    "https://jakevdp.github.io/PythonDataScienceHandbook/02.05-computation-on-arrays-broadcasting.html"
   ]
  },
  {
   "cell_type": "markdown",
   "id": "f00d72d2-d9fb-40bb-89ed-157bdf3389de",
   "metadata": {},
   "source": [
    "\n",
    "Rule 1: If the two arrays differ in their number of dimensions, the shape of the one with fewer dimensions is \"padded\" with ones on its leading (=left) side.\n",
    "\n",
    "\n",
    "Rule 2: If the shape of the two arrays dont match in any dimension, the array with shape equal to 1 in that dimension is stretched to match the other shape.\n",
    "\n",
    "\n",
    "Rule 3: If in any dimension the sizes disagree and neither is equal to 1, an error is raised.\n"
   ]
  },
  {
   "cell_type": "code",
   "execution_count": 11,
   "id": "8e8936ab-89aa-4778-b2e0-31dcb4c55651",
   "metadata": {},
   "outputs": [],
   "source": [
    "import numpy as np"
   ]
  },
  {
   "cell_type": "code",
   "execution_count": 12,
   "id": "352fbad6-8356-4cbf-a777-a96ca5055711",
   "metadata": {},
   "outputs": [],
   "source": [
    "a = np.array([0, 1, 2])\n",
    "b = np.array([5, 5, 5])"
   ]
  },
  {
   "cell_type": "code",
   "execution_count": 13,
   "id": "f2b4619c-7577-4341-9b7b-06dbfa2b08e1",
   "metadata": {},
   "outputs": [
    {
     "data": {
      "text/plain": [
       "((3,), (3,))"
      ]
     },
     "execution_count": 13,
     "metadata": {},
     "output_type": "execute_result"
    }
   ],
   "source": [
    "a.shape, b.shape"
   ]
  },
  {
   "cell_type": "code",
   "execution_count": 14,
   "id": "ecba222a-aa8b-4b6a-bccb-12ec534f4ced",
   "metadata": {},
   "outputs": [
    {
     "data": {
      "text/plain": [
       "array([5, 6, 7])"
      ]
     },
     "execution_count": 14,
     "metadata": {},
     "output_type": "execute_result"
    }
   ],
   "source": [
    "a + b"
   ]
  },
  {
   "cell_type": "code",
   "execution_count": 15,
   "id": "1c2b6cd5-7860-40c7-a860-35dde74fa5da",
   "metadata": {},
   "outputs": [
    {
     "data": {
      "text/plain": [
       "array([5, 6, 7])"
      ]
     },
     "execution_count": 15,
     "metadata": {},
     "output_type": "execute_result"
    }
   ],
   "source": [
    "a + 5 \n",
    "# behind the scenes: numpy stretches out the 5 -> [5, 5, 5]\n",
    "# broadcasting: \"stretching\" arrays so that binary operations can be done on arrays of different sizes"
   ]
  },
  {
   "cell_type": "code",
   "execution_count": 16,
   "id": "4d88abdc-df3b-4b15-adff-53933ba3fc46",
   "metadata": {},
   "outputs": [
    {
     "data": {
      "text/plain": [
       "array([[1., 1., 1.],\n",
       "       [1., 1., 1.],\n",
       "       [1., 1., 1.]])"
      ]
     },
     "execution_count": 16,
     "metadata": {},
     "output_type": "execute_result"
    }
   ],
   "source": [
    "M = np.ones((3, 3)) \n",
    "M"
   ]
  },
  {
   "cell_type": "code",
   "execution_count": 17,
   "id": "e96edbe8-4768-49d3-94a3-38ee13ceba0d",
   "metadata": {},
   "outputs": [
    {
     "data": {
      "text/plain": [
       "(3, 3)"
      ]
     },
     "execution_count": 17,
     "metadata": {},
     "output_type": "execute_result"
    }
   ],
   "source": [
    "M.shape"
   ]
  },
  {
   "cell_type": "code",
   "execution_count": 18,
   "id": "c86e39eb-44ff-4279-b450-526e21f7d567",
   "metadata": {},
   "outputs": [
    {
     "data": {
      "text/plain": [
       "(3,)"
      ]
     },
     "execution_count": 18,
     "metadata": {},
     "output_type": "execute_result"
    }
   ],
   "source": [
    "a.shape"
   ]
  },
  {
   "cell_type": "code",
   "execution_count": 19,
   "id": "2451aecb-33d1-4150-bdcf-3feaeb14d028",
   "metadata": {},
   "outputs": [
    {
     "data": {
      "text/plain": [
       "array([[1., 2., 3.],\n",
       "       [1., 2., 3.],\n",
       "       [1., 2., 3.]])"
      ]
     },
     "execution_count": 19,
     "metadata": {},
     "output_type": "execute_result"
    }
   ],
   "source": [
    "M + a # broadcasting: a is \"broadcasted\" to the shape of M"
   ]
  },
  {
   "cell_type": "markdown",
   "id": "de82e403-ae5b-40fb-8eee-0848dc55996f",
   "metadata": {},
   "source": [
    "example 1"
   ]
  },
  {
   "cell_type": "code",
   "execution_count": 20,
   "id": "6180c2c8-5c7d-4353-b0dd-78e7e40b530b",
   "metadata": {},
   "outputs": [],
   "source": [
    "M = np.ones((2, 3))\n",
    "a = np.arange(3) "
   ]
  },
  {
   "cell_type": "code",
   "execution_count": 21,
   "id": "03e8bde4-a7a4-4342-84f5-f99388f2a6ff",
   "metadata": {},
   "outputs": [
    {
     "data": {
      "text/plain": [
       "array([[1., 1., 1.],\n",
       "       [1., 1., 1.]])"
      ]
     },
     "execution_count": 21,
     "metadata": {},
     "output_type": "execute_result"
    }
   ],
   "source": [
    "M"
   ]
  },
  {
   "cell_type": "code",
   "execution_count": 22,
   "id": "02e69a94-2eaa-4727-9c42-719827b853d1",
   "metadata": {},
   "outputs": [
    {
     "data": {
      "text/plain": [
       "array([0, 1, 2])"
      ]
     },
     "execution_count": 22,
     "metadata": {},
     "output_type": "execute_result"
    }
   ],
   "source": [
    "a"
   ]
  },
  {
   "cell_type": "code",
   "execution_count": 23,
   "id": "7368f53f-845f-4143-b7f3-2f0c0d5112ae",
   "metadata": {},
   "outputs": [
    {
     "data": {
      "text/plain": [
       "(2, 3)"
      ]
     },
     "execution_count": 23,
     "metadata": {},
     "output_type": "execute_result"
    }
   ],
   "source": [
    "M.shape # a matrix == 2 dimensional array"
   ]
  },
  {
   "cell_type": "code",
   "execution_count": 24,
   "id": "a73f24ff-8547-4e65-a2a0-56a59956dd5c",
   "metadata": {},
   "outputs": [
    {
     "data": {
      "text/plain": [
       "(3,)"
      ]
     },
     "execution_count": 24,
     "metadata": {},
     "output_type": "execute_result"
    }
   ],
   "source": [
    "a.shape # 1 dimensional array\n",
    "# rule 1: this has fewer dimensions, so turn a.shape -> (1, 3)"
   ]
  },
  {
   "cell_type": "code",
   "execution_count": 25,
   "id": "5f20cdb3-1ef9-44ac-b5dd-44c50ff4ffd8",
   "metadata": {},
   "outputs": [],
   "source": [
    "# (3,), (1,3), (3,1) are all different"
   ]
  },
  {
   "cell_type": "code",
   "execution_count": 26,
   "id": "ad75ae21-afad-494b-8443-7d0cbf1aa1cd",
   "metadata": {},
   "outputs": [],
   "source": [
    "# after rule 1, \n",
    "# M.shape -> (2, 3)\n",
    "# a.shape -> (1, 3)"
   ]
  },
  {
   "cell_type": "code",
   "execution_count": 27,
   "id": "9655d110-244c-4bb9-a619-41a8cfb26060",
   "metadata": {},
   "outputs": [],
   "source": [
    "# since the 0-th dimension size doesnt match (2 =/= 1), we apply rule 2 to a\n",
    "# after rule 2:\n",
    "# M.shape -> (2, 3)\n",
    "# a.shape -> (2, 3) \"stretched\" means \"copied and stacked together\""
   ]
  },
  {
   "cell_type": "code",
   "execution_count": 28,
   "id": "5536edb0-b402-455d-b62c-27fcd9cf50f9",
   "metadata": {},
   "outputs": [
    {
     "data": {
      "text/plain": [
       "array([[1., 2., 3.],\n",
       "       [1., 2., 3.]])"
      ]
     },
     "execution_count": 28,
     "metadata": {},
     "output_type": "execute_result"
    }
   ],
   "source": [
    "M + a # should get shape (2, 3)"
   ]
  },
  {
   "cell_type": "code",
   "execution_count": 29,
   "id": "4fcfbb60-c8a2-435e-8982-7fb39406022c",
   "metadata": {},
   "outputs": [],
   "source": [
    "# another example\n",
    "# M1.shape -> (6, 3)\n",
    "# a1.shape -> (3, 3) rule 2 would not apply"
   ]
  },
  {
   "cell_type": "markdown",
   "id": "b10730fd-fed8-4a87-8a81-eafcc965fc5c",
   "metadata": {},
   "source": [
    "example 2"
   ]
  },
  {
   "cell_type": "code",
   "execution_count": 30,
   "id": "b82fc2ef-6939-4c5c-b171-5ed60d07c829",
   "metadata": {},
   "outputs": [],
   "source": [
    "a = np.arange(3).reshape(3, 1)\n",
    "b = np.arange(3)"
   ]
  },
  {
   "cell_type": "code",
   "execution_count": 31,
   "id": "b0670343-6c48-4558-a969-be07de116c5b",
   "metadata": {},
   "outputs": [
    {
     "data": {
      "text/plain": [
       "(3, 1)"
      ]
     },
     "execution_count": 31,
     "metadata": {},
     "output_type": "execute_result"
    }
   ],
   "source": [
    "a.shape # 2D array"
   ]
  },
  {
   "cell_type": "code",
   "execution_count": 32,
   "id": "8da64a98-c5e5-42a5-b301-e588f448d0df",
   "metadata": {},
   "outputs": [
    {
     "data": {
      "text/plain": [
       "3"
      ]
     },
     "execution_count": 32,
     "metadata": {},
     "output_type": "execute_result"
    }
   ],
   "source": [
    "a.shape[0] # size of the 0th dimension of a"
   ]
  },
  {
   "cell_type": "code",
   "execution_count": 33,
   "id": "20ce4d05-f62f-4ad1-913a-1e676c0c8ed5",
   "metadata": {},
   "outputs": [
    {
     "data": {
      "text/plain": [
       "(3,)"
      ]
     },
     "execution_count": 33,
     "metadata": {},
     "output_type": "execute_result"
    }
   ],
   "source": [
    "b.shape # 1D array"
   ]
  },
  {
   "cell_type": "code",
   "execution_count": 34,
   "id": "6f92d001-82df-47eb-9089-1b4ecd6437a0",
   "metadata": {},
   "outputs": [],
   "source": [
    "# rule 1 says\n",
    "# a.shape -> (3, 1)\n",
    "# b.shape -> (1, 3)"
   ]
  },
  {
   "cell_type": "code",
   "execution_count": 35,
   "id": "0d8d4cad-2abf-4b67-b9bd-b05b58248ac8",
   "metadata": {},
   "outputs": [],
   "source": [
    "# rule 2 applied the first time:\n",
    "# a.shape -> (3, 1)\n",
    "# b.shape -> (3, 3)\n",
    "\n",
    "\n",
    "# rule 2 applied the second time:\n",
    "# a.shape -> (3, 3)\n",
    "# b.shape -> (3, 3)\n"
   ]
  },
  {
   "cell_type": "code",
   "execution_count": 36,
   "id": "83e4be34-e571-4b43-9f4c-462bd490355c",
   "metadata": {},
   "outputs": [
    {
     "data": {
      "text/plain": [
       "array([[0, 1, 2],\n",
       "       [1, 2, 3],\n",
       "       [2, 3, 4]])"
      ]
     },
     "execution_count": 36,
     "metadata": {},
     "output_type": "execute_result"
    }
   ],
   "source": [
    "a + b "
   ]
  },
  {
   "cell_type": "markdown",
   "id": "44fcab7b-2744-431d-96d8-a68bf19c2215",
   "metadata": {},
   "source": [
    "example 3"
   ]
  },
  {
   "cell_type": "code",
   "execution_count": 37,
   "id": "a2e64c71-620c-40e1-bb5e-1047c96fdd78",
   "metadata": {},
   "outputs": [],
   "source": [
    "M = np.ones((3, 2)) \n",
    "a = np.arange(3) # [0, 1, 2]"
   ]
  },
  {
   "cell_type": "code",
   "execution_count": 38,
   "id": "438cebda-aaa7-4a2b-8f1d-a5dceabb8880",
   "metadata": {},
   "outputs": [
    {
     "data": {
      "text/plain": [
       "(3, 2)"
      ]
     },
     "execution_count": 38,
     "metadata": {},
     "output_type": "execute_result"
    }
   ],
   "source": [
    "M.shape"
   ]
  },
  {
   "cell_type": "code",
   "execution_count": 39,
   "id": "60c5a2a7-1b03-48eb-8a23-252b2460c8b5",
   "metadata": {},
   "outputs": [
    {
     "data": {
      "text/plain": [
       "array([[1., 1.],\n",
       "       [1., 1.],\n",
       "       [1., 1.]])"
      ]
     },
     "execution_count": 39,
     "metadata": {},
     "output_type": "execute_result"
    }
   ],
   "source": [
    "M"
   ]
  },
  {
   "cell_type": "code",
   "execution_count": 40,
   "id": "c70efc49-f0a7-450a-9afc-6734511653f4",
   "metadata": {},
   "outputs": [
    {
     "data": {
      "text/plain": [
       "(3,)"
      ]
     },
     "execution_count": 40,
     "metadata": {},
     "output_type": "execute_result"
    }
   ],
   "source": [
    "a.shape"
   ]
  },
  {
   "cell_type": "code",
   "execution_count": 41,
   "id": "482c404a-3f05-481f-985c-af99e7a38204",
   "metadata": {},
   "outputs": [],
   "source": [
    "# rule 1 to a\n",
    "# M.shape -> (3, 2)\n",
    "# a.shape -> (1, 3)"
   ]
  },
  {
   "cell_type": "code",
   "execution_count": 42,
   "id": "76ae521c-6f93-4307-9b5d-dc4cf25435a4",
   "metadata": {},
   "outputs": [],
   "source": [
    "# rule 2 \n",
    "# M.shape -> (3, 2)\n",
    "# a.shape -> (3, 3)"
   ]
  },
  {
   "cell_type": "code",
   "execution_count": 43,
   "id": "498d0a60-f85c-4b5c-9974-5c940174c540",
   "metadata": {},
   "outputs": [
    {
     "ename": "ValueError",
     "evalue": "operands could not be broadcast together with shapes (3,2) (3,) ",
     "output_type": "error",
     "traceback": [
      "\u001b[0;31m---------------------------------------------------------------------------\u001b[0m",
      "\u001b[0;31mValueError\u001b[0m                                Traceback (most recent call last)",
      "\u001b[0;32m/var/folders/t0/z7bd7v710dv11qgg7r8r3k300000gp/T/ipykernel_5420/3374645918.py\u001b[0m in \u001b[0;36m<module>\u001b[0;34m\u001b[0m\n\u001b[0;32m----> 1\u001b[0;31m \u001b[0mM\u001b[0m \u001b[0;34m+\u001b[0m \u001b[0ma\u001b[0m\u001b[0;34m\u001b[0m\u001b[0;34m\u001b[0m\u001b[0m\n\u001b[0m",
      "\u001b[0;31mValueError\u001b[0m: operands could not be broadcast together with shapes (3,2) (3,) "
     ]
    }
   ],
   "source": [
    "M + a"
   ]
  },
  {
   "cell_type": "code",
   "execution_count": null,
   "id": "2cfaa2a9-c438-480a-8ad5-ef363144c20d",
   "metadata": {},
   "outputs": [],
   "source": []
  }
 ],
 "metadata": {
  "kernelspec": {
   "display_name": "Python 3 (ipykernel)",
   "language": "python",
   "name": "python3"
  },
  "language_info": {
   "codemirror_mode": {
    "name": "ipython",
    "version": 3
   },
   "file_extension": ".py",
   "mimetype": "text/x-python",
   "name": "python",
   "nbconvert_exporter": "python",
   "pygments_lexer": "ipython3",
   "version": "3.9.7"
  }
 },
 "nbformat": 4,
 "nbformat_minor": 5
}
