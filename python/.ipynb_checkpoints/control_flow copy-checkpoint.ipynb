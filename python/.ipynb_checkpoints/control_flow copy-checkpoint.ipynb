{
 "cells": [
  {
   "cell_type": "markdown",
   "id": "36b4bb17-b5b1-490d-a5e7-22d66f2e2bf5",
   "metadata": {},
   "source": [
    "Friday: mutable vs immutable objects + copying lists, tuples, sets, dictionaries\n",
    "\n",
    "Today: iteration, control flow, functions\n",
    "\n",
    "control flow: https://docs.python.org/3/tutorial/controlflow.html\n",
    "\n",
    "boolean operations: https://docs.python.org/3/library/stdtypes.html#truth-value-testing\n",
    "\n",
    "`and`, `or`, `not`\n",
    "\n",
    "`is` vs `==`"
   ]
  },
  {
   "cell_type": "code",
   "execution_count": null,
   "id": "0a3b3a40",
   "metadata": {},
   "outputs": [],
   "source": []
  },
  {
   "cell_type": "markdown",
   "id": "1ba9e623",
   "metadata": {},
   "source": [
    "not to be confused with bitwise operations... https://docs.python.org/3/library/stdtypes.html#bitwise-operations-on-integer-types"
   ]
  },
  {
   "cell_type": "markdown",
   "id": "33340ddf",
   "metadata": {},
   "source": [
    "`if`, `elif`, `else`"
   ]
  },
  {
   "cell_type": "code",
   "execution_count": null,
   "id": "b1949be9-f3e0-43d5-bcb7-237378a3b838",
   "metadata": {},
   "outputs": [],
   "source": []
  },
  {
   "cell_type": "markdown",
   "id": "dbb5cc4f-8032-4517-a947-37da2d8bc853",
   "metadata": {},
   "source": [
    "`while` `break`"
   ]
  },
  {
   "cell_type": "code",
   "execution_count": null,
   "id": "8034f564-4570-448c-ae54-30b11da730fc",
   "metadata": {},
   "outputs": [],
   "source": []
  },
  {
   "cell_type": "code",
   "execution_count": null,
   "id": "c1711548-593a-4b3e-aaca-ebc63d98ec98",
   "metadata": {},
   "outputs": [],
   "source": []
  },
  {
   "cell_type": "markdown",
   "id": "1391a423-63c5-4a46-9a4f-eacedb54e047",
   "metadata": {},
   "source": [
    "Why would you choose to implement `while` loop one way over the other? - what if termination condition is complicated?"
   ]
  },
  {
   "cell_type": "code",
   "execution_count": null,
   "id": "4dec340b-32f4-4728-8540-6b17a91da751",
   "metadata": {},
   "outputs": [],
   "source": []
  },
  {
   "cell_type": "markdown",
   "id": "99636cf4-b6e8-421a-b704-abf591ae96ab",
   "metadata": {},
   "source": [
    "`continue` "
   ]
  },
  {
   "cell_type": "code",
   "execution_count": null,
   "id": "0a615f74-baac-4b42-a1bf-74b8a4029ea8",
   "metadata": {},
   "outputs": [],
   "source": []
  },
  {
   "cell_type": "markdown",
   "id": "cb1bec3b-ab0d-4b42-b5cd-4e6bffbdbddb",
   "metadata": {},
   "source": [
    "`pass`"
   ]
  },
  {
   "cell_type": "code",
   "execution_count": null,
   "id": "6de45d74-149e-4e66-a5e2-3439d6066fd5",
   "metadata": {},
   "outputs": [],
   "source": []
  },
  {
   "cell_type": "markdown",
   "id": "06f782db-d79f-43a8-821a-dc60533a6a8a",
   "metadata": {},
   "source": [
    "`for` loops - the Python way"
   ]
  },
  {
   "cell_type": "code",
   "execution_count": 1,
   "id": "893a3198-c674-4f94-b2ba-3abe20fb590d",
   "metadata": {},
   "outputs": [],
   "source": [
    "L = ['Harlin', 'American Mike', 'British Mike', 'Canadian Mike', 'British Michael', 'Jean-Michel']\n"
   ]
  },
  {
   "cell_type": "markdown",
   "id": "a0db7e27-4ee8-470f-abea-f827103a88bd",
   "metadata": {},
   "source": [
    "`range`"
   ]
  },
  {
   "cell_type": "code",
   "execution_count": null,
   "id": "42c70bba-dcab-4c8e-afa6-05ae58b7478b",
   "metadata": {},
   "outputs": [],
   "source": []
  },
  {
   "cell_type": "code",
   "execution_count": null,
   "id": "f2c37e37-db43-40c0-bf69-6cea72ac59a3",
   "metadata": {},
   "outputs": [],
   "source": []
  },
  {
   "cell_type": "markdown",
   "id": "5cef9495-d711-4291-a08e-c244191ac820",
   "metadata": {},
   "source": [
    "`enumerate` "
   ]
  },
  {
   "cell_type": "code",
   "execution_count": null,
   "id": "1a55b2f2-ee01-4ba2-9216-fa7210aaa451",
   "metadata": {},
   "outputs": [],
   "source": []
  },
  {
   "cell_type": "code",
   "execution_count": null,
   "id": "f7ad0d83-d860-42ba-b2aa-06312bd35eb7",
   "metadata": {},
   "outputs": [],
   "source": []
  },
  {
   "cell_type": "markdown",
   "id": "7542007d-f024-4345-880a-1413b9a28def",
   "metadata": {},
   "source": [
    "list comprehension - very Pythonic tool to create a list from a list! (also useful for HW1)\n",
    "\n",
    "https://docs.python.org/3/tutorial/datastructures.html#list-comprehensions"
   ]
  },
  {
   "cell_type": "code",
   "execution_count": 2,
   "id": "5df7ef9e-7a28-4460-8980-e523f592bbab",
   "metadata": {},
   "outputs": [],
   "source": [
    "L = [1, 2, 3, 4, 5]\n"
   ]
  },
  {
   "cell_type": "code",
   "execution_count": null,
   "id": "930a5062-2b36-4092-be21-58380d661b27",
   "metadata": {},
   "outputs": [],
   "source": []
  },
  {
   "cell_type": "code",
   "execution_count": null,
   "id": "626ff7a0-e4db-44c6-b680-8f83c54b5225",
   "metadata": {},
   "outputs": [],
   "source": []
  },
  {
   "cell_type": "markdown",
   "id": "cc62d191-17be-4e2d-8192-f668dabf926a",
   "metadata": {},
   "source": [
    "Nested list comprehension: https://docs.python.org/3/tutorial/datastructures.html#nested-list-comprehensions"
   ]
  },
  {
   "cell_type": "markdown",
   "id": "71bd73df-d8c5-4051-8acf-7a6c6b9765fa",
   "metadata": {},
   "source": [
    "iterating over dictionary `items`"
   ]
  },
  {
   "cell_type": "code",
   "execution_count": 3,
   "id": "96e6dc2c-baa0-4a80-b557-3c0bbca32b9b",
   "metadata": {},
   "outputs": [],
   "source": [
    "D ={'Harlin' : '16A',\n",
    "    'American Mike' : '16A',\n",
    "    'British Mike' : '16A',\n",
    "    'Canadian Mike': '10B',\n",
    "    'British Michael': '40A',\n",
    "    'Jean-Michel': '10A'\n",
    "   }\n"
   ]
  },
  {
   "cell_type": "code",
   "execution_count": null,
   "id": "56705a31-828e-4b65-9dec-fe03c5c8d017",
   "metadata": {},
   "outputs": [],
   "source": []
  },
  {
   "cell_type": "markdown",
   "id": "efbde067-c761-4aa6-8335-92b4facb78d7",
   "metadata": {},
   "source": [
    "More tricks on iterating smartly:  https://docs.python.org/3/tutorial/datastructures.html#tut-loopidioms"
   ]
  },
  {
   "cell_type": "markdown",
   "id": "6fb81674-ebec-4ecc-b1a0-9714e4db374e",
   "metadata": {},
   "source": [
    "functions!"
   ]
  },
  {
   "cell_type": "code",
   "execution_count": null,
   "id": "621ce952-232a-4f9a-8e94-42ef1f4711fa",
   "metadata": {},
   "outputs": [],
   "source": []
  },
  {
   "cell_type": "code",
   "execution_count": null,
   "id": "68bc2452-c252-4e6f-891a-72437697f46d",
   "metadata": {},
   "outputs": [],
   "source": []
  },
  {
   "cell_type": "code",
   "execution_count": null,
   "id": "4bcbdcf7-12a4-4f5e-bb38-f1c195141a9d",
   "metadata": {},
   "outputs": [],
   "source": []
  },
  {
   "cell_type": "code",
   "execution_count": null,
   "id": "5e1d4b78-47a9-4761-8887-ff4d1dfcb8a0",
   "metadata": {},
   "outputs": [],
   "source": []
  },
  {
   "cell_type": "code",
   "execution_count": null,
   "id": "9d45b0f6-238a-4ce6-a164-f5a571ca1524",
   "metadata": {},
   "outputs": [],
   "source": []
  },
  {
   "cell_type": "code",
   "execution_count": null,
   "id": "63cf3840-612d-4d56-97b6-357362910e11",
   "metadata": {},
   "outputs": [],
   "source": []
  }
 ],
 "metadata": {
  "kernelspec": {
   "display_name": "Python 3 (ipykernel)",
   "language": "python",
   "name": "python3"
  },
  "language_info": {
   "codemirror_mode": {
    "name": "ipython",
    "version": 3
   },
   "file_extension": ".py",
   "mimetype": "text/x-python",
   "name": "python",
   "nbconvert_exporter": "python",
   "pygments_lexer": "ipython3",
   "version": "3.9.7"
  }
 },
 "nbformat": 4,
 "nbformat_minor": 5
}
