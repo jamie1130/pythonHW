{
 "cells": [
  {
   "cell_type": "markdown",
   "metadata": {},
   "source": [
    "Announcements (will email after class):\n",
    "- HW1 is released! Due next Thursday. \n",
    "- 3 hour office hour block tomorrow (Thursday): 11-12pm Shruti, 12-1pm Harlin, 1-2pm Vishnu. zoom links on Canvas.\n",
    "- Will put lecture recordings on Canvas > Media Gallery\n",
    "- FYI: Gradescope maintenance scheduled for 8-9pm Pacific Time on January 7th\n"
   ]
  },
  {
   "cell_type": "markdown",
   "metadata": {},
   "source": [
    "Last time: `int`, `float`, `bool`, `str`, variable assignments\n",
    "\n",
    "Today: indexing, slicing, `list`, how objects work in Python\n",
    "\n",
    "`int` and `float` operations:"
   ]
  },
  {
   "cell_type": "code",
   "execution_count": 1,
   "metadata": {},
   "outputs": [
    {
     "name": "stdout",
     "output_type": "stream",
     "text": [
      "7\n",
      "3\n",
      "10\n",
      "2.5 <class 'float'>\n"
     ]
    }
   ],
   "source": [
    "print(5 + 2)\n",
    "print(5 - 2)\n",
    "print(5 * 2)\n",
    "print(5 / 2, type(5/2)) # always returns a float"
   ]
  },
  {
   "cell_type": "code",
   "execution_count": 2,
   "metadata": {},
   "outputs": [
    {
     "name": "stdout",
     "output_type": "stream",
     "text": [
      "2 <class 'int'>\n",
      "1\n",
      "25\n",
      "7\n"
     ]
    }
   ],
   "source": [
    "print(5 // 2, type(5//2)) # floor division (divide and take the int)\n",
    "print(5 % 2) # remainder\n",
    "\n",
    "# every 100 steps print where I am now, print progress\n",
    "# if step % 100 == 0:\n",
    "#    print progress\n",
    "\n",
    "print(5 ** 2) # power\n",
    "\n",
    "print(5 ^ 2) # this is NOT power operation"
   ]
  },
  {
   "cell_type": "markdown",
   "metadata": {},
   "source": [
    "A little bit more about `str`:"
   ]
  },
  {
   "cell_type": "code",
   "execution_count": 3,
   "metadata": {},
   "outputs": [
    {
     "name": "stdout",
     "output_type": "stream",
     "text": [
      "10\n",
      "abc def\n"
     ]
    }
   ],
   "source": [
    "s = '0123456789'\n",
    "#s = \"0123456789\"\n",
    "\n",
    "# get length\n",
    "print(len(s))\n",
    "\n",
    "# concatenate with +\n",
    "print( \"abc\" + \" \" + \"def\" )"
   ]
  },
  {
   "cell_type": "code",
   "execution_count": 4,
   "metadata": {},
   "outputs": [
    {
     "name": "stdout",
     "output_type": "stream",
     "text": [
      "789\n"
     ]
    }
   ],
   "source": [
    "print(s[-3:])"
   ]
  },
  {
   "cell_type": "code",
   "execution_count": 5,
   "metadata": {},
   "outputs": [
    {
     "name": "stdout",
     "output_type": "stream",
     "text": [
      "0 3\n",
      "9 9 9\n",
      "7\n",
      "012\n",
      "012\n",
      "9876543210\n"
     ]
    }
   ],
   "source": [
    "# indexing\n",
    "print(s[0], s[3])\n",
    "print(s[9], s[len(s)-1], s[-1])\n",
    "print(s[-3])\n",
    "\n",
    "# slicing\n",
    "print(s[0:3:1]) \n",
    "\n",
    "# start:end:step, start is included, end is NOT included\n",
    "# if there is no step, assume 1\n",
    "# if there is no start, assume very beginning (0)\n",
    "# if there is no end, assume very end + 1 (len(s))\n",
    "# very intuitive once you get used to it: s[:x], s[-x:]\n",
    "\n",
    "print(s[:3])\n",
    "print(s[::-1])"
   ]
  },
  {
   "cell_type": "markdown",
   "metadata": {},
   "source": [
    "More string methods https://docs.python.org/3/library/stdtypes.html#string-methods (hint, some might be useful for HW1...)\n",
    "\n",
    "Personally I use `strip`, `replace`, `split`, `splitlines`, `join`, and capitalization-related ones pretty often. Definitely *don't* sit down and memorize them, but keep this link handy!\n",
    "\n",
    "Try running these lines later:\n",
    "```Python\n",
    "s =  '   spacious    '\n",
    "print(s.strip())\n",
    "\n",
    "s =  'aaahh   panic    aahhh'\n",
    "print(s.strip('ah'))\n",
    "print(s.strip('ah '))\n",
    "\n",
    "L = [\"ba\", \"na\", \"na\"]\n",
    "print(\"\".join(L))\n",
    "print(\" \".join(L))\n",
    "print(\"---\".join(L))\n",
    "```\n",
    "\n",
    "Q: They can be useful tools for file paths (e.g. '/Users/harlinl/Box Sync/PIC/16A/lectures') - how so?"
   ]
  },
  {
   "cell_type": "markdown",
   "metadata": {},
   "source": [
    "## `list`"
   ]
  },
  {
   "cell_type": "code",
   "execution_count": 6,
   "metadata": {},
   "outputs": [
    {
     "name": "stdout",
     "output_type": "stream",
     "text": [
      "[1, 2, 'meow', 4, '5'] <class 'list'>\n"
     ]
    }
   ],
   "source": [
    "L = [1, 2, \"meow\", 4, '5'] # can have mixed types\n",
    "print(L, type(L))"
   ]
  },
  {
   "cell_type": "code",
   "execution_count": 7,
   "metadata": {},
   "outputs": [
    {
     "name": "stdout",
     "output_type": "stream",
     "text": [
      "5\n",
      "[0, 1, 2, 3, 4, 5.0]\n",
      "2 3\n",
      "[4, 3, 2, 1, 0]\n"
     ]
    }
   ],
   "source": [
    "L = [0, 1, 2, 3, 4]\n",
    "# len, +, indexing, slicing - same as str\n",
    "\n",
    "print(len(L))\n",
    "print(L + [5.0])\n",
    "print(L[2], L[-2])\n",
    "print(L[::-1])\n",
    "\n"
   ]
  },
  {
   "cell_type": "code",
   "execution_count": 8,
   "metadata": {},
   "outputs": [
    {
     "name": "stdout",
     "output_type": "stream",
     "text": [
      "[0]\n",
      "[0, 1]\n"
     ]
    }
   ],
   "source": [
    "# lists have append\n",
    "\n",
    "L = [0]\n",
    "print(L)\n",
    "\n",
    "L.append(1) # L.append([1]) is a common mistake\n",
    "print(L)"
   ]
  },
  {
   "cell_type": "code",
   "execution_count": 9,
   "metadata": {},
   "outputs": [
    {
     "name": "stdout",
     "output_type": "stream",
     "text": [
      "['hello', 2, 'meow', 4, '5']\n"
     ]
    }
   ],
   "source": [
    "# lists have item assignment\n",
    "\n",
    "L = [1, 2, \"meow\", 4, '5']\n",
    "\n",
    "L[0] = \"hello\"\n",
    "print(L)"
   ]
  },
  {
   "cell_type": "code",
   "execution_count": 10,
   "metadata": {},
   "outputs": [],
   "source": [
    "L = [0]\n",
    "L.append(1) # [0, 1]\n",
    "\n",
    "L = [0]\n",
    "L = L + [1] # [0, 1]"
   ]
  },
  {
   "cell_type": "markdown",
   "metadata": {},
   "source": [
    "More list methods: https://docs.python.org/3/tutorial/datastructures.html#more-on-lists\n",
    "\n",
    "Some more exercises in https://docs.python.org/3/tutorial/introduction.html#lists."
   ]
  },
  {
   "cell_type": "markdown",
   "metadata": {},
   "source": [
    "## This part is important!\n",
    "Objects are Python's abstractions of data.\n",
    "\n",
    "https://docs.python.org/3/reference/datamodel.html#objects-values-and-types\n",
    "\n",
    "In `x = 0`, then `0` is the object, and `x` is the name (variable name).\n",
    "\n",
    "An object has 3 things:\n",
    "- an identity: basically object's address in memory. use `id()`\n",
    "- a type: use `type()`\n",
    "- a value"
   ]
  },
  {
   "cell_type": "code",
   "execution_count": 11,
   "metadata": {},
   "outputs": [
    {
     "name": "stdout",
     "output_type": "stream",
     "text": [
      "identity is 140658121775376\n",
      "type is <class 'int'>\n",
      "value is 0\n"
     ]
    }
   ],
   "source": [
    "x = 0\n",
    "print('identity is', id(x))\n",
    "print('type is', type(x))\n",
    "print('value is', x)"
   ]
  },
  {
   "cell_type": "markdown",
   "metadata": {},
   "source": [
    "![title](object.jpeg)"
   ]
  },
  {
   "cell_type": "code",
   "execution_count": 12,
   "metadata": {},
   "outputs": [
    {
     "name": "stdout",
     "output_type": "stream",
     "text": [
      "0 0\n",
      "0 1\n"
     ]
    }
   ],
   "source": [
    "x = 0\n",
    "y = x\n",
    "\n",
    "print(x, y)\n",
    "\n",
    "y = 1\n",
    "\n",
    "print(x, y)"
   ]
  },
  {
   "cell_type": "code",
   "execution_count": 13,
   "metadata": {},
   "outputs": [
    {
     "name": "stdout",
     "output_type": "stream",
     "text": [
      "[0] [0]\n",
      "[0] [1]\n"
     ]
    }
   ],
   "source": [
    "x = [0]\n",
    "y = x\n",
    "\n",
    "print(x, y)\n",
    "\n",
    "y = [1]\n",
    "print(x, y)"
   ]
  },
  {
   "cell_type": "code",
   "execution_count": 14,
   "metadata": {},
   "outputs": [
    {
     "name": "stdout",
     "output_type": "stream",
     "text": [
      "[0] [0]\n",
      "140658232317248 140658232317248\n",
      "[0, 1] [0, 1]\n"
     ]
    }
   ],
   "source": [
    "x = [0]\n",
    "y = x\n",
    "\n",
    "print(x, y)\n",
    "print(id(x), id(y))\n",
    "\n",
    "y.append(1)\n",
    "\n",
    "print(x, y)"
   ]
  },
  {
   "cell_type": "code",
   "execution_count": 15,
   "metadata": {},
   "outputs": [
    {
     "name": "stdout",
     "output_type": "stream",
     "text": [
      "[0] [0]\n",
      "[0] [0, 1]\n"
     ]
    }
   ],
   "source": [
    "x = [0]\n",
    "y = [0]\n",
    "\n",
    "print(x, y)\n",
    "\n",
    "y.append(1)\n",
    "\n",
    "print(x, y)"
   ]
  },
  {
   "cell_type": "code",
   "execution_count": 16,
   "metadata": {},
   "outputs": [
    {
     "name": "stdout",
     "output_type": "stream",
     "text": [
      "[0] [0]\n",
      "140658232324480 140658232324480\n",
      "[0, 1, 2] [0, 1, 2]\n",
      "140658232324480 140658232324480\n"
     ]
    }
   ],
   "source": [
    "x = [0]\n",
    "y = x\n",
    "\n",
    "print(x, y)\n",
    "print(id(x), id(y)) #\n",
    "\n",
    "x.append(1)\n",
    "y.append(2)\n",
    "\n",
    "print(x, y)\n",
    "print(id(x), id(y))"
   ]
  },
  {
   "cell_type": "code",
   "execution_count": 17,
   "metadata": {},
   "outputs": [
    {
     "name": "stdout",
     "output_type": "stream",
     "text": [
      "[0] [0]\n",
      "140658231401408 140658231401408\n",
      "[0, 1] [0, 2]\n",
      "140658232318720 140658232324224\n"
     ]
    }
   ],
   "source": [
    "x = [0]\n",
    "y = x\n",
    "\n",
    "print(x, y)\n",
    "print(id(x), id(y))\n",
    "\n",
    "x = x + [1]\n",
    "y = y + [2]\n",
    "\n",
    "print(x, y)\n",
    "print(id(x), id(y)) # note that not only are they different from each other, they are also different from the original object!"
   ]
  },
  {
   "cell_type": "markdown",
   "metadata": {},
   "source": [
    "# We stopped here last class\n",
    "\n",
    "Announcements:\n",
    "- Radha\n",
    "- Office hours settled\n",
    "- Quiz 1 due by next lecture\n",
    "- Discussions 1-4 due next Friday for everyone\n",
    "- Remote learning until Jan 28 :'(\n",
    "\n",
    "Last lecture: indexing, slicing, objects, `list` and tricky things about lists.\n",
    "\n",
    "Today: mutability, `list` vs `tuple`, `dict`\n",
    "\n",
    "`is` vs. `==`: https://docs.python.org/3/library/stdtypes.html#truth-value-testing\n",
    "\n",
    "\n",
    "List of lists"
   ]
  },
  {
   "cell_type": "code",
   "execution_count": 18,
   "metadata": {},
   "outputs": [
    {
     "name": "stdout",
     "output_type": "stream",
     "text": [
      "False\n",
      "True\n",
      "True\n"
     ]
    }
   ],
   "source": [
    "x = [0]\n",
    "y = [0]\n",
    "print(x is y) # compare id\n",
    "print(x == y) # compare value\n",
    "print(type(x)==type(y)) #compare type"
   ]
  },
  {
   "cell_type": "code",
   "execution_count": 19,
   "metadata": {},
   "outputs": [
    {
     "name": "stdout",
     "output_type": "stream",
     "text": [
      "[0, [1, 2, 3]]\n"
     ]
    }
   ],
   "source": [
    "L = [0, [1, 2]]\n",
    "\n",
    "inner = L[1]\n",
    "inner.append(3) # object referenced by inner is modified by the append method.\n",
    "\n",
    "print(L)\n",
    "\n",
    "# 1) [0, [1, 2]]\n",
    "# 2) [0, [1, 2, 3]]"
   ]
  },
  {
   "cell_type": "code",
   "execution_count": 20,
   "metadata": {},
   "outputs": [
    {
     "name": "stdout",
     "output_type": "stream",
     "text": [
      "[0, [1, 2]] 140658232325248\n",
      "[1, 2] 140658231401408\n",
      "[1, 2, 3] 140658231559360\n",
      "[0, [1, 2]] 140658232325248\n"
     ]
    }
   ],
   "source": [
    "L = [0, [1, 2]]\n",
    "print(L, id(L))\n",
    "\n",
    "inner = L[1]\n",
    "print(inner, id(inner))\n",
    "\n",
    "inner = inner + [3] # inner is assigned to a different object at this point\n",
    "print(inner, id(inner))\n",
    "\n",
    "print(L, id(L))\n",
    "\n",
    "\n",
    "# 1) [0, [1, 2]]\n",
    "# 2) [0, [1, 2, 3]]"
   ]
  },
  {
   "cell_type": "markdown",
   "metadata": {},
   "source": [
    "identity and type of an object are unchangeable once the object is created. but the value can be changed in SOME objects.\n",
    "\n",
    "'mutable' vs. 'immutable'. this is an important bit of \"theory\" to prevent many common bugs!"
   ]
  },
  {
   "cell_type": "code",
   "execution_count": 21,
   "metadata": {},
   "outputs": [
    {
     "name": "stdout",
     "output_type": "stream",
     "text": [
      "[[3, 1], [3, 1], [3, 1]]\n",
      "140658232262016 140658232262016 140658232262016\n"
     ]
    }
   ],
   "source": [
    "res = []\n",
    "y = [0, 1]\n",
    "\n",
    "for i in [0, 1, 2]:\n",
    "    y[0] = y[0] + 1\n",
    "    res.append(y)\n",
    "    \n",
    "print(res) # [[0,1], [1, 1]]\n",
    "print(id(res[0]), id(res[1]), id(res[2]))"
   ]
  },
  {
   "cell_type": "code",
   "execution_count": 22,
   "metadata": {},
   "outputs": [
    {
     "name": "stdout",
     "output_type": "stream",
     "text": [
      "[[1, 1], [2, 1], [3, 1]]\n",
      "140658232326656 140658232318976 140658232326848\n"
     ]
    }
   ],
   "source": [
    "res = []\n",
    "y = [0, 1]\n",
    "\n",
    "for i in [0, 1, 2]:\n",
    "    y[0] = y[0] + 1\n",
    "    z = y.copy() # or y[:]\n",
    "    res.append(z)\n",
    "\n",
    "print(res)\n",
    "print(id(res[0]), id(res[1]), id(res[2]))"
   ]
  },
  {
   "cell_type": "code",
   "execution_count": 23,
   "metadata": {},
   "outputs": [],
   "source": [
    "y = [1, 2, 3] # value of object referenced by y has references to 1, 2, 3\n",
    "z = y.copy() # value of object referenced by z has references to the SAME 1, 2, 3"
   ]
  },
  {
   "cell_type": "markdown",
   "metadata": {},
   "source": [
    "\"Assignment statements in Python do not copy objects, they create bindings between a target and an object. For collections that are mutable or contain mutable items, a copy is sometimes needed so one can change one copy without changing the other.\"\n",
    "\n",
    "\n",
    "shallow copy vs. deep copy: https://docs.python.org/3/library/copy.html. There is no need to know the intricacies of deep copy, just be familiar with the term shallow copy, and know that L[:], L.copy() both return shallow copies, i.e. copy only  the references from the original list.\n",
    "\n",
    "Strings are an example of immutable sequences and \n",
    "lists are an example of mutable sequences. \n",
    "They're both \"sequences\", which is why they both support a lot of the same\n",
    "operations (e.g. indexing, slicing, len, etc).\n",
    "But you can't change the value of a string. You need to make a new object if you \n",
    "want to make changes.\n",
    "\n",
    "`tuple` is another immutable sequence. Regarded/used as an \"immutable list\"."
   ]
  },
  {
   "cell_type": "code",
   "execution_count": 24,
   "metadata": {},
   "outputs": [
    {
     "name": "stdout",
     "output_type": "stream",
     "text": [
      "[1, 2, 3]\n",
      "[99, 2, 3]\n"
     ]
    }
   ],
   "source": [
    "L = [1, 2, 3]\n",
    "print(L)\n",
    "L[0] = 99\n",
    "print(L)"
   ]
  },
  {
   "cell_type": "code",
   "execution_count": 25,
   "metadata": {},
   "outputs": [],
   "source": [
    "# s = '123'\n",
    "# print(s)\n",
    "# s[0] = '9'\n",
    "# print(s)"
   ]
  },
  {
   "cell_type": "code",
   "execution_count": 26,
   "metadata": {},
   "outputs": [],
   "source": [
    "# t = (1, 2, 3)\n",
    "# print(t)\n",
    "# t[0] = 99\n",
    "# print(t)"
   ]
  },
  {
   "cell_type": "code",
   "execution_count": 27,
   "metadata": {},
   "outputs": [
    {
     "name": "stdout",
     "output_type": "stream",
     "text": [
      "[1, 2, 3, 4]\n",
      "1234\n",
      "(1, 2, 3, 4)\n"
     ]
    }
   ],
   "source": [
    "L = [1, 2, 3]\n",
    "print(L + [4]) # has append\n",
    "\n",
    "s = '123'\n",
    "print(s + '4') # nothing equivalent to append\n",
    "\n",
    "t = (1, 2, 3)\n",
    "print(t + (4,)) # nothing equivalent to append"
   ]
  },
  {
   "cell_type": "markdown",
   "metadata": {},
   "source": [
    "More explanation on lists and tuples: https://docs.python.org/3/library/stdtypes.html#sequence-types-list-tuple-range\n",
    "\n",
    "skipping over `set`s and `frozensets`... but if you're curious: https://docs.python.org/3/tutorial/datastructures.html#sets"
   ]
  },
  {
   "cell_type": "markdown",
   "metadata": {},
   "source": [
    "when to use `tuple` vs. `list`? \n",
    "\n",
    "immutable objects can be a key in a `dict`. (more precisely, immutable objects support `hash()`, if you're familiar with the concept of hash tables, hash maps.)  https://docs.python.org/3/library/functions.html#hash\n",
    "\n",
    "`dict`"
   ]
  },
  {
   "cell_type": "code",
   "execution_count": 28,
   "metadata": {},
   "outputs": [
    {
     "name": "stdout",
     "output_type": "stream",
     "text": [
      "{'key': 'value', 1: 10, 'k': 23} <class 'dict'>\n"
     ]
    }
   ],
   "source": [
    "D = {'key': 'value',\n",
    "     1: 10,\n",
    "     'k': 23 } # mixed types\n",
    "print(D, type(D))"
   ]
  },
  {
   "cell_type": "code",
   "execution_count": 29,
   "metadata": {},
   "outputs": [
    {
     "name": "stdout",
     "output_type": "stream",
     "text": [
      "{} <class 'dict'>\n",
      "{1: 10}\n",
      "{1: 10, 'key': 'value'}\n"
     ]
    }
   ],
   "source": [
    "D = {}\n",
    "print(D, type(D))\n",
    "\n",
    "D[1] = 10\n",
    "print(D)\n",
    "\n",
    "D['key'] = 'value'\n",
    "print(D)"
   ]
  },
  {
   "cell_type": "code",
   "execution_count": 30,
   "metadata": {},
   "outputs": [],
   "source": [
    "D = {}\n",
    "l = [1, 2]\n",
    "\n",
    "# D[l] = True\n",
    "\n",
    "#D[[1, 2]]?\n",
    "#l.append(3)\n",
    "\n",
    "#D[[1,2,3]]?"
   ]
  },
  {
   "cell_type": "code",
   "execution_count": 31,
   "metadata": {},
   "outputs": [
    {
     "name": "stdout",
     "output_type": "stream",
     "text": [
      "{}\n",
      "{5: [1, 2]}\n",
      "{5: [1, 2], 'hello': 'world'}\n"
     ]
    }
   ],
   "source": [
    "D = {}\n",
    "print(D)\n",
    "\n",
    "D[5] = [1,2]\n",
    "print(D)\n",
    "\n",
    "D['hello'] = 'world'\n",
    "print(D)"
   ]
  },
  {
   "cell_type": "code",
   "execution_count": 32,
   "metadata": {},
   "outputs": [
    {
     "name": "stdout",
     "output_type": "stream",
     "text": [
      "{(1, 2): True}\n"
     ]
    }
   ],
   "source": [
    "D = {}\n",
    "l = (1, 2)\n",
    "\n",
    "D[l] = True\n",
    "print(D)"
   ]
  },
  {
   "cell_type": "code",
   "execution_count": 33,
   "metadata": {},
   "outputs": [
    {
     "name": "stdout",
     "output_type": "stream",
     "text": [
      "{(1, 2): False}\n",
      "{(1, 2): True}\n"
     ]
    }
   ],
   "source": [
    "D[(1, 2)] = False\n",
    "print(D)\n",
    "\n",
    "D[(1, 2)] = True \n",
    "print(D)"
   ]
  },
  {
   "cell_type": "markdown",
   "metadata": {},
   "source": [
    "Check out `dict` methods: https://docs.python.org/3/library/stdtypes.html#mapping-types-dict"
   ]
  },
  {
   "cell_type": "code",
   "execution_count": 34,
   "metadata": {},
   "outputs": [],
   "source": [
    "D[l] = 0"
   ]
  },
  {
   "cell_type": "code",
   "execution_count": 35,
   "metadata": {},
   "outputs": [],
   "source": [
    "D = {'key': 'value',\n",
    "     1: 10,\n",
    "     'k': 23 }"
   ]
  },
  {
   "cell_type": "code",
   "execution_count": 36,
   "metadata": {},
   "outputs": [
    {
     "name": "stdout",
     "output_type": "stream",
     "text": [
      "True False\n"
     ]
    }
   ],
   "source": [
    "print(1 in D, 's' in D)"
   ]
  },
  {
   "cell_type": "code",
   "execution_count": 37,
   "metadata": {},
   "outputs": [
    {
     "name": "stdout",
     "output_type": "stream",
     "text": [
      "True\n",
      "True\n",
      "True\n"
     ]
    }
   ],
   "source": [
    "print(1 in [1, 2, 3]) \n",
    "print('1' in '123')\n",
    "print(1 in (1,2,3))"
   ]
  },
  {
   "cell_type": "code",
   "execution_count": 38,
   "metadata": {},
   "outputs": [
    {
     "name": "stdout",
     "output_type": "stream",
     "text": [
      "{'key': 'value', 'k': 23}\n"
     ]
    }
   ],
   "source": [
    "del D[1]\n",
    "print(D)"
   ]
  },
  {
   "cell_type": "code",
   "execution_count": 39,
   "metadata": {},
   "outputs": [
    {
     "name": "stdout",
     "output_type": "stream",
     "text": [
      "dict_keys(['key', 'k'])\n",
      "dict_values(['value', 23])\n",
      "dict_items([('key', 'value'), ('k', 23)])\n"
     ]
    }
   ],
   "source": [
    "print(D.keys())\n",
    "print(D.values())\n",
    "print(D.items())"
   ]
  },
  {
   "cell_type": "code",
   "execution_count": null,
   "metadata": {},
   "outputs": [],
   "source": []
  }
 ],
 "metadata": {
  "kernelspec": {
   "display_name": "Python 3 (ipykernel)",
   "language": "python",
   "name": "python3"
  },
  "language_info": {
   "codemirror_mode": {
    "name": "ipython",
    "version": 3
   },
   "file_extension": ".py",
   "mimetype": "text/x-python",
   "name": "python",
   "nbconvert_exporter": "python",
   "pygments_lexer": "ipython3",
   "version": "3.9.7"
  }
 },
 "nbformat": 4,
 "nbformat_minor": 4
}
