{
 "cells": [
  {
   "cell_type": "markdown",
   "id": "36b4bb17-b5b1-490d-a5e7-22d66f2e2bf5",
   "metadata": {},
   "source": [
    "Announcements:\n",
    "- yay thanks for taking Quiz 1\n",
    "- HW 2 released\n",
    "- OH every day (see class info)\n",
    "\n",
    "Friday: mutable vs immutable objects, tuples, dictionaries\n",
    "\n",
    "Today: control flow, iteration, functions\n",
    "\n",
    "control flow: https://docs.python.org/3/tutorial/controlflow.html\n",
    "\n",
    "boolean operations: https://docs.python.org/3/library/stdtypes.html#truth-value-testing\n",
    "\n",
    "`and`, `or`, `not`"
   ]
  },
  {
   "cell_type": "code",
   "execution_count": 1,
   "id": "0a3b3a40",
   "metadata": {},
   "outputs": [
    {
     "name": "stdout",
     "output_type": "stream",
     "text": [
      "True\n",
      "False\n",
      "True\n",
      "True True\n"
     ]
    }
   ],
   "source": [
    "x = 0\n",
    "y = 1\n",
    "z = 2\n",
    "\n",
    "print(x < y <= z)\n",
    "\n",
    "print(len(\"\") > 0 and y < z) # A and B: if A is False, doesn't evaluate B.\n",
    "\n",
    "print(len(\"\") > 0 or y < z) # A or B: if A is True, doesn't evaluate B.\n",
    "\n",
    "print(not (x == y), x != y)"
   ]
  },
  {
   "cell_type": "markdown",
   "id": "1ba9e623",
   "metadata": {},
   "source": [
    "not to be confused with bitwise operations... https://docs.python.org/3/library/stdtypes.html#bitwise-operations-on-integer-types (no need to know them)"
   ]
  },
  {
   "cell_type": "markdown",
   "id": "33340ddf",
   "metadata": {},
   "source": [
    "`if`, `elif`, `else`"
   ]
  },
  {
   "cell_type": "code",
   "execution_count": 2,
   "id": "b1949be9-f3e0-43d5-bcb7-237378a3b838",
   "metadata": {},
   "outputs": [
    {
     "name": "stdout",
     "output_type": "stream",
     "text": [
      "kinda old cat\n"
     ]
    }
   ],
   "source": [
    "cat_age = 12 \n",
    "\n",
    "if cat_age > 30: # no need to have paranethesis\n",
    "    print('old cat') # indentation is very important\n",
    "elif cat_age > 15:\n",
    "    print('still old cat')\n",
    "elif cat_age > 7:\n",
    "    print('kinda old cat') # have as many elif as you want.\n",
    "else:\n",
    "    print('kitty')"
   ]
  },
  {
   "cell_type": "markdown",
   "id": "dbb5cc4f-8032-4517-a947-37da2d8bc853",
   "metadata": {},
   "source": [
    "`while` `break`"
   ]
  },
  {
   "cell_type": "code",
   "execution_count": 3,
   "id": "8034f564-4570-448c-ae54-30b11da730fc",
   "metadata": {},
   "outputs": [
    {
     "name": "stdout",
     "output_type": "stream",
     "text": [
      "Found an odd number 1\n",
      "Found an even number 2\n",
      "Found an odd number 3\n",
      "Found an even number 4\n",
      "Found an odd number 5\n",
      "Found an even number 6\n",
      "Found an odd number 7\n",
      "Found an even number 8\n",
      "Found an odd number 9\n",
      "Found an even number 10\n"
     ]
    }
   ],
   "source": [
    "num = 0\n",
    "\n",
    "while num < 10:\n",
    "    num = num + 1 # num += 1\n",
    "    \n",
    "    if num % 2 == 0:\n",
    "        print('Found an even number', num)\n",
    "    else:\n",
    "        print('Found an odd number', num)\n"
   ]
  },
  {
   "cell_type": "code",
   "execution_count": 4,
   "id": "bb21da7e-6ed2-474a-aa7b-45090f484394",
   "metadata": {},
   "outputs": [
    {
     "name": "stdout",
     "output_type": "stream",
     "text": [
      "Found an odd number 1\n",
      "Found an even number 2\n",
      "Found an odd number 3\n",
      "Found an even number 4\n",
      "Found an odd number 5\n",
      "Found an even number 6\n",
      "Found an odd number 7\n",
      "Found an even number 8\n",
      "Found an odd number 9\n",
      "Found an even number 10\n"
     ]
    }
   ],
   "source": [
    "num = 0 \n",
    "while True:\n",
    "    num += 1\n",
    "    \n",
    "    if num % 2 == 0:\n",
    "        print(\"Found an even number\", num)\n",
    "    else:\n",
    "        print(\"Found an odd number\", num)\n",
    "    \n",
    "    if num == 10:\n",
    "        break # break out of the innermost loop that it's in."
   ]
  },
  {
   "cell_type": "markdown",
   "id": "1391a423-63c5-4a46-9a4f-eacedb54e047",
   "metadata": {},
   "source": [
    "Why would you choose to implement `while` loop one way over the other? - what if termination condition is complicated?"
   ]
  },
  {
   "cell_type": "code",
   "execution_count": 5,
   "id": "c1711548-593a-4b3e-aaca-ebc63d98ec98",
   "metadata": {},
   "outputs": [
    {
     "name": "stdout",
     "output_type": "stream",
     "text": [
      "Found an odd number 1\n",
      "Found an even number 2\n",
      "Found an odd number 3\n",
      "Found an even number 4\n",
      "Found an odd number 5\n",
      "Found an even number 6\n",
      "Found an odd number 7\n",
      "Found an even number 8\n",
      "Found an odd number 9\n",
      "Found an even number 10\n"
     ]
    }
   ],
   "source": [
    "num = 0\n",
    "\n",
    "while True:\n",
    " \n",
    "    num = num + 1 # num += 1\n",
    "    \n",
    "    if num > 10:\n",
    "        break\n",
    "    elif num % 2 == 0:\n",
    "        print('Found an even number', num)\n",
    "    else:\n",
    "        print('Found an odd number', num)\n"
   ]
  },
  {
   "cell_type": "markdown",
   "id": "99636cf4-b6e8-421a-b704-abf591ae96ab",
   "metadata": {},
   "source": [
    "`continue` "
   ]
  },
  {
   "cell_type": "code",
   "execution_count": 6,
   "id": "0a615f74-baac-4b42-a1bf-74b8a4029ea8",
   "metadata": {},
   "outputs": [
    {
     "name": "stdout",
     "output_type": "stream",
     "text": [
      "Found an odd number 1\n",
      "Found an even number 2\n",
      "Found an odd number 3\n",
      "Found an even number 4\n",
      "Found an odd number 5\n",
      "Found an even number 6\n",
      "Found an odd number 7\n",
      "Found an even number 8\n",
      "Found an odd number 9\n",
      "Found an even number 10\n"
     ]
    }
   ],
   "source": [
    "num = 0\n",
    "\n",
    "while num < 10:\n",
    "    num = num + 1 # num += 1\n",
    "    \n",
    "    if num % 2 == 0:\n",
    "        print('Found an even number', num)\n",
    "    else:\n",
    "        print('Found an odd number', num)\n"
   ]
  },
  {
   "cell_type": "code",
   "execution_count": 7,
   "id": "8ca35921-5bfb-46f8-89e2-04eac290bf0c",
   "metadata": {},
   "outputs": [
    {
     "name": "stdout",
     "output_type": "stream",
     "text": [
      "Found an odd number 1\n",
      "Found an even number 2\n",
      "Found an odd number 3\n",
      "Found an even number 4\n",
      "Found an odd number 5\n",
      "Found an even number 6\n",
      "Found an odd number 7\n",
      "Found an even number 8\n",
      "Found an odd number 9\n",
      "Found an even number 10\n"
     ]
    }
   ],
   "source": [
    "num = 0\n",
    "\n",
    "while num < 10:\n",
    "    num = num + 1 # num += 1\n",
    "\n",
    "    if num % 2 == 0:\n",
    "        print('Found an even number', num)\n",
    "        continue # go back to top of the innermost loop it's in\n",
    "    \n",
    "    print('Found an odd number', num)\n"
   ]
  },
  {
   "cell_type": "markdown",
   "id": "cb1bec3b-ab0d-4b42-b5cd-4e6bffbdbddb",
   "metadata": {},
   "source": [
    "`pass`"
   ]
  },
  {
   "cell_type": "code",
   "execution_count": 8,
   "id": "6de45d74-149e-4e66-a5e2-3439d6066fd5",
   "metadata": {},
   "outputs": [
    {
     "name": "stdout",
     "output_type": "stream",
     "text": [
      "Found an odd number 1\n",
      "outside if-else 1\n",
      "im inside the if block 2\n",
      "outside if-else 2\n",
      "Found an odd number 3\n",
      "outside if-else 3\n",
      "im inside the if block 4\n",
      "outside if-else 4\n",
      "Found an odd number 5\n",
      "outside if-else 5\n",
      "im inside the if block 6\n",
      "outside if-else 6\n",
      "Found an odd number 7\n",
      "outside if-else 7\n",
      "im inside the if block 8\n",
      "outside if-else 8\n",
      "Found an odd number 9\n",
      "outside if-else 9\n",
      "im inside the if block 10\n",
      "outside if-else 10\n"
     ]
    }
   ],
   "source": [
    "num = 0\n",
    "\n",
    "while num < 10:\n",
    "    num = num + 1 # num += 1\n",
    "\n",
    "    if num % 2 == 0:\n",
    "        pass # placeholder line\n",
    "        print('im inside the if block', num)\n",
    "    else:\n",
    "        print('Found an odd number', num)\n",
    "        \n",
    "    print('outside if-else', num)\n"
   ]
  },
  {
   "cell_type": "markdown",
   "id": "06f782db-d79f-43a8-821a-dc60533a6a8a",
   "metadata": {},
   "source": [
    "`for` loops - the Python way"
   ]
  },
  {
   "cell_type": "code",
   "execution_count": 9,
   "id": "893a3198-c674-4f94-b2ba-3abe20fb590d",
   "metadata": {},
   "outputs": [
    {
     "name": "stdout",
     "output_type": "stream",
     "text": [
      "0\n",
      "PIC instructor Harlin\n",
      "1\n",
      "PIC instructor American Mike\n",
      "2\n",
      "PIC instructor British Mike\n",
      "3\n",
      "PIC instructor Canadian Mike\n",
      "4\n",
      "PIC instructor British Michael\n",
      "5\n",
      "PIC instructor Jean-Michel\n"
     ]
    }
   ],
   "source": [
    "L = ['Harlin', 'American Mike', 'British Mike', 'Canadian Mike', 'British Michael', 'Jean-Michel']\n",
    "\n",
    "for i in [0, 1, 2, 3, 4, 5]:\n",
    "    print(i)\n",
    "    print('PIC instructor', L[i])"
   ]
  },
  {
   "cell_type": "markdown",
   "id": "a0db7e27-4ee8-470f-abea-f827103a88bd",
   "metadata": {},
   "source": [
    "`range`"
   ]
  },
  {
   "cell_type": "code",
   "execution_count": 10,
   "id": "42c70bba-dcab-4c8e-afa6-05ae58b7478b",
   "metadata": {},
   "outputs": [
    {
     "name": "stdout",
     "output_type": "stream",
     "text": [
      "0\n",
      "PIC instructor Harlin\n",
      "1\n",
      "PIC instructor American Mike\n",
      "2\n",
      "PIC instructor British Mike\n",
      "3\n",
      "PIC instructor Canadian Mike\n",
      "4\n",
      "PIC instructor British Michael\n",
      "5\n",
      "PIC instructor Jean-Michel\n"
     ]
    }
   ],
   "source": [
    "for i in range(len(L)): # i = 0, 1, ... len(L)-1 , shortcut for range(0, 6, 1)\n",
    "    print(i)\n",
    "    print('PIC instructor', L[i])"
   ]
  },
  {
   "cell_type": "code",
   "execution_count": 11,
   "id": "f2c37e37-db43-40c0-bf69-6cea72ac59a3",
   "metadata": {},
   "outputs": [
    {
     "name": "stdout",
     "output_type": "stream",
     "text": [
      "Harlin\n",
      "PIC instructor Harlin\n",
      "American Mike\n",
      "PIC instructor American Mike\n",
      "British Mike\n",
      "PIC instructor British Mike\n",
      "Canadian Mike\n",
      "PIC instructor Canadian Mike\n",
      "British Michael\n",
      "PIC instructor British Michael\n",
      "Jean-Michel\n",
      "PIC instructor Jean-Michel\n"
     ]
    }
   ],
   "source": [
    "for name in L: # name = 'harlin', 'mike1', ...\n",
    "    print(name)\n",
    "    print('PIC instructor', name)"
   ]
  },
  {
   "cell_type": "code",
   "execution_count": 12,
   "id": "ccb42b0d-90c8-4a24-ae0c-32dca0967ddd",
   "metadata": {},
   "outputs": [
    {
     "name": "stdout",
     "output_type": "stream",
     "text": [
      "<class 'range'>\n"
     ]
    }
   ],
   "source": [
    "print(type(range(6))) # range is similar to a list, but not actually a list."
   ]
  },
  {
   "cell_type": "markdown",
   "id": "5cef9495-d711-4291-a08e-c244191ac820",
   "metadata": {},
   "source": [
    "`enumerate` "
   ]
  },
  {
   "cell_type": "code",
   "execution_count": 13,
   "id": "1a55b2f2-ee01-4ba2-9216-fa7210aaa451",
   "metadata": {},
   "outputs": [
    {
     "name": "stdout",
     "output_type": "stream",
     "text": [
      "0 Harlin\n",
      "1 American Mike\n",
      "2 British Mike\n",
      "3 Canadian Mike\n",
      "4 British Michael\n",
      "5 Jean-Michel\n"
     ]
    }
   ],
   "source": [
    "for i, name in enumerate(L):\n",
    "    print(i, name)"
   ]
  },
  {
   "cell_type": "code",
   "execution_count": 14,
   "id": "a22fd1ba-ded8-47e3-a7c6-27eff9f7ab8e",
   "metadata": {},
   "outputs": [
    {
     "name": "stdout",
     "output_type": "stream",
     "text": [
      "0 Harlin\n",
      "1 American Mike\n",
      "2 British Mike\n",
      "3 Canadian Mike\n",
      "4 British Michael\n",
      "5 Jean-Michel\n"
     ]
    }
   ],
   "source": [
    "for i in range(len(L)):\n",
    "    name = L[i]\n",
    "    print(i, name)"
   ]
  },
  {
   "cell_type": "markdown",
   "id": "7542007d-f024-4345-880a-1413b9a28def",
   "metadata": {},
   "source": [
    "list comprehension - very Pythonic tool to create a list from a list! (also useful for HW1)\n",
    "\n",
    "https://docs.python.org/3/tutorial/datastructures.html#list-comprehensions"
   ]
  },
  {
   "cell_type": "code",
   "execution_count": 15,
   "id": "5df7ef9e-7a28-4460-8980-e523f592bbab",
   "metadata": {},
   "outputs": [],
   "source": [
    "L = [1, 2, 3, 4, 5]"
   ]
  },
  {
   "cell_type": "code",
   "execution_count": 16,
   "id": "930a5062-2b36-4092-be21-58380d661b27",
   "metadata": {},
   "outputs": [
    {
     "name": "stdout",
     "output_type": "stream",
     "text": [
      "[1, 4, 9, 16, 25]\n"
     ]
    }
   ],
   "source": [
    "sq_L = []\n",
    "\n",
    "for l in L:\n",
    "    sq_L.append(l**2)\n",
    "\n",
    "print(sq_L)"
   ]
  },
  {
   "cell_type": "code",
   "execution_count": 17,
   "id": "626ff7a0-e4db-44c6-b680-8f83c54b5225",
   "metadata": {},
   "outputs": [
    {
     "name": "stdout",
     "output_type": "stream",
     "text": [
      "[1, 4, 9, 16, 25]\n"
     ]
    }
   ],
   "source": [
    "sq_L = [l**2 for l in L]\n",
    "print(sq_L)"
   ]
  },
  {
   "cell_type": "code",
   "execution_count": 18,
   "id": "c8c7e051-c53e-42ab-9cc7-fed830fc62c5",
   "metadata": {},
   "outputs": [
    {
     "name": "stdout",
     "output_type": "stream",
     "text": [
      "[1, 9, 25]\n"
     ]
    }
   ],
   "source": [
    "odd_sq_L = [l**2 for l in L if l%2 == 1] # [f(x) for x in list if x satisfies criteria]\n",
    "print(odd_sq_L)"
   ]
  },
  {
   "cell_type": "markdown",
   "id": "cc62d191-17be-4e2d-8192-f668dabf926a",
   "metadata": {},
   "source": [
    "Nested list comprehension: https://docs.python.org/3/tutorial/datastructures.html#nested-list-comprehensions (useful for HW1 problem 4)"
   ]
  },
  {
   "cell_type": "markdown",
   "id": "6fb81674-ebec-4ecc-b1a0-9714e4db374e",
   "metadata": {},
   "source": [
    "functions!\n",
    "\n",
    "https://docs.python.org/3/tutorial/controlflow.html#defining-functions"
   ]
  },
  {
   "cell_type": "code",
   "execution_count": 19,
   "id": "621ce952-232a-4f9a-8e94-42ef1f4711fa",
   "metadata": {},
   "outputs": [],
   "source": [
    "def f():\n",
    "    return 1"
   ]
  },
  {
   "cell_type": "code",
   "execution_count": 20,
   "id": "68bc2452-c252-4e6f-891a-72437697f46d",
   "metadata": {},
   "outputs": [
    {
     "name": "stdout",
     "output_type": "stream",
     "text": [
      "1\n"
     ]
    }
   ],
   "source": [
    "x = f()\n",
    "print(x)"
   ]
  },
  {
   "cell_type": "code",
   "execution_count": 21,
   "id": "63cf3840-612d-4d56-97b6-357362910e11",
   "metadata": {},
   "outputs": [],
   "source": [
    "def f(x, z):\n",
    "    print(x, z)\n",
    "    return x, z**2"
   ]
  },
  {
   "cell_type": "code",
   "execution_count": 22,
   "id": "d2c64e49-f36d-4722-bcc0-3d79d19303ff",
   "metadata": {},
   "outputs": [
    {
     "name": "stdout",
     "output_type": "stream",
     "text": [
      "2 3\n",
      "(2, 9)\n"
     ]
    }
   ],
   "source": [
    "y = f(2, 3)\n",
    "print(y)"
   ]
  },
  {
   "cell_type": "code",
   "execution_count": 23,
   "id": "4adcdcc2-d476-45c0-b6a8-a59a57f76bc9",
   "metadata": {},
   "outputs": [
    {
     "ename": "TypeError",
     "evalue": "f() missing 1 required positional argument: 'z'",
     "output_type": "error",
     "traceback": [
      "\u001b[0;31m---------------------------------------------------------------------------\u001b[0m",
      "\u001b[0;31mTypeError\u001b[0m                                 Traceback (most recent call last)",
      "\u001b[0;32m/var/folders/t0/z7bd7v710dv11qgg7r8r3k300000gp/T/ipykernel_44975/3272250079.py\u001b[0m in \u001b[0;36m<module>\u001b[0;34m\u001b[0m\n\u001b[0;32m----> 1\u001b[0;31m \u001b[0mf\u001b[0m\u001b[0;34m(\u001b[0m\u001b[0;36m2\u001b[0m\u001b[0;34m)\u001b[0m\u001b[0;34m\u001b[0m\u001b[0;34m\u001b[0m\u001b[0m\n\u001b[0m",
      "\u001b[0;31mTypeError\u001b[0m: f() missing 1 required positional argument: 'z'"
     ]
    }
   ],
   "source": [
    "f(2)"
   ]
  },
  {
   "cell_type": "code",
   "execution_count": 24,
   "id": "3b0f83c7-5b9c-43ce-9661-d9f2d3d92da2",
   "metadata": {},
   "outputs": [],
   "source": [
    "def f(x, z=5):\n",
    "    z = z**2\n",
    "    return z"
   ]
  },
  {
   "cell_type": "code",
   "execution_count": 25,
   "id": "bf01f558-5de0-4b98-94fa-f8b6605cd990",
   "metadata": {},
   "outputs": [
    {
     "name": "stdout",
     "output_type": "stream",
     "text": [
      "9\n"
     ]
    }
   ],
   "source": [
    "z = 3\n",
    "y = f(1, z)\n",
    "print(y)"
   ]
  },
  {
   "cell_type": "code",
   "execution_count": 26,
   "id": "268c0d40-4f0e-406d-878c-6a4938416adc",
   "metadata": {},
   "outputs": [],
   "source": [
    "def f(x, z):\n",
    "    print('print statement')"
   ]
  },
  {
   "cell_type": "code",
   "execution_count": 27,
   "id": "e38a5b11-96ae-4d66-beda-62ec75dba9d0",
   "metadata": {},
   "outputs": [
    {
     "name": "stdout",
     "output_type": "stream",
     "text": [
      "print statement\n",
      "None\n"
     ]
    }
   ],
   "source": [
    "y = f(2, 3)\n",
    "print(y)"
   ]
  },
  {
   "cell_type": "markdown",
   "id": "71bd73df-d8c5-4051-8acf-7a6c6b9765fa",
   "metadata": {},
   "source": [
    "iterating over dictionary `items`"
   ]
  },
  {
   "cell_type": "code",
   "execution_count": null,
   "id": "96e6dc2c-baa0-4a80-b557-3c0bbca32b9b",
   "metadata": {},
   "outputs": [],
   "source": [
    "D ={'Harlin' : '16A',\n",
    "    'American Mike' : '16A',\n",
    "    'British Mike' : '16A',\n",
    "    'Canadian Mike': '10B',\n",
    "    'British Michael': '40A',\n",
    "    'Jean-Michel': '10A'\n",
    "   }\n"
   ]
  },
  {
   "cell_type": "code",
   "execution_count": null,
   "id": "56705a31-828e-4b65-9dec-fe03c5c8d017",
   "metadata": {},
   "outputs": [],
   "source": []
  },
  {
   "cell_type": "markdown",
   "id": "efbde067-c761-4aa6-8335-92b4facb78d7",
   "metadata": {},
   "source": [
    "More tricks on iterating smartly:  https://docs.python.org/3/tutorial/datastructures.html#tut-loopidioms"
   ]
  }
 ],
 "metadata": {
  "kernelspec": {
   "display_name": "Python 3 (ipykernel)",
   "language": "python",
   "name": "python3"
  },
  "language_info": {
   "codemirror_mode": {
    "name": "ipython",
    "version": 3
   },
   "file_extension": ".py",
   "mimetype": "text/x-python",
   "name": "python",
   "nbconvert_exporter": "python",
   "pygments_lexer": "ipython3",
   "version": "3.9.7"
  }
 },
 "nbformat": 4,
 "nbformat_minor": 5
}
