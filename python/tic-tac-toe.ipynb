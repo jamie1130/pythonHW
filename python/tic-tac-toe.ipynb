{
 "cells": [
  {
   "cell_type": "markdown",
   "metadata": {},
   "source": [
    "# Basic Tic-Tac-Toe\n",
    "\n",
    "### Group Members and Roles\n",
    "\n",
    "- Group Member 1 Jenny Lee(Reviewer)\n",
    "- Group Member 2 Jiaxin luo(Driver)\n",
    "- Group Member 3 Dylan Harrison(Proposer)\n",
    "\n",
    "### Intro\n",
    "\n",
    "In this activity, we'll work in groups to write a very simple version of the game [Tic-Tac-Toe](https://en.wikipedia.org/wiki/Tic-tac-toe). As you may know, Tic-Tac-Toe is a two-player game. \n",
    "\n",
    "- The game starts with an empty 3x3 grid: \n",
    "\n",
    "``` \n",
    ". . .\n",
    ". . .\n",
    ". . .\n",
    "```\n",
    "- Player 1 places an X in one of the 9 grid squares. \n",
    "- Player 2 places an O in one of the remaining 8 grid squares.\n",
    "- The players alternate until no grid squares remain. \n",
    "- A player wins if any row, column, or diagonal contains 3 copies of their symbol; if no player wins, the game ends in a draw. Here is an example of a game in which the O player has won (on the diagonal) after the 6th turn. \n",
    "\n",
    "```\n",
    "O X . \n",
    "X O .\n",
    "X . O\n",
    "```\n",
    "\n",
    "In this activity, we won't worry about evaluating which player has won -- instead, we'll focus on writing code that will allow players to place their symbols and visualize the grid. "
   ]
  },
  {
   "cell_type": "markdown",
   "metadata": {},
   "source": [
    "As often in programming, we'll start from the end and work our way back toward the beginning. In Parts (A)-(C), I will give you the code block, and your task is to describe in words what it does. Note: the operation of several of these code blocks may appear somewhat cryptic in isolation -- just interpret what you see. \n",
    "\n",
    "**Note**: you are free to run the code! But you'll need to reason about the structure of the code, in addition to observing the output, in order to understand what is going on. \n",
    "\n",
    "When you're done, please submit a PDF version of this file to Gradescope.\n",
    "\n",
    "## § Part (A)"
   ]
  },
  {
   "cell_type": "code",
   "execution_count": 2,
   "metadata": {
    "tags": []
   },
   "outputs": [
    {
     "name": "stdin",
     "output_type": "stream",
     "text": [
      "Player, please enter your move: 1-1\n",
      "Player, please enter your move: 1-2\n",
      "Player, please enter your move: 1-3\n",
      "Player, please enter your move: I win!\n"
     ]
    },
    {
     "name": "stdout",
     "output_type": "stream",
     "text": [
      "good job\n"
     ]
    }
   ],
   "source": [
    "while True: \n",
    "    current_move = input(\"Player, please enter your move:\")\n",
    "    if current_move == \"I win!\":\n",
    "        print(\"good job\")\n",
    "        break"
   ]
  },
  {
   "cell_type": "markdown",
   "metadata": {},
   "source": [
    "## Solution\n",
    "\n",
    "Request the player to enter the move and assign to the variable current_movie.\n",
    "Keep looping until the current_move equals \"I win!\", and then print out \"good job\". \n"
   ]
  },
  {
   "cell_type": "markdown",
   "metadata": {},
   "source": [
    "## § Part (B)"
   ]
  },
  {
   "cell_type": "code",
   "execution_count": 10,
   "metadata": {},
   "outputs": [],
   "source": [
    "n = 3\n",
    "grid = [[\".\" for i in range(n)] for j in range(n)]"
   ]
  },
  {
   "cell_type": "markdown",
   "metadata": {},
   "source": [
    "## Solution\n",
    "\n",
    "This creates a list by list comprehension that represents a 3*3 grid.\n"
   ]
  },
  {
   "cell_type": "markdown",
   "metadata": {},
   "source": [
    "## § Part (C)\n",
    "\n",
    "For this code to run, you'll need to run the code in Part (B) if you haven't done so already. \n",
    "\n",
    "*Hint: By default, `print(a)` will add a newline (`\\n`) after printing `a`. You can modify this behavior (to print rows) by using `print(a, end = \" \")`.*"
   ]
  },
  {
   "cell_type": "code",
   "execution_count": 14,
   "metadata": {},
   "outputs": [
    {
     "name": "stdout",
     "output_type": "stream",
     "text": [
      ". . . \n",
      "\n",
      ". . . \n",
      "\n",
      ". . . \n",
      "\n"
     ]
    }
   ],
   "source": [
    "for i in range(n):\n",
    "    for j in range(n):\n",
    "        print(grid[i][j], end = \" \")\n",
    "    print(\"\\n\")"
   ]
  },
  {
   "cell_type": "markdown",
   "metadata": {},
   "source": [
    "## Solution\n",
    "\n",
    "There are two for loops in total using the range function. The 'end=\" \" ' in the innermost loop makes sure that the print statement stays on one line to print the row. The grid[i][j] is accessing the lists that were made inside of the list, grid. The outermost loop prints a new line which is responsible for creating a new row.\n"
   ]
  },
  {
   "cell_type": "markdown",
   "metadata": {},
   "source": [
    "## § Part (D)\n",
    "\n",
    "Now we are going to ask you to start synthesizing and modifying the code shown in parts **(A)--(C)** to produce a functioning Tic-Tac-Toe game. \n",
    "\n",
    "Use your understanding of the code shown in parts **(A)--(C)** to create a block of code which will: \n",
    "\n",
    "- Initialize the empty `grid` as in **(B)**. \n",
    "- Prompt the user until the user says \"I win!\", as in **(A)**. \n",
    "    - If the user gives any other input, print the grid, as in **(C)**. \n",
    "\n",
    "***Hint***: use `if-else` to check whether to terminate the loop or print the grid. <br>\n",
    "\n",
    "You will not need to write much code (after you copy-paste from **(A)--(C)**).\n",
    "\n",
    "At this stage, it is not necessary to request or use any other input from the user. "
   ]
  },
  {
   "cell_type": "code",
   "execution_count": 15,
   "metadata": {},
   "outputs": [
    {
     "name": "stdin",
     "output_type": "stream",
     "text": [
      "Player, please enter your move: 1-1\n"
     ]
    },
    {
     "name": "stdout",
     "output_type": "stream",
     "text": [
      ". . . \n",
      "\n",
      ". . . \n",
      "\n",
      ". . . \n",
      "\n"
     ]
    },
    {
     "name": "stdin",
     "output_type": "stream",
     "text": [
      "Player, please enter your move: 1-2\n"
     ]
    },
    {
     "name": "stdout",
     "output_type": "stream",
     "text": [
      ". . . \n",
      "\n",
      ". . . \n",
      "\n",
      ". . . \n",
      "\n"
     ]
    },
    {
     "name": "stdin",
     "output_type": "stream",
     "text": [
      "Player, please enter your move: 1-3\n"
     ]
    },
    {
     "name": "stdout",
     "output_type": "stream",
     "text": [
      ". . . \n",
      "\n",
      ". . . \n",
      "\n",
      ". . . \n",
      "\n"
     ]
    },
    {
     "name": "stdin",
     "output_type": "stream",
     "text": [
      "Player, please enter your move: I win!\n"
     ]
    },
    {
     "name": "stdout",
     "output_type": "stream",
     "text": [
      "good job\n"
     ]
    }
   ],
   "source": [
    "# your solution here\n",
    "\n",
    "## first, initialize the empty grid using the code from (b)\n",
    "n = 3\n",
    "grid = [[\".\" for i in range(n)] for j in range(n)]\n",
    "\n",
    "\n",
    "## then, until the user types \"I win!\":\n",
    "### prompt the user for input\n",
    "### if the input is \"I win!\", exit the loop\n",
    "while True: \n",
    "    current_move = input(\"Player, please enter your move:\")\n",
    "    if current_move == \"I win!\":\n",
    "        print(\"good job\")\n",
    "        break\n",
    "\n",
    "\n",
    "### otherwise, print the grid using the code from (c)\n",
    "    else: \n",
    "        for i in range(n):\n",
    "            for j in range(n):\n",
    "                print(grid[i][j], end = \" \")\n",
    "            print(\"\\n\")\n",
    "\n"
   ]
  },
  {
   "cell_type": "markdown",
   "metadata": {},
   "source": [
    "## § Part (E)\n",
    "\n",
    "Next, study the following code block. What does it do? "
   ]
  },
  {
   "cell_type": "code",
   "execution_count": 16,
   "metadata": {},
   "outputs": [
    {
     "name": "stdin",
     "output_type": "stream",
     "text": [
      "Player X, please enter your move: 1\n",
      "Player O, please enter your move: 2\n",
      "Player X, please enter your move: 3\n",
      "Player O, please enter your move: 4\n",
      "Player X, please enter your move: 5\n",
      "Player O, please enter your move: 6\n",
      "Player X, please enter your move: 7\n",
      "Player O, please enter your move: 8\n",
      "Player X, please enter your move: 9\n"
     ]
    }
   ],
   "source": [
    "turn = 0\n",
    "while turn < 9:\n",
    "    if turn % 2 == 0:\n",
    "        player = \"X\"\n",
    "    else:\n",
    "        player = \"O\"\n",
    "\n",
    "    current_move = input(\"Player \" + player + \", please enter your move:\")\n",
    "    turn += 1"
   ]
  },
  {
   "cell_type": "markdown",
   "metadata": {},
   "source": [
    "Once you feel comfortable with the above, copy your code from **(D)** into the code block below, and begin to modify it using the ideas illustrated immediately above. \n",
    "\n",
    "Your new code should include a `turn` variable which keeps track of whose turn it is. Additionally, your code should prompt each player (\"Player X\" and \"Player O\") on the appropriate turns. \n",
    "\n",
    "The code block above has most of the required pieces -- you just need to slot them in. "
   ]
  },
  {
   "cell_type": "code",
   "execution_count": 18,
   "metadata": {},
   "outputs": [
    {
     "name": "stdin",
     "output_type": "stream",
     "text": [
      "Player X, please enter your move: 1\n"
     ]
    },
    {
     "name": "stdout",
     "output_type": "stream",
     "text": [
      ". . . \n",
      "\n",
      ". . . \n",
      "\n",
      ". . . \n",
      "\n"
     ]
    },
    {
     "name": "stdin",
     "output_type": "stream",
     "text": [
      "Player O, please enter your move: 3\n"
     ]
    },
    {
     "name": "stdout",
     "output_type": "stream",
     "text": [
      ". . . \n",
      "\n",
      ". . . \n",
      "\n",
      ". . . \n",
      "\n"
     ]
    },
    {
     "name": "stdin",
     "output_type": "stream",
     "text": [
      "Player X, please enter your move: 2\n"
     ]
    },
    {
     "name": "stdout",
     "output_type": "stream",
     "text": [
      ". . . \n",
      "\n",
      ". . . \n",
      "\n",
      ". . . \n",
      "\n"
     ]
    },
    {
     "name": "stdin",
     "output_type": "stream",
     "text": [
      "Player O, please enter your move: I win!\n"
     ]
    },
    {
     "name": "stdout",
     "output_type": "stream",
     "text": [
      "good job\n"
     ]
    }
   ],
   "source": [
    "# your solution here\n",
    "\n",
    "## first, initialize the empty grid using the code from (b)\n",
    "n = 3\n",
    "grid = [[\".\" for i in range(n)] for j in range(n)]\n",
    "\n",
    "\n",
    "## then, until the user types \"I win!\":\n",
    "### prompt the user for input\n",
    "### if the input is \"I win!\", exit the loop\n",
    "\n",
    "turn = 0\n",
    "while turn < 9:\n",
    "    if turn % 2 == 0:\n",
    "        player = \"X\"\n",
    "    else:\n",
    "        player = \"O\"\n",
    "    current_move = input(\"Player \" + player + \", please enter your move:\")\n",
    "    turn += 1      \n",
    "    if current_move == \"I win!\":\n",
    "            print(\"good job\")\n",
    "            break\n",
    "\n",
    "\n",
    "### otherwise, print the grid using the code from (c)\n",
    "    else: \n",
    "        for i in range(n):\n",
    "            for j in range(n):\n",
    "                print(grid[i][j], end = \" \")\n",
    "            print(\"\\n\")\n"
   ]
  },
  {
   "cell_type": "markdown",
   "metadata": {},
   "source": [
    "## § Part (F)\n",
    "\n",
    "Now, allow both players to make moves. If Player X enters two integers separated by a space, then place an \"X\" in the corresponding grid position. You may assume that both players will always input either \"I win!\" or two nonnegative integers no larger than `n-1`. For now, you may assume that the players will not attempt to make a move on a square that is already occupied. \n",
    "\n",
    "***Hint***: the following block illustrates how to get two integer coordinates from the user input. \n",
    "\n",
    "```python\n",
    "current_move = \"1 1\"\n",
    "coords = current_move.split()\n",
    "```"
   ]
  },
  {
   "cell_type": "code",
   "execution_count": 25,
   "metadata": {},
   "outputs": [
    {
     "name": "stdin",
     "output_type": "stream",
     "text": [
      "Player X, please enter your move: 0 0\n"
     ]
    },
    {
     "name": "stdout",
     "output_type": "stream",
     "text": [
      "X . . \n",
      "\n",
      ". . . \n",
      "\n",
      ". . . \n",
      "\n"
     ]
    },
    {
     "name": "stdin",
     "output_type": "stream",
     "text": [
      "Player O, please enter your move: I win!\n"
     ]
    },
    {
     "name": "stdout",
     "output_type": "stream",
     "text": [
      "good job\n"
     ]
    }
   ],
   "source": [
    "##your solution here\n",
    "\n",
    "## first, initialize the empty grid using the code from (b)\n",
    "n = 3\n",
    "grid = [[\".\" for i in range(n)] for j in range(n)]\n",
    "\n",
    "\n",
    "## then, until the user types \"I win!\":\n",
    "### prompt the user for input\n",
    "### if the input is \"I win!\", exit the loop\n",
    "\n",
    "turn = 0\n",
    "while turn < 9:\n",
    "    if turn % 2 == 0:\n",
    "        player = \"X\"\n",
    "    else:\n",
    "        player = \"O\"\n",
    "    current_move = input(\"Player \" + player + \", please enter your move:\")\n",
    "   \n",
    "    turn += 1      \n",
    "    if current_move == \"I win!\":\n",
    "            print(\"good job\")\n",
    "            break\n",
    "\n",
    "\n",
    "### otherwise, print the grid using the code from (c)\n",
    "    else:  \n",
    "        coords = current_move.split()\n",
    "        grid[int(coords[0])][int(coords[1])]=player\n",
    "        for i in range(n):\n",
    "            for j in range(n):\n",
    "                print(grid[i][j], end = \" \")\n",
    "            print(\"\\n\")\n"
   ]
  },
  {
   "cell_type": "markdown",
   "metadata": {},
   "source": [
    "## § Part (G)\n",
    "\n",
    "Now modify your code so that, if the player attempts to make a move in a space that is already occupied, then ask the player for a different move. \n",
    "\n",
    "***Hint***: `continue` will return immediately to the beginning of the `while`-loop, and may be useful for reprompting after invalid inputs."
   ]
  },
  {
   "cell_type": "code",
   "execution_count": 28,
   "metadata": {},
   "outputs": [
    {
     "name": "stdin",
     "output_type": "stream",
     "text": [
      "Player X, please enter your move: 0 0\n"
     ]
    },
    {
     "name": "stdout",
     "output_type": "stream",
     "text": [
      "X . . \n",
      "\n",
      ". . . \n",
      "\n",
      ". . . \n",
      "\n"
     ]
    },
    {
     "name": "stdin",
     "output_type": "stream",
     "text": [
      "Player O, please enter your move: 0 0\n"
     ]
    },
    {
     "name": "stdout",
     "output_type": "stream",
     "text": [
      "Cell occupied, try again.\n"
     ]
    },
    {
     "name": "stdin",
     "output_type": "stream",
     "text": [
      "Player O, please enter your move: 0 1\n"
     ]
    },
    {
     "name": "stdout",
     "output_type": "stream",
     "text": [
      "X O . \n",
      "\n",
      ". . . \n",
      "\n",
      ". . . \n",
      "\n"
     ]
    },
    {
     "name": "stdin",
     "output_type": "stream",
     "text": [
      "Player X, please enter your move: 0 1\n"
     ]
    },
    {
     "name": "stdout",
     "output_type": "stream",
     "text": [
      "Cell occupied, try again.\n"
     ]
    },
    {
     "name": "stdin",
     "output_type": "stream",
     "text": [
      "Player X, please enter your move: I win!\n"
     ]
    },
    {
     "name": "stdout",
     "output_type": "stream",
     "text": [
      "good job\n"
     ]
    }
   ],
   "source": [
    "# your solution here\n",
    "## first, initialize the empty grid using the code from (b)\n",
    "n = 3\n",
    "grid = [[\".\" for i in range(n)] for j in range(n)]\n",
    "\n",
    "\n",
    "## then, until the user types \"I win!\":\n",
    "### prompt the user for input\n",
    "### if the input is \"I win!\", exit the loop\n",
    "\n",
    "turn = 0\n",
    "while turn < 9:\n",
    "    if turn % 2 == 0:\n",
    "        player = \"X\"\n",
    "    else:\n",
    "        player = \"O\"\n",
    "    current_move = input(\"Player \" + player + \", please enter your move:\")\n",
    "       \n",
    "    if current_move == \"I win!\":\n",
    "            print(\"good job\")\n",
    "            break\n",
    "\n",
    "\n",
    "### otherwise, print the grid using the code from (c)\n",
    "    else:  \n",
    "        coords = current_move.split()\n",
    "        if grid[int(coords[0])][int(coords[1])]=='.':\n",
    "            grid[int(coords[0])][int(coords[1])]=player\n",
    "            turn += 1 \n",
    "        else:\n",
    "            print (\"Cell occupied, try again.\")\n",
    "            continue\n",
    "        for i in range(n):\n",
    "            for j in range(n):\n",
    "                print(grid[i][j], end = \" \")\n",
    "            print(\"\\n\")"
   ]
  },
  {
   "cell_type": "markdown",
   "metadata": {},
   "source": [
    "## § Part (H)\n",
    "\n",
    "Add comments to the important parts of your code and turn it in. Your comments should make clear which parts of your code are: \n",
    "\n",
    "- Initializing the grid. \n",
    "- Updating the grid. \n",
    "- Prompting the user. \n",
    "- Checking for the validity of moves. \n",
    "- Keeping track of turns. "
   ]
  },
  {
   "cell_type": "code",
   "execution_count": 29,
   "metadata": {},
   "outputs": [
    {
     "name": "stdin",
     "output_type": "stream",
     "text": [
      "Player X, please enter your move: 1 1\n"
     ]
    },
    {
     "name": "stdout",
     "output_type": "stream",
     "text": [
      ". . . \n",
      "\n",
      ". X . \n",
      "\n",
      ". . . \n",
      "\n"
     ]
    },
    {
     "name": "stdin",
     "output_type": "stream",
     "text": [
      "Player O, please enter your move: 0 0\n"
     ]
    },
    {
     "name": "stdout",
     "output_type": "stream",
     "text": [
      "O . . \n",
      "\n",
      ". X . \n",
      "\n",
      ". . . \n",
      "\n"
     ]
    },
    {
     "name": "stdin",
     "output_type": "stream",
     "text": [
      "Player X, please enter your move: 0 1\n"
     ]
    },
    {
     "name": "stdout",
     "output_type": "stream",
     "text": [
      "O X . \n",
      "\n",
      ". X . \n",
      "\n",
      ". . . \n",
      "\n"
     ]
    },
    {
     "name": "stdin",
     "output_type": "stream",
     "text": [
      "Player O, please enter your move: 2 0\n"
     ]
    },
    {
     "name": "stdout",
     "output_type": "stream",
     "text": [
      "O X . \n",
      "\n",
      ". X . \n",
      "\n",
      "O . . \n",
      "\n"
     ]
    },
    {
     "name": "stdin",
     "output_type": "stream",
     "text": [
      "Player X, please enter your move: I win!\n"
     ]
    },
    {
     "name": "stdout",
     "output_type": "stream",
     "text": [
      "good job\n"
     ]
    }
   ],
   "source": [
    "## Initializing the grid.\n",
    "n = 3\n",
    "grid = [[\".\" for i in range(n)] for j in range(n)]\n",
    "\n",
    "## Keeping track of turns.\n",
    "turn = 0\n",
    "while turn < 9:\n",
    "    if turn % 2 == 0:\n",
    "        player = \"X\"\n",
    "    else:\n",
    "        player = \"O\"\n",
    "   \n",
    "  ## Prompting the user.\n",
    "    current_move = input(\"Player \" + player + \", please enter your move:\")    \n",
    "    if current_move == \"I win!\":\n",
    "            print(\"good job\")\n",
    "            break\n",
    "\n",
    "    else:  \n",
    "        coords = current_move.split()\n",
    "    \n",
    "    ## Checking for the validity of moves.\n",
    "        if grid[int(coords[0])][int(coords[1])]=='.':\n",
    "            grid[int(coords[0])][int(coords[1])]=player\n",
    "            turn += 1 \n",
    "        else:\n",
    "            print (\"Cell occupied, try again.\")\n",
    "            continue\n",
    "            \n",
    "        ## Updating the grid.\n",
    "        for i in range(n):\n",
    "            for j in range(n):\n",
    "                print(grid[i][j], end = \" \")\n",
    "            print(\"\\n\")"
   ]
  },
  {
   "cell_type": "markdown",
   "metadata": {},
   "source": [
    "# Example Session\n",
    "\n",
    "Here is an example of the session output in a complete solution. In the final move, Player X types \"I win!\" instead of making their winning move at (2, 1). \n",
    "?\n",
    "```\n",
    "Player X, please enter your move: 1 1\n",
    "         \n",
    ". . .\n",
    ". X .    \n",
    ". . .\n",
    "         \n",
    "Player O, please enter your move: 0 0\n",
    "\n",
    "O . .       \n",
    ". X .     \n",
    ". . .\n",
    "         \n",
    "Player X, please enter your move: 0 1\n",
    "\n",
    "O X .     \n",
    ". X .\n",
    ". . .\n",
    "\n",
    "Player O, please enter your move: 2 0\n",
    "\n",
    "O X .     \n",
    ". X .\n",
    "0 . .\n",
    "\n",
    "Player X, please enter your move: I win!\n",
    "good job\n",
    "```"
   ]
  },
  {
   "cell_type": "markdown",
   "metadata": {},
   "source": [
    "Something to think about: This activity asked you to write a single, large chunk of code, which may appear somewhat disorganized. *Functions* offer convenient ways to break large operations into simpler operations that are easier to manage. How would you re-organize this code into different functions?"
   ]
  }
 ],
 "metadata": {
  "kernelspec": {
   "display_name": "Python 3 (ipykernel)",
   "language": "python",
   "name": "python3"
  },
  "language_info": {
   "codemirror_mode": {
    "name": "ipython",
    "version": 3
   },
   "file_extension": ".py",
   "mimetype": "text/x-python",
   "name": "python",
   "nbconvert_exporter": "python",
   "pygments_lexer": "ipython3",
   "version": "3.9.7"
  }
 },
 "nbformat": 4,
 "nbformat_minor": 4
}
