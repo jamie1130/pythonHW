{
 "cells": [
  {
   "cell_type": "markdown",
   "metadata": {},
   "source": [
    "# Baking Cookies!\n",
    "\n",
    "![](https://scontent-lax3-2.xx.fbcdn.net/v/t1.0-9/82806878_10156776590731587_4196427985881923584_n.jpg?_nc_cat=106&ccb=3&_nc_sid=e3f864&_nc_ohc=Uge0Z7aj6mwAX_V1XMg&_nc_ht=scontent-lax3-2.xx&oh=6f95ad902216fe28d357d57bb9a5c7e2&oe=60493D12)\n",
    "\n",
    "## Group Names and Roles\n",
    "\n",
    "- Partner 1 (Role)\n",
    "- Partner 2 (Role)\n",
    "- Partner 3 (Role)\n",
    "\n",
    "## Introduction\n",
    "\n",
    "In this worksheet, you'll implement a `recipe` class that stores data on how to create a tasty dish--like cookies!--in a structured way. We'll build on this `recipe` class in a future Discussion activity. \n",
    "\n",
    "Schematically, a recipe has three primary pieces of data: \n",
    "\n",
    "1. A title (e.g. \"Cookies\")\n",
    "2. A list of ingredients, with quantities. Example: \n",
    "```\n",
    "    Flour (grams)  : 400\n",
    "    Butter (grams) : 200\n",
    "    Salt (grams)   : 10\n",
    "    Sugar (grams)  : 100\n",
    "```\n",
    "3. A list of directions. Example: \n",
    "    \n",
    "> 1. In a large mixing bowl, cut the chilled butter into the flour and sugar. \n",
    "> 2. Add the salt and sugar, and combine. \n",
    "> 3. Roll into a log, and freeze. \n",
    "> 4. Preheat the oven to 200 C°. \n",
    "> 5. Cut the log of dough into thin disks and place on baking sheet. \n",
    "> 6. Bake for 12 minutes, flipping after 7 minutes. \n",
    "\n",
    "Our `recipe` class will store such data. \n",
    "\n",
    "In this activity, it is not necessary to copy/paste the code that corresponds to your class. Rather, you can keep all the code for your class in Part A, and then just run the tests in the subsequent parts to verify that your code is working. \n",
    "\n",
    "## Part A\n",
    "\n",
    "Start by creating a class called `recipe` recipe. Give this class an `__init__()` method that allows the user to set the `title`, `ingredients`, and `directions` as instance variables. That is, after having defined your class, you should be able to run the following code and receive the printed result. \n",
    "\n",
    "```python\n",
    "cookies = recipe(\"cookies\", {\"cookie jar\" : 1}, [\"take a cookie out of the jar\"])\n",
    "print(cookies.title)\n",
    "print(cookies.ingredients)\n",
    "print(cookies.directions)\n",
    "```\n",
    "```\n",
    "cookies\n",
    "{'cookie jar': 1}\n",
    "['take a cookie out of the jar']\n",
    "```"
   ]
  },
  {
   "cell_type": "code",
   "execution_count": 1,
   "metadata": {},
   "outputs": [],
   "source": [
    "class recipe:\n",
    "    \n",
    "    def __init__(self, title, ingredients, directions):\n",
    "        \n",
    "        ### Part B\n",
    "        # 1.\n",
    "        if type(title) != str:\n",
    "            raise TypeError(\"title must be a string.\")\n",
    "        \n",
    "        # 2. \n",
    "        if type(ingredients) != dict:\n",
    "            raise TypeError(\"ingredients must be a dict.\")\n",
    "        \n",
    "        # 3.\n",
    "        if not all([type(key) == str for key in ingredients.keys()]):\n",
    "            raise TypeError(\"keys of ingredients must be strings\")\n",
    "        \n",
    "        # 4.\n",
    "        if type(directions) != list:\n",
    "            raise TypeError(\"directions must be a list\")\n",
    "        \n",
    "        # 5. (optional)\n",
    "        if not all([type(entry) == str for entry in directions]):\n",
    "            raise TypeError(\"entries of directions must be strings\")\n",
    "        \n",
    "        # 6. (optional)\n",
    "        if not all([type(key) in [int, float] for key in ingredients.values()]):\n",
    "            raise TypeError(\"values of ingredients must be ints or floats\")\n",
    "        \n",
    "        # 7. (optional)\n",
    "        \n",
    "        if not all([val >= 0  for val in ingredients.values()]):\n",
    "            raise TypeError(\"values of ingredients must be nonnegative\")\n",
    "        \n",
    "        ### Part A\n",
    "        self.title       = title\n",
    "        self.ingredients = ingredients\n",
    "        self.directions  = directions\n",
    "    \n",
    "    ### Part C\n",
    "    def __rmul__(self, multiplier):\n",
    "        multiplied_ingredients = {key : multiplier*val for key, val in self.ingredients.items()}\n",
    "        return recipe(self.title, multiplied_ingredients, self.directions)\n",
    "    \n",
    "    ### Part D\n",
    "    def __str__(self):\n",
    "        \n",
    "        s = \"\"\n",
    "        s += \"How To Make \" + title.capitalize() + \"\\n\"\n",
    "        s += \"----------------------------------\\n\\n\"\n",
    "        s += \"Ingredients\\n\\n\"\n",
    "        for ingredient, quantity in self.ingredients.items():\n",
    "            s += \"   \" + ingredient + \" : \" + str(quantity) + \"\\n\"\n",
    "        \n",
    "        s += \"\\nDirections\\n\\n\"\n",
    "        for i in range(len(self.directions)):\n",
    "            s += \"   \" + str(i+1) + \". \" + self.directions[i] + \"\\n\" \n",
    "        return s  "
   ]
  },
  {
   "cell_type": "code",
   "execution_count": 2,
   "metadata": {},
   "outputs": [
    {
     "name": "stdout",
     "output_type": "stream",
     "text": [
      "cookies\n",
      "{'cookie jar': 1}\n",
      "['take a cookie out of the jar']\n"
     ]
    }
   ],
   "source": [
    "# test code here\n",
    "cookies = recipe(\"cookies\", {\"cookie jar\" : 1}, [\"take a cookie out of the jar\"])\n",
    "print(cookies.title)\n",
    "print(cookies.ingredients)\n",
    "print(cookies.directions)"
   ]
  },
  {
   "cell_type": "markdown",
   "metadata": {},
   "source": [
    "## Part B\n",
    "\n",
    "Now add **input checking.** Modify the `__init__()` method to enforce the following conditions: \n",
    "\n",
    "1. `title` must be a string. If not, raise an informative `TypeError`. \n",
    "2. `ingredients` must be a `dict`. If not, raise an informative `TypeError`. \n",
    "3. The keys of `ingredients` must all be strings. If not, raise an informative `TypeError`.  \n",
    "    - ***Hint***: `all([x == \"cookies\" for x in container])` will check whether `x` has value \"cookies\" for all `x` in `container`. You can modify this idea to perform this check without writing a `for`-`loop`, although such a loop is also a fine approach. \n",
    "4. The `directions` must be a `list`. If not, raise an informative `TypeError`. \n",
    "\n",
    "Write a simple test case for each of these four conditions to show that the corresponding error is raised. The first one is written for you. Each of these test cases can be completed in a single line. \n",
    "\n",
    "If you finish early, you can come back and add the following additional checks to your class: \n",
    "\n",
    "1. The entries of `directions` must be strings. If not, raise an informative `TypeError`. \n",
    "2. The values of `ingredients` must all be `int`s or `float`s. If not, raise an informative `TypeError`. \n",
    "3. The values of `ingredients` must all be nonnegative. If not, raise an informative `ValueError`."
   ]
  },
  {
   "cell_type": "code",
   "execution_count": 3,
   "metadata": {},
   "outputs": [
    {
     "ename": "TypeError",
     "evalue": "title must be a string.",
     "output_type": "error",
     "traceback": [
      "\u001b[0;31m---------------------------------------------------------------------------\u001b[0m",
      "\u001b[0;31mTypeError\u001b[0m                                 Traceback (most recent call last)",
      "\u001b[0;32m<ipython-input-3-5982d142eefb>\u001b[0m in \u001b[0;36m<module>\u001b[0;34m\u001b[0m\n\u001b[1;32m      1\u001b[0m \u001b[0;31m# first test\u001b[0m\u001b[0;34m\u001b[0m\u001b[0;34m\u001b[0m\u001b[0;34m\u001b[0m\u001b[0m\n\u001b[0;32m----> 2\u001b[0;31m \u001b[0mcookies\u001b[0m \u001b[0;34m=\u001b[0m \u001b[0mrecipe\u001b[0m\u001b[0;34m(\u001b[0m\u001b[0;36m1\u001b[0m\u001b[0;34m,\u001b[0m \u001b[0;34m{\u001b[0m\u001b[0;34m\"cookie jar\"\u001b[0m \u001b[0;34m:\u001b[0m \u001b[0;36m1\u001b[0m\u001b[0;34m}\u001b[0m\u001b[0;34m,\u001b[0m \u001b[0;34m[\u001b[0m\u001b[0;34m\"take a cookie out of the jar\"\u001b[0m\u001b[0;34m]\u001b[0m\u001b[0;34m)\u001b[0m\u001b[0;34m\u001b[0m\u001b[0;34m\u001b[0m\u001b[0m\n\u001b[0m",
      "\u001b[0;32m<ipython-input-1-919d8243f00e>\u001b[0m in \u001b[0;36m__init__\u001b[0;34m(self, title, ingredients, directions)\u001b[0m\n\u001b[1;32m      6\u001b[0m         \u001b[0;31m# 1.\u001b[0m\u001b[0;34m\u001b[0m\u001b[0;34m\u001b[0m\u001b[0;34m\u001b[0m\u001b[0m\n\u001b[1;32m      7\u001b[0m         \u001b[0;32mif\u001b[0m \u001b[0mtype\u001b[0m\u001b[0;34m(\u001b[0m\u001b[0mtitle\u001b[0m\u001b[0;34m)\u001b[0m \u001b[0;34m!=\u001b[0m \u001b[0mstr\u001b[0m\u001b[0;34m:\u001b[0m\u001b[0;34m\u001b[0m\u001b[0;34m\u001b[0m\u001b[0m\n\u001b[0;32m----> 8\u001b[0;31m             \u001b[0;32mraise\u001b[0m \u001b[0mTypeError\u001b[0m\u001b[0;34m(\u001b[0m\u001b[0;34m\"title must be a string.\"\u001b[0m\u001b[0;34m)\u001b[0m\u001b[0;34m\u001b[0m\u001b[0;34m\u001b[0m\u001b[0m\n\u001b[0m\u001b[1;32m      9\u001b[0m \u001b[0;34m\u001b[0m\u001b[0m\n\u001b[1;32m     10\u001b[0m         \u001b[0;31m# 2.\u001b[0m\u001b[0;34m\u001b[0m\u001b[0;34m\u001b[0m\u001b[0;34m\u001b[0m\u001b[0m\n",
      "\u001b[0;31mTypeError\u001b[0m: title must be a string."
     ]
    }
   ],
   "source": [
    "# first test\n",
    "cookies = recipe(1, {\"cookie jar\" : 1}, [\"take a cookie out of the jar\"])"
   ]
  },
  {
   "cell_type": "code",
   "execution_count": 4,
   "metadata": {},
   "outputs": [
    {
     "ename": "TypeError",
     "evalue": "ingredients must be a dict.",
     "output_type": "error",
     "traceback": [
      "\u001b[0;31m---------------------------------------------------------------------------\u001b[0m",
      "\u001b[0;31mTypeError\u001b[0m                                 Traceback (most recent call last)",
      "\u001b[0;32m<ipython-input-4-edac33fdcbd9>\u001b[0m in \u001b[0;36m<module>\u001b[0;34m\u001b[0m\n\u001b[1;32m      1\u001b[0m \u001b[0;31m# second test\u001b[0m\u001b[0;34m\u001b[0m\u001b[0;34m\u001b[0m\u001b[0;34m\u001b[0m\u001b[0m\n\u001b[0;32m----> 2\u001b[0;31m \u001b[0mcookies\u001b[0m \u001b[0;34m=\u001b[0m \u001b[0mrecipe\u001b[0m\u001b[0;34m(\u001b[0m\u001b[0;34m\"cookies\"\u001b[0m\u001b[0;34m,\u001b[0m \u001b[0;34m\"cookie jar\"\u001b[0m\u001b[0;34m,\u001b[0m \u001b[0;34m[\u001b[0m\u001b[0;34m\"take a cookie out of the jar\"\u001b[0m\u001b[0;34m]\u001b[0m\u001b[0;34m)\u001b[0m\u001b[0;34m\u001b[0m\u001b[0;34m\u001b[0m\u001b[0m\n\u001b[0m",
      "\u001b[0;32m<ipython-input-1-919d8243f00e>\u001b[0m in \u001b[0;36m__init__\u001b[0;34m(self, title, ingredients, directions)\u001b[0m\n\u001b[1;32m     10\u001b[0m         \u001b[0;31m# 2.\u001b[0m\u001b[0;34m\u001b[0m\u001b[0;34m\u001b[0m\u001b[0;34m\u001b[0m\u001b[0m\n\u001b[1;32m     11\u001b[0m         \u001b[0;32mif\u001b[0m \u001b[0mtype\u001b[0m\u001b[0;34m(\u001b[0m\u001b[0mingredients\u001b[0m\u001b[0;34m)\u001b[0m \u001b[0;34m!=\u001b[0m \u001b[0mdict\u001b[0m\u001b[0;34m:\u001b[0m\u001b[0;34m\u001b[0m\u001b[0;34m\u001b[0m\u001b[0m\n\u001b[0;32m---> 12\u001b[0;31m             \u001b[0;32mraise\u001b[0m \u001b[0mTypeError\u001b[0m\u001b[0;34m(\u001b[0m\u001b[0;34m\"ingredients must be a dict.\"\u001b[0m\u001b[0;34m)\u001b[0m\u001b[0;34m\u001b[0m\u001b[0;34m\u001b[0m\u001b[0m\n\u001b[0m\u001b[1;32m     13\u001b[0m \u001b[0;34m\u001b[0m\u001b[0m\n\u001b[1;32m     14\u001b[0m         \u001b[0;31m# 3.\u001b[0m\u001b[0;34m\u001b[0m\u001b[0;34m\u001b[0m\u001b[0;34m\u001b[0m\u001b[0m\n",
      "\u001b[0;31mTypeError\u001b[0m: ingredients must be a dict."
     ]
    }
   ],
   "source": [
    "# second test\n",
    "cookies = recipe(\"cookies\", \"cookie jar\", [\"take a cookie out of the jar\"])"
   ]
  },
  {
   "cell_type": "code",
   "execution_count": 5,
   "metadata": {},
   "outputs": [
    {
     "ename": "TypeError",
     "evalue": "keys of ingredients must be strings",
     "output_type": "error",
     "traceback": [
      "\u001b[0;31m---------------------------------------------------------------------------\u001b[0m",
      "\u001b[0;31mTypeError\u001b[0m                                 Traceback (most recent call last)",
      "\u001b[0;32m<ipython-input-5-19a5f318cef5>\u001b[0m in \u001b[0;36m<module>\u001b[0;34m\u001b[0m\n\u001b[1;32m      1\u001b[0m \u001b[0;31m# third test\u001b[0m\u001b[0;34m\u001b[0m\u001b[0;34m\u001b[0m\u001b[0;34m\u001b[0m\u001b[0m\n\u001b[0;32m----> 2\u001b[0;31m \u001b[0mcookies\u001b[0m \u001b[0;34m=\u001b[0m \u001b[0mrecipe\u001b[0m\u001b[0;34m(\u001b[0m\u001b[0;34m\"cookies\"\u001b[0m\u001b[0;34m,\u001b[0m \u001b[0;34m{\u001b[0m\u001b[0;36m2\u001b[0m \u001b[0;34m:\u001b[0m \u001b[0;36m1\u001b[0m\u001b[0;34m}\u001b[0m\u001b[0;34m,\u001b[0m \u001b[0;34m[\u001b[0m\u001b[0;34m\"take a cookie out of the jar\"\u001b[0m\u001b[0;34m]\u001b[0m\u001b[0;34m)\u001b[0m\u001b[0;34m\u001b[0m\u001b[0;34m\u001b[0m\u001b[0m\n\u001b[0m",
      "\u001b[0;32m<ipython-input-1-919d8243f00e>\u001b[0m in \u001b[0;36m__init__\u001b[0;34m(self, title, ingredients, directions)\u001b[0m\n\u001b[1;32m     14\u001b[0m         \u001b[0;31m# 3.\u001b[0m\u001b[0;34m\u001b[0m\u001b[0;34m\u001b[0m\u001b[0;34m\u001b[0m\u001b[0m\n\u001b[1;32m     15\u001b[0m         \u001b[0;32mif\u001b[0m \u001b[0;32mnot\u001b[0m \u001b[0mall\u001b[0m\u001b[0;34m(\u001b[0m\u001b[0;34m[\u001b[0m\u001b[0mtype\u001b[0m\u001b[0;34m(\u001b[0m\u001b[0mkey\u001b[0m\u001b[0;34m)\u001b[0m \u001b[0;34m==\u001b[0m \u001b[0mstr\u001b[0m \u001b[0;32mfor\u001b[0m \u001b[0mkey\u001b[0m \u001b[0;32min\u001b[0m \u001b[0mingredients\u001b[0m\u001b[0;34m.\u001b[0m\u001b[0mkeys\u001b[0m\u001b[0;34m(\u001b[0m\u001b[0;34m)\u001b[0m\u001b[0;34m]\u001b[0m\u001b[0;34m)\u001b[0m\u001b[0;34m:\u001b[0m\u001b[0;34m\u001b[0m\u001b[0;34m\u001b[0m\u001b[0m\n\u001b[0;32m---> 16\u001b[0;31m             \u001b[0;32mraise\u001b[0m \u001b[0mTypeError\u001b[0m\u001b[0;34m(\u001b[0m\u001b[0;34m\"keys of ingredients must be strings\"\u001b[0m\u001b[0;34m)\u001b[0m\u001b[0;34m\u001b[0m\u001b[0;34m\u001b[0m\u001b[0m\n\u001b[0m\u001b[1;32m     17\u001b[0m \u001b[0;34m\u001b[0m\u001b[0m\n\u001b[1;32m     18\u001b[0m         \u001b[0;31m# 4.\u001b[0m\u001b[0;34m\u001b[0m\u001b[0;34m\u001b[0m\u001b[0;34m\u001b[0m\u001b[0m\n",
      "\u001b[0;31mTypeError\u001b[0m: keys of ingredients must be strings"
     ]
    }
   ],
   "source": [
    "# third test\n",
    "cookies = recipe(\"cookies\", {2 : 1}, [\"take a cookie out of the jar\"])"
   ]
  },
  {
   "cell_type": "code",
   "execution_count": 6,
   "metadata": {},
   "outputs": [
    {
     "ename": "TypeError",
     "evalue": "directions must be a list",
     "output_type": "error",
     "traceback": [
      "\u001b[0;31m---------------------------------------------------------------------------\u001b[0m",
      "\u001b[0;31mTypeError\u001b[0m                                 Traceback (most recent call last)",
      "\u001b[0;32m<ipython-input-6-1f150f1166f6>\u001b[0m in \u001b[0;36m<module>\u001b[0;34m\u001b[0m\n\u001b[1;32m      1\u001b[0m \u001b[0;31m# fourth test\u001b[0m\u001b[0;34m\u001b[0m\u001b[0;34m\u001b[0m\u001b[0;34m\u001b[0m\u001b[0m\n\u001b[0;32m----> 2\u001b[0;31m \u001b[0mcookies\u001b[0m \u001b[0;34m=\u001b[0m \u001b[0mrecipe\u001b[0m\u001b[0;34m(\u001b[0m\u001b[0;34m\"cookies\"\u001b[0m\u001b[0;34m,\u001b[0m \u001b[0;34m{\u001b[0m\u001b[0;34m\"cookie jar\"\u001b[0m \u001b[0;34m:\u001b[0m \u001b[0;36m1\u001b[0m\u001b[0;34m}\u001b[0m\u001b[0;34m,\u001b[0m \u001b[0;34m\"take a cookie out of the jar\"\u001b[0m\u001b[0;34m)\u001b[0m\u001b[0;34m\u001b[0m\u001b[0;34m\u001b[0m\u001b[0m\n\u001b[0m",
      "\u001b[0;32m<ipython-input-1-919d8243f00e>\u001b[0m in \u001b[0;36m__init__\u001b[0;34m(self, title, ingredients, directions)\u001b[0m\n\u001b[1;32m     18\u001b[0m         \u001b[0;31m# 4.\u001b[0m\u001b[0;34m\u001b[0m\u001b[0;34m\u001b[0m\u001b[0;34m\u001b[0m\u001b[0m\n\u001b[1;32m     19\u001b[0m         \u001b[0;32mif\u001b[0m \u001b[0mtype\u001b[0m\u001b[0;34m(\u001b[0m\u001b[0mdirections\u001b[0m\u001b[0;34m)\u001b[0m \u001b[0;34m!=\u001b[0m \u001b[0mlist\u001b[0m\u001b[0;34m:\u001b[0m\u001b[0;34m\u001b[0m\u001b[0;34m\u001b[0m\u001b[0m\n\u001b[0;32m---> 20\u001b[0;31m             \u001b[0;32mraise\u001b[0m \u001b[0mTypeError\u001b[0m\u001b[0;34m(\u001b[0m\u001b[0;34m\"directions must be a list\"\u001b[0m\u001b[0;34m)\u001b[0m\u001b[0;34m\u001b[0m\u001b[0;34m\u001b[0m\u001b[0m\n\u001b[0m\u001b[1;32m     21\u001b[0m \u001b[0;34m\u001b[0m\u001b[0m\n\u001b[1;32m     22\u001b[0m         \u001b[0;31m# 5. (optional)\u001b[0m\u001b[0;34m\u001b[0m\u001b[0;34m\u001b[0m\u001b[0;34m\u001b[0m\u001b[0m\n",
      "\u001b[0;31mTypeError\u001b[0m: directions must be a list"
     ]
    }
   ],
   "source": [
    "# fourth test\n",
    "cookies = recipe(\"cookies\", {\"cookie jar\" : 1}, \"take a cookie out of the jar\")"
   ]
  },
  {
   "cell_type": "markdown",
   "metadata": {},
   "source": [
    "## Part C\n",
    "\n",
    "Implement *scalar multiplication.* If `cookies` is a `recipe`, then `2*cookies` is a new `recipe` in which all the values of the `ingredients` have been doubled. For example: \n",
    "\n",
    "```python\n",
    "title = \"cookies\"\n",
    "\n",
    "ingredients = {\n",
    "    \"Flour (grams)\"  : 400,\n",
    "    \"Butter (grams)\" : 200,\n",
    "    \"Salt (grams)\"   : 10,\n",
    "    \"Sugar (grams)\"  : 100\n",
    "}\n",
    "\n",
    "directions = [\n",
    "    \"In a large mixing bowl, cut the chilled butter into the flour and sugar.\" , \n",
    "    \"Add the salt and sugar, and combine.\" ,\n",
    "    \"Roll into a log, and freeze.\" ,\n",
    "    \"Preheat the oven to 200 C°.\" ,\n",
    "    \"Cut the log of dough into thin disks and place on baking sheet.\" ,\n",
    "    \"Bake for 12 minutes, flipping after 7 minutes.\" \n",
    "]\n",
    "\n",
    "cookies = recipe(title, ingredients, directions)\n",
    "```\n",
    "\n",
    "Then,\n",
    "\n",
    "```python\n",
    "doubled_cookies = 2*cookies\n",
    "doubled_cookies.ingredients\n",
    "```\n",
    "\n",
    "```\n",
    "{'Flour (grams)': 800,\n",
    " 'Butter (grams)': 400,\n",
    " 'Salt (grams)': 20,\n",
    " 'Sugar (grams)': 200}\n",
    "```\n",
    "\n",
    "***Hints***: \n",
    "\n",
    "- The required magic method is called `__rmul__(self, multiplier)`\n",
    "- *Dictionary comprehensions* provide a convenient way to make new dictionaries from old ones. Their syntax is related to list comprehensions. For example: \n",
    "```python\n",
    "d = {\"shortbread cookie\" : 2, \"chocolate chip cookie\" : 1}\n",
    "{\"tasty \" + key : val for key, val in d.items()}\n",
    "```"
   ]
  },
  {
   "cell_type": "code",
   "execution_count": 7,
   "metadata": {},
   "outputs": [
    {
     "data": {
      "text/plain": [
       "{'Flour (grams)': 800,\n",
       " 'Butter (grams)': 400,\n",
       " 'Salt (grams)': 20,\n",
       " 'Sugar (grams)': 200}"
      ]
     },
     "execution_count": 7,
     "metadata": {},
     "output_type": "execute_result"
    }
   ],
   "source": [
    "# test case\n",
    "title = \"cookies\"\n",
    "\n",
    "ingredients = {\n",
    "    \"Flour (grams)\"  : 400,\n",
    "    \"Butter (grams)\" : 200,\n",
    "    \"Salt (grams)\"   : 10,\n",
    "    \"Sugar (grams)\"  : 100\n",
    "}\n",
    "\n",
    "directions = [\n",
    "    \"In a large mixing bowl, cut the chilled butter into the flour and sugar.\" , \n",
    "    \"Add the salt and sugar, and combine.\" ,\n",
    "    \"Roll into a log, and freeze.\" ,\n",
    "    \"Preheat the oven to 200 C°.\" ,\n",
    "    \"Cut the log of dough into thin disks and place on baking sheet.\" ,\n",
    "    \"Bake for 12 minutes, flipping after 7 minutes.\" \n",
    "]\n",
    "cookies = recipe(title, ingredients, directions)\n",
    "\n",
    "doubled_cookies = 2*cookies\n",
    "doubled_cookies.ingredients"
   ]
  },
  {
   "cell_type": "markdown",
   "metadata": {},
   "source": [
    "## Part D"
   ]
  },
  {
   "cell_type": "markdown",
   "metadata": {},
   "source": [
    "Implement attractive printing, such that, if `cookies` is a recipe, then calling\n",
    "\n",
    "```python\n",
    "print(cookies)\n",
    "```\n",
    "\n",
    "will print out the title, ingredients, and directions in an attractive and readable format. Feel free to be creative! Here's one illustration. Using the same recipe for `cookies` from Part C, \n",
    "\n",
    "```python\n",
    "print(cookies)\n",
    "```\n",
    "\n",
    "```\n",
    "# printed output\n",
    "\n",
    "How To Make Cookies\n",
    "\n",
    "Ingredients\n",
    "\n",
    "   Flour (grams) : 400\n",
    "   Butter (grams) : 200\n",
    "   Salt (grams) : 10\n",
    "   Sugar (grams) : 100\n",
    "\n",
    "Directions\n",
    "\n",
    "   1. In a large mixing bowl, cut the chilled butter into the flour and sugar.\n",
    "   2. Add the salt and sugar, and combine.\n",
    "   3. Roll into a log, and freeze.\n",
    "   4. Preheat the oven to 200 C°.\n",
    "   5. Cut the log of dough into thin disks and place on baking sheet.\n",
    "   6. Bake for 12 minutes, flipping after 7 minutes.\n",
    "```\n",
    "\n",
    "***Hint***: printing is controlled by the `__str__()` magic method. "
   ]
  },
  {
   "cell_type": "code",
   "execution_count": 8,
   "metadata": {},
   "outputs": [
    {
     "name": "stdout",
     "output_type": "stream",
     "text": [
      "How To Make Cookies\n",
      "----------------------------------\n",
      "\n",
      "Ingredients\n",
      "\n",
      "   Flour (grams) : 400\n",
      "   Butter (grams) : 200\n",
      "   Salt (grams) : 10\n",
      "   Sugar (grams) : 100\n",
      "\n",
      "Directions\n",
      "\n",
      "   1. In a large mixing bowl, cut the chilled butter into the flour and sugar.\n",
      "   2. Add the salt and sugar, and combine.\n",
      "   3. Roll into a log, and freeze.\n",
      "   4. Preheat the oven to 200 C°.\n",
      "   5. Cut the log of dough into thin disks and place on baking sheet.\n",
      "   6. Bake for 12 minutes, flipping after 7 minutes.\n",
      "\n"
     ]
    }
   ],
   "source": [
    "# demonstration of printing\n",
    "print(cookies)"
   ]
  }
 ],
 "metadata": {
  "kernelspec": {
   "display_name": "Python 3",
   "language": "python",
   "name": "python3"
  },
  "language_info": {
   "codemirror_mode": {
    "name": "ipython",
    "version": 3
   },
   "file_extension": ".py",
   "mimetype": "text/x-python",
   "name": "python",
   "nbconvert_exporter": "python",
   "pygments_lexer": "ipython3",
   "version": "3.8.8"
  }
 },
 "nbformat": 4,
 "nbformat_minor": 4
}
