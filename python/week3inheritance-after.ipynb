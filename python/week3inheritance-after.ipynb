{
 "cells": [
  {
   "cell_type": "markdown",
   "id": "f32f6d65-0bd8-4224-912a-3db9ab1905d5",
   "metadata": {},
   "source": [
    "Announcements:\n",
    "- HW2 due on Thursday. Watch Shruti's helper video on markov_text!\n",
    "- HW1 solution posted. Please take a look!\n",
    "- HW3 autograder only tests for Problems 1 and 2. Rest will be graded by human reader.\n",
    "    \n",
    "Friday: Classes, magic methods\n",
    "\n",
    "Today: Inheritance \n",
    "\n",
    "https://docs.python.org/3/tutorial/classes.html"
   ]
  },
  {
   "cell_type": "code",
   "execution_count": 1,
   "id": "7288af8c-a778-411a-b1c7-5cd92b025bc0",
   "metadata": {},
   "outputs": [],
   "source": [
    "pantry = {\n",
    "    'rice (lbs)' : 2,\n",
    "    'harissa (jars)' : 1,\n",
    "    'onions' : 5,\n",
    "    'lemons' : 3\n",
    "}"
   ]
  },
  {
   "cell_type": "code",
   "execution_count": 2,
   "id": "bc4f2242-d1d1-4353-b6e8-7f971f0dc1c8",
   "metadata": {},
   "outputs": [],
   "source": [
    "shopping_trip = {\n",
    "    'rice (lbs)' : 1,\n",
    "    'onions' : 2,\n",
    "    'spinach (lbs)': 1\n",
    "}"
   ]
  },
  {
   "cell_type": "code",
   "execution_count": 3,
   "id": "3ce6c183-b27e-4ee9-974c-4fa2b8da8b75",
   "metadata": {},
   "outputs": [],
   "source": [
    "# pantry + shopping_trip\n",
    "# TypeError: unsupported operand type(s) for +: 'dict' and 'dict'"
   ]
  },
  {
   "cell_type": "markdown",
   "id": "3aae6a51-406d-48ef-941a-8b16bd33e474",
   "metadata": {},
   "source": [
    "How can we get objects that does the usual `dict` things *but also* support\n",
    "```\n",
    "pantry + shopping_trip = \n",
    "{\n",
    "    \"rice (lbs)\" : 3,\n",
    "    \"harissa (jars)\" : 1,\n",
    "    \"onions\" : 7,\n",
    "    \"lemons\" : 3,\n",
    "    \"spinach (lbs)\" : 1\n",
    "}\n",
    "```\n",
    "?\n",
    "\n",
    "=> we can do this by implementing a new class that inherits from dict and adding new methods to it. \n",
    "\n",
    "Inheritance is one of the superpowers of object-oriented programming. It lets classes reuse code from other classes & gives hierarchical structure to objects.\n",
    "\n",
    "Define new class A that inherits from B by writing\n",
    "```\n",
    "class A(B):\n",
    "    pass \n",
    "```\n"
   ]
  },
  {
   "cell_type": "code",
   "execution_count": 3,
   "id": "58078824-b52d-48bd-aceb-379953b1884c",
   "metadata": {},
   "outputs": [],
   "source": [
    "class ArithmeticDict(dict): # ArithmeticDict inherits from dict, all of its methods and attributes \n",
    "    pass\n",
    "\n",
    "class RandomDict(ArithmeticDict): # RandomDict inherits from ArithmeticDict, all of its methods and attributes\n",
    "    pass"
   ]
  },
  {
   "cell_type": "code",
   "execution_count": 5,
   "id": "b2c3812b-345c-418f-a8ae-90883e88ad83",
   "metadata": {},
   "outputs": [],
   "source": [
    "# this is NOT how inheritance works\n",
    "# you need to put the CLASS inside the parentheses, not an INSTANCE of the class \n",
    "\n",
    "# D = {1, 2}\n",
    "\n",
    "# class ArithmeticDict(D):\n",
    "#     pass"
   ]
  },
  {
   "cell_type": "code",
   "execution_count": 4,
   "id": "ef3e7a95-803d-4283-85b9-0e12613b40b8",
   "metadata": {},
   "outputs": [
    {
     "name": "stdout",
     "output_type": "stream",
     "text": [
      "{'5': 1, '2': 5, '1': 6}\n",
      "{'5': 1, '2': 5, '1': 6}\n"
     ]
    }
   ],
   "source": [
    "D = ArithmeticDict() # D is an instance of class ArithmeticDict\n",
    "\n",
    "# D can do anything that an instance of dict can do\n",
    "\n",
    "D['5'] = 1\n",
    "D.update({'2': 5, '1': 6})\n",
    "print(D)\n",
    "\n",
    "# so can X, which is an instance of RandomDict\n",
    "X = RandomDict()\n",
    "X['5'] = 1\n",
    "X.update({'2': 5, '1': 6})\n",
    "print(X)\n",
    "\n",
    "# behind the scenes of X.update({'2': 5, '1': 6}):\n",
    "# 1. Python looks for an update method in RandomDict\n",
    "# 2. doesn't find it, so goes up the chain\n",
    "# 3. looks for an update method in ArithmeticDict\n",
    "# 4. doesn't find it, so goes up the chain\n",
    "# 5. looks for an update method in dict\n",
    "# 6. calls that dict method"
   ]
  },
  {
   "cell_type": "markdown",
   "id": "3866fd28-2460-4880-8c6d-221decff619b",
   "metadata": {},
   "source": [
    "`isinstance(obj, class)`: True if obj is instance of class, False else"
   ]
  },
  {
   "cell_type": "code",
   "execution_count": 7,
   "id": "f92f9f61-4ddd-4d07-929d-b5697d11bd72",
   "metadata": {},
   "outputs": [
    {
     "name": "stdout",
     "output_type": "stream",
     "text": [
      "<class '__main__.ArithmeticDict'> <class '__main__.RandomDict'>\n"
     ]
    }
   ],
   "source": [
    "print(type(D), type(X))"
   ]
  },
  {
   "cell_type": "code",
   "execution_count": 8,
   "id": "ce9e6f84-49eb-4df1-a709-5bd335fa34c2",
   "metadata": {},
   "outputs": [
    {
     "data": {
      "text/plain": [
       "(True, True, True)"
      ]
     },
     "execution_count": 8,
     "metadata": {},
     "output_type": "execute_result"
    }
   ],
   "source": [
    "isinstance(X, RandomDict), isinstance(X, ArithmeticDict), isinstance(X, dict) \n",
    "# an instance of a RandomDict is also an instance of ArithmeticDict and dict"
   ]
  },
  {
   "cell_type": "code",
   "execution_count": 9,
   "id": "aeefff65-158a-4056-9798-5614f783ef3e",
   "metadata": {},
   "outputs": [
    {
     "data": {
      "text/plain": [
       "(False, True, True)"
      ]
     },
     "execution_count": 9,
     "metadata": {},
     "output_type": "execute_result"
    }
   ],
   "source": [
    "isinstance(D, RandomDict), isinstance(D, ArithmeticDict), isinstance(D, dict)\n",
    "# every instance of class ArithmeticDict is also an instance of dict"
   ]
  },
  {
   "cell_type": "code",
   "execution_count": 10,
   "id": "c017f26d-e2f6-4a4a-98ee-67767f6b3164",
   "metadata": {},
   "outputs": [
    {
     "data": {
      "text/plain": [
       "(False, True, False)"
      ]
     },
     "execution_count": 10,
     "metadata": {},
     "output_type": "execute_result"
    }
   ],
   "source": [
    "# check the difference from:\n",
    "type(D) == RandomDict, type(D) == ArithmeticDict, type(D) == dict"
   ]
  },
  {
   "cell_type": "markdown",
   "id": "c064d178-1744-4a6c-92c3-f619c8456351",
   "metadata": {},
   "source": [
    "`issubclass(class A, class B)`: True if class A is a subclass of class B, False else"
   ]
  },
  {
   "cell_type": "code",
   "execution_count": 11,
   "id": "720da026-5e1a-4fbe-b5e7-06a6c96891fd",
   "metadata": {},
   "outputs": [
    {
     "data": {
      "text/plain": [
       "(True, True, True)"
      ]
     },
     "execution_count": 11,
     "metadata": {},
     "output_type": "execute_result"
    }
   ],
   "source": [
    "issubclass(RandomDict, ArithmeticDict), issubclass(ArithmeticDict, dict), issubclass(RandomDict, dict)\n",
    "# note that RandomDict is also a subclass of dict"
   ]
  },
  {
   "cell_type": "markdown",
   "id": "64344267-b573-474c-b5f8-9bdb941387c7",
   "metadata": {},
   "source": [
    "Let's make that new class that can handle A + B the way we want"
   ]
  },
  {
   "cell_type": "code",
   "execution_count": 1,
   "id": "8e7f5785-779e-4d6b-8b61-fa5bf093e330",
   "metadata": {},
   "outputs": [],
   "source": [
    "class ArithmeticDict(dict):\n",
    "    def __add__(self, other): \n",
    "        # self has to be an instance of ArithmeticDict\n",
    "        # we assume for now that other is also an instance of ArithmeticDict\n",
    "        \n",
    "        new = self.copy() # this is a dictionary... why?\n",
    "        #print(type(new)) \n",
    "        \n",
    "        for key, value in other.items():\n",
    "            if key in new:\n",
    "                new[key] += value\n",
    "            else:\n",
    "                new[key] = value\n",
    "        \n",
    "        return ArithmeticDict(new) # return a new instance of ArithmeticDict\n"
   ]
  },
  {
   "cell_type": "code",
   "execution_count": 13,
   "id": "f6eb004b-57d7-4667-82ce-f1152113714e",
   "metadata": {},
   "outputs": [],
   "source": [
    "# https://docs.python.org/3/library/stdtypes.html#typesmapping\n",
    "\n",
    "# class dict:\n",
    "#     def __init__(self, items):\n",
    "#         pass\n",
    "#         # if items is None, create empty dict\n",
    "#         # if there is items, keep that dictionary\n",
    "#     def copy(self):\n",
    "#         # returns copy of self, which is a dictionary\n",
    "\n",
    "\n"
   ]
  },
  {
   "cell_type": "code",
   "execution_count": 2,
   "id": "d32e1547-fe14-4996-8011-db8b7af32408",
   "metadata": {},
   "outputs": [],
   "source": [
    "pantry = {\n",
    "    'rice (lbs)' : 2,\n",
    "    'harissa (jars)' : 1,\n",
    "    'onions' : 5,\n",
    "    'lemons' : 3\n",
    "}\n",
    "\n",
    "shopping_trip = {\n",
    "    'rice (lbs)' : 1,\n",
    "    'onions' : 2,\n",
    "    'spinach (lbs)': 1\n",
    "}"
   ]
  },
  {
   "cell_type": "code",
   "execution_count": 3,
   "id": "4e59d2ae-8cae-40e6-8d81-ee58d5f026e5",
   "metadata": {},
   "outputs": [
    {
     "name": "stdout",
     "output_type": "stream",
     "text": [
      "rice (lbs) 2\n",
      "harissa (jars) 1\n",
      "onions 5\n",
      "lemons 3\n"
     ]
    }
   ],
   "source": [
    "for key, value in pantry.items(): #[('rice (lbs)', 2), ('harissa (jars)', 1), ...]\n",
    "    print(key, value)"
   ]
  },
  {
   "cell_type": "code",
   "execution_count": 4,
   "id": "25571a3c-326a-4e63-b624-740f970081e6",
   "metadata": {},
   "outputs": [],
   "source": [
    "#ArithmeticDict([1, 2, 3, 4])"
   ]
  },
  {
   "cell_type": "code",
   "execution_count": 5,
   "id": "65e173c7-f68e-493f-b2bf-cd48245bddf2",
   "metadata": {},
   "outputs": [
    {
     "name": "stdout",
     "output_type": "stream",
     "text": [
      "{'rice (lbs)': 2, 'harissa (jars)': 1, 'onions': 5, 'lemons': 3}\n"
     ]
    }
   ],
   "source": [
    "pantry_A = ArithmeticDict(pantry)\n",
    "shopping_trip_A = ArithmeticDict(shopping_trip)\n",
    "\n",
    "print(pantry_A)"
   ]
  },
  {
   "cell_type": "code",
   "execution_count": 6,
   "id": "67fb9891-5108-428b-ba96-9069b2efd0f2",
   "metadata": {},
   "outputs": [
    {
     "name": "stdout",
     "output_type": "stream",
     "text": [
      "{'rice (lbs)': 3, 'onions': 7, 'spinach (lbs)': 1, 'harissa (jars)': 1, 'lemons': 3}\n",
      "<class '__main__.ArithmeticDict'> True\n"
     ]
    }
   ],
   "source": [
    "D =  shopping_trip_A + pantry_A\n",
    "print(D)\n",
    "print(type(D), isinstance(D, dict))"
   ]
  },
  {
   "cell_type": "markdown",
   "id": "f10f362a-054c-45a9-be86-fbe5e3c67137",
   "metadata": {},
   "source": [
    "You can override superclass's methods by defining methods with the SAME NAME in your new class"
   ]
  },
  {
   "cell_type": "markdown",
   "id": "fde03606-3dd0-4fad-82eb-f48fa5046f8b",
   "metadata": {},
   "source": [
    "`super()`: Python knows how to translate that into the superclass."
   ]
  },
  {
   "cell_type": "code",
   "execution_count": 19,
   "id": "6e03372e-0322-4158-9bfc-c30d9b3f7efc",
   "metadata": {},
   "outputs": [],
   "source": [
    "class Cat: # define class\n",
    "    \n",
    "    genus = \"Felis\"\n",
    "    species = \"catus\"\n",
    "    \n",
    "    def __init__(self, size, color):\n",
    "        self.size = size\n",
    "        self.color = color \n",
    "    \n",
    "    def describe(self, s): # method belonging to Cat class\n",
    "        print(s, 'color:', self.color, 'size:', self.size)\n",
    " "
   ]
  },
  {
   "cell_type": "code",
   "execution_count": 20,
   "id": "6d2fa91e-582c-4028-9eb8-6c0f0ee5a72a",
   "metadata": {},
   "outputs": [],
   "source": [
    "class TortieCat(Cat):\n",
    "    def __init__(self, size): # size = 'medium'\n",
    "        super().__init__(size, 'tortie')\n",
    "        # Python knows how to translate this to Cat.__init__(self, size, 'tortie')\n",
    "        \n",
    "        # by the end of this __init__ method, \n",
    "        # self.size = size\n",
    "        # self.color = 'tortie' \n",
    "        # now we can run puppycat = TortieCat('medium')"
   ]
  },
  {
   "cell_type": "code",
   "execution_count": 21,
   "id": "74429834-c5fd-4cec-b8fe-a444f67681a3",
   "metadata": {},
   "outputs": [
    {
     "name": "stdout",
     "output_type": "stream",
     "text": [
      "hello color: tortie size: medium\n"
     ]
    }
   ],
   "source": [
    "puppycat = Cat('medium', 'tortie')\n",
    "puppycat.describe('hello')"
   ]
  },
  {
   "cell_type": "code",
   "execution_count": 22,
   "id": "58c9bb34-be5c-42a6-826e-0960cd445b21",
   "metadata": {},
   "outputs": [
    {
     "name": "stdout",
     "output_type": "stream",
     "text": [
      "hello color: tortie size: medium\n"
     ]
    }
   ],
   "source": [
    "puppycat = TortieCat('medium')\n",
    "puppycat.describe('hello')"
   ]
  },
  {
   "cell_type": "code",
   "execution_count": 15,
   "id": "f3b1f81f-096f-480a-b6b9-00c44988dedc",
   "metadata": {},
   "outputs": [
    {
     "ename": "TypeError",
     "evalue": "can't multiply sequence by non-int of type 'str'",
     "output_type": "error",
     "traceback": [
      "\u001b[1;31m---------------------------------------------------------------------------\u001b[0m",
      "\u001b[1;31mTypeError\u001b[0m                                 Traceback (most recent call last)",
      "\u001b[1;32m~\\AppData\\Local\\Temp/ipykernel_10484/484037617.py\u001b[0m in \u001b[0;36m<module>\u001b[1;34m\u001b[0m\n\u001b[0;32m      2\u001b[0m     \u001b[0mc\u001b[0m \u001b[1;33m=\u001b[0m \u001b[0ma\u001b[0m\u001b[1;33m*\u001b[0m\u001b[0mb\u001b[0m\u001b[1;33m\u001b[0m\u001b[1;33m\u001b[0m\u001b[0m\n\u001b[0;32m      3\u001b[0m     \u001b[1;32mreturn\u001b[0m \u001b[0mc\u001b[0m\u001b[1;33m\u001b[0m\u001b[1;33m\u001b[0m\u001b[0m\n\u001b[1;32m----> 4\u001b[1;33m \u001b[0mprint\u001b[0m\u001b[1;33m(\u001b[0m\u001b[0mmul\u001b[0m\u001b[1;33m(\u001b[0m\u001b[1;33m)\u001b[0m\u001b[1;33m)\u001b[0m\u001b[1;33m\u001b[0m\u001b[1;33m\u001b[0m\u001b[0m\n\u001b[0m",
      "\u001b[1;32m~\\AppData\\Local\\Temp/ipykernel_10484/484037617.py\u001b[0m in \u001b[0;36mmul\u001b[1;34m(a, b)\u001b[0m\n\u001b[0;32m      1\u001b[0m \u001b[1;32mdef\u001b[0m \u001b[0mmul\u001b[0m\u001b[1;33m(\u001b[0m\u001b[0ma\u001b[0m\u001b[1;33m=\u001b[0m\u001b[1;33m[\u001b[0m\u001b[1;36m1\u001b[0m\u001b[1;33m,\u001b[0m \u001b[1;36m3\u001b[0m\u001b[1;33m]\u001b[0m\u001b[1;33m,\u001b[0m \u001b[0mb\u001b[0m\u001b[1;33m=\u001b[0m\u001b[1;34m'ABC'\u001b[0m\u001b[1;33m)\u001b[0m\u001b[1;33m:\u001b[0m\u001b[1;33m\u001b[0m\u001b[1;33m\u001b[0m\u001b[0m\n\u001b[1;32m----> 2\u001b[1;33m     \u001b[0mc\u001b[0m \u001b[1;33m=\u001b[0m \u001b[0ma\u001b[0m\u001b[1;33m*\u001b[0m\u001b[0mb\u001b[0m\u001b[1;33m\u001b[0m\u001b[1;33m\u001b[0m\u001b[0m\n\u001b[0m\u001b[0;32m      3\u001b[0m     \u001b[1;32mreturn\u001b[0m \u001b[0mc\u001b[0m\u001b[1;33m\u001b[0m\u001b[1;33m\u001b[0m\u001b[0m\n\u001b[0;32m      4\u001b[0m \u001b[0mprint\u001b[0m\u001b[1;33m(\u001b[0m\u001b[0mmul\u001b[0m\u001b[1;33m(\u001b[0m\u001b[1;33m)\u001b[0m\u001b[1;33m)\u001b[0m\u001b[1;33m\u001b[0m\u001b[1;33m\u001b[0m\u001b[0m\n",
      "\u001b[1;31mTypeError\u001b[0m: can't multiply sequence by non-int of type 'str'"
     ]
    }
   ],
   "source": [
    "def mul(a=[1, 3], b='ABC'):\n",
    "    c = \n",
    "    return c\n",
    "print(mul())"
   ]
  },
  {
   "cell_type": "code",
   "execution_count": null,
   "id": "3d7c306e-62fb-49fa-9e1c-c5cc616d5a3a",
   "metadata": {},
   "outputs": [],
   "source": []
  }
 ],
 "metadata": {
  "kernelspec": {
   "display_name": "Python 3 (ipykernel)",
   "language": "python",
   "name": "python3"
  },
  "language_info": {
   "codemirror_mode": {
    "name": "ipython",
    "version": 3
   },
   "file_extension": ".py",
   "mimetype": "text/x-python",
   "name": "python",
   "nbconvert_exporter": "python",
   "pygments_lexer": "ipython3",
   "version": "3.9.7"
  }
 },
 "nbformat": 4,
 "nbformat_minor": 5
}
