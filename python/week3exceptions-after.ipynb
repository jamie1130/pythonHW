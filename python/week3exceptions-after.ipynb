{
 "cells": [
  {
   "cell_type": "markdown",
   "id": "751c61e8-3498-47b2-9742-7e2399396717",
   "metadata": {},
   "source": [
    "Announcements:\n",
    "- HW2 deadline extended\n",
    "- HW3 updated (sorry) \n",
    "- Quiz 3 due next Monday. You should be able to see quiz 1 & 2 correct answers...?\n",
    "- Will post Discussion 1-6 solutions today\n",
    "- https://twitter.com/jortsthecat/status/1484557774918803456?s=21\n",
    "\n",
    "Wednesday: Inheritance\n",
    "\n",
    "Friday: Exceptions, Iterators\n",
    "\n",
    "https://docs.python.org/3/tutorial/errors.html#errors-and-exceptions\n",
    "\n",
    "https://docs.python.org/3/tutorial/classes.html#iterators"
   ]
  },
  {
   "cell_type": "markdown",
   "id": "cae1c9c7-6d37-4b0a-842b-d2c6ecb2ec29",
   "metadata": {},
   "source": [
    "syntax error vs. runtime error (exceptions)\n",
    "\n",
    "syntax error is error in using Python language <-> grammatical errors in English like \"please potato cry eat\"\n",
    "\n",
    "runtime errors (exceptions) are everything else <-> they make sense grammatically but the computer can't follow the instruction - like \"please cry potatoes\""
   ]
  },
  {
   "cell_type": "code",
   "execution_count": 1,
   "id": "0c386eef-d6d8-4c98-be42-f1bc8662c4a6",
   "metadata": {},
   "outputs": [
    {
     "ename": "SyntaxError",
     "evalue": "invalid syntax (2680807851.py, line 1)",
     "output_type": "error",
     "traceback": [
      "\u001b[0;36m  File \u001b[0;32m\"/var/folders/t0/z7bd7v710dv11qgg7r8r3k300000gp/T/ipykernel_39580/2680807851.py\"\u001b[0;36m, line \u001b[0;32m1\u001b[0m\n\u001b[0;31m    6p = 'hello'\u001b[0m\n\u001b[0m     ^\u001b[0m\n\u001b[0;31mSyntaxError\u001b[0m\u001b[0;31m:\u001b[0m invalid syntax\n"
     ]
    }
   ],
   "source": [
    "6p = 'hello'"
   ]
  },
  {
   "cell_type": "code",
   "execution_count": 2,
   "id": "ba353bc2-ec2b-4ee8-9fef-ddc550398cc9",
   "metadata": {},
   "outputs": [
    {
     "ename": "SyntaxError",
     "evalue": "invalid syntax (4067208312.py, line 1)",
     "output_type": "error",
     "traceback": [
      "\u001b[0;36m  File \u001b[0;32m\"/var/folders/t0/z7bd7v710dv11qgg7r8r3k300000gp/T/ipykernel_39580/4067208312.py\"\u001b[0;36m, line \u001b[0;32m1\u001b[0m\n\u001b[0;31m    if a<3\u001b[0m\n\u001b[0m          ^\u001b[0m\n\u001b[0;31mSyntaxError\u001b[0m\u001b[0;31m:\u001b[0m invalid syntax\n"
     ]
    }
   ],
   "source": [
    "if a<3"
   ]
  },
  {
   "cell_type": "code",
   "execution_count": 1,
   "id": "d638b497-9fe1-4908-a1e3-04fa6d3d5bc8",
   "metadata": {},
   "outputs": [],
   "source": [
    "# print 'hello' vs. print(hello) ? "
   ]
  },
  {
   "cell_type": "code",
   "execution_count": 12,
   "id": "d0219ac7-0d6d-4e6a-b8fa-22f731b94d8d",
   "metadata": {},
   "outputs": [
    {
     "ename": "SyntaxError",
     "evalue": "Missing parentheses in call to 'print'. Did you mean print('hello')? (2128474191.py, line 1)",
     "output_type": "error",
     "traceback": [
      "\u001b[0;36m  File \u001b[0;32m\"/var/folders/t0/z7bd7v710dv11qgg7r8r3k300000gp/T/ipykernel_39580/2128474191.py\"\u001b[0;36m, line \u001b[0;32m1\u001b[0m\n\u001b[0;31m    print 'hello'\u001b[0m\n\u001b[0m          ^\u001b[0m\n\u001b[0;31mSyntaxError\u001b[0m\u001b[0;31m:\u001b[0m Missing parentheses in call to 'print'. Did you mean print('hello')?\n"
     ]
    }
   ],
   "source": [
    "print 'hello'  # syntax error"
   ]
  },
  {
   "cell_type": "code",
   "execution_count": 13,
   "id": "bb8ffa75-16aa-46ef-b083-42e0c27f6ac4",
   "metadata": {},
   "outputs": [
    {
     "ename": "NameError",
     "evalue": "name 'hello' is not defined",
     "output_type": "error",
     "traceback": [
      "\u001b[0;31m---------------------------------------------------------------------------\u001b[0m",
      "\u001b[0;31mNameError\u001b[0m                                 Traceback (most recent call last)",
      "\u001b[0;32m/var/folders/t0/z7bd7v710dv11qgg7r8r3k300000gp/T/ipykernel_39580/3936606730.py\u001b[0m in \u001b[0;36m<module>\u001b[0;34m\u001b[0m\n\u001b[0;32m----> 1\u001b[0;31m \u001b[0mprint\u001b[0m\u001b[0;34m(\u001b[0m\u001b[0mhello\u001b[0m\u001b[0;34m)\u001b[0m\u001b[0;34m\u001b[0m\u001b[0;34m\u001b[0m\u001b[0m\n\u001b[0m",
      "\u001b[0;31mNameError\u001b[0m: name 'hello' is not defined"
     ]
    }
   ],
   "source": [
    "print(hello) # runtime error"
   ]
  },
  {
   "cell_type": "code",
   "execution_count": 3,
   "id": "2703667a-4d15-4bca-bac5-11b43cd2c666",
   "metadata": {},
   "outputs": [
    {
     "ename": "NameError",
     "evalue": "name 'y' is not defined",
     "output_type": "error",
     "traceback": [
      "\u001b[0;31m---------------------------------------------------------------------------\u001b[0m",
      "\u001b[0;31mNameError\u001b[0m                                 Traceback (most recent call last)",
      "\u001b[0;32m/var/folders/t0/z7bd7v710dv11qgg7r8r3k300000gp/T/ipykernel_39580/3563912222.py\u001b[0m in \u001b[0;36m<module>\u001b[0;34m\u001b[0m\n\u001b[0;32m----> 1\u001b[0;31m \u001b[0my\u001b[0m\u001b[0;34m\u001b[0m\u001b[0;34m\u001b[0m\u001b[0m\n\u001b[0m",
      "\u001b[0;31mNameError\u001b[0m: name 'y' is not defined"
     ]
    }
   ],
   "source": [
    "y"
   ]
  },
  {
   "cell_type": "code",
   "execution_count": 4,
   "id": "bb60dbdd-6188-46b1-affb-d5e74ce930e9",
   "metadata": {},
   "outputs": [
    {
     "data": {
      "text/plain": [
       "6"
      ]
     },
     "execution_count": 4,
     "metadata": {},
     "output_type": "execute_result"
    }
   ],
   "source": [
    "int(6.0)"
   ]
  },
  {
   "cell_type": "code",
   "execution_count": 5,
   "id": "78ccee69-a8cf-4cce-9dad-3790e87eb526",
   "metadata": {},
   "outputs": [
    {
     "ename": "ValueError",
     "evalue": "invalid literal for int() with base 10: 'six'",
     "output_type": "error",
     "traceback": [
      "\u001b[0;31m---------------------------------------------------------------------------\u001b[0m",
      "\u001b[0;31mValueError\u001b[0m                                Traceback (most recent call last)",
      "\u001b[0;32m/var/folders/t0/z7bd7v710dv11qgg7r8r3k300000gp/T/ipykernel_39580/1469080668.py\u001b[0m in \u001b[0;36m<module>\u001b[0;34m\u001b[0m\n\u001b[0;32m----> 1\u001b[0;31m \u001b[0mint\u001b[0m\u001b[0;34m(\u001b[0m\u001b[0;34m\"six\"\u001b[0m\u001b[0;34m)\u001b[0m\u001b[0;34m\u001b[0m\u001b[0;34m\u001b[0m\u001b[0m\n\u001b[0m",
      "\u001b[0;31mValueError\u001b[0m: invalid literal for int() with base 10: 'six'"
     ]
    }
   ],
   "source": [
    "int(\"six\")"
   ]
  },
  {
   "cell_type": "markdown",
   "id": "3400bd01-e8bc-4395-bd9e-99200c4b4dc6",
   "metadata": {},
   "source": [
    "Runtime errors raise exceptions. Exceptions prevent code from failing silently.\n",
    "\n",
    "Built-in exceptions: https://docs.python.org/3/library/exceptions.html#bltin-exceptions\n",
    "\n",
    "Some of the most common ones: https://www.programiz.com/python-programming/exceptions"
   ]
  },
  {
   "cell_type": "markdown",
   "id": "a103066e-2798-4bb3-bf4f-b4b4e0ac44ff",
   "metadata": {},
   "source": [
    "`raise`: when you `raise` an exception, it immediately halts the execution of the code."
   ]
  },
  {
   "cell_type": "code",
   "execution_count": 6,
   "id": "31219741-35b8-4994-bde6-10abc8049673",
   "metadata": {},
   "outputs": [],
   "source": [
    "def halve(x):\n",
    "    return x/2"
   ]
  },
  {
   "cell_type": "code",
   "execution_count": 7,
   "id": "a9a188fb-cefb-441e-b2bf-3796a6a48513",
   "metadata": {},
   "outputs": [
    {
     "data": {
      "text/plain": [
       "2.5"
      ]
     },
     "execution_count": 7,
     "metadata": {},
     "output_type": "execute_result"
    }
   ],
   "source": [
    "halve(5)"
   ]
  },
  {
   "cell_type": "code",
   "execution_count": 8,
   "id": "7ee6c8b0-46eb-403c-bce5-9d072a72d12d",
   "metadata": {},
   "outputs": [
    {
     "ename": "TypeError",
     "evalue": "unsupported operand type(s) for /: 'str' and 'int'",
     "output_type": "error",
     "traceback": [
      "\u001b[0;31m---------------------------------------------------------------------------\u001b[0m",
      "\u001b[0;31mTypeError\u001b[0m                                 Traceback (most recent call last)",
      "\u001b[0;32m/var/folders/t0/z7bd7v710dv11qgg7r8r3k300000gp/T/ipykernel_39580/1219824482.py\u001b[0m in \u001b[0;36m<module>\u001b[0;34m\u001b[0m\n\u001b[0;32m----> 1\u001b[0;31m \u001b[0mhalve\u001b[0m\u001b[0;34m(\u001b[0m\u001b[0;34m'five'\u001b[0m\u001b[0;34m)\u001b[0m\u001b[0;34m\u001b[0m\u001b[0;34m\u001b[0m\u001b[0m\n\u001b[0m",
      "\u001b[0;32m/var/folders/t0/z7bd7v710dv11qgg7r8r3k300000gp/T/ipykernel_39580/1686542382.py\u001b[0m in \u001b[0;36mhalve\u001b[0;34m(x)\u001b[0m\n\u001b[1;32m      1\u001b[0m \u001b[0;32mdef\u001b[0m \u001b[0mhalve\u001b[0m\u001b[0;34m(\u001b[0m\u001b[0mx\u001b[0m\u001b[0;34m)\u001b[0m\u001b[0;34m:\u001b[0m\u001b[0;34m\u001b[0m\u001b[0;34m\u001b[0m\u001b[0m\n\u001b[0;32m----> 2\u001b[0;31m     \u001b[0;32mreturn\u001b[0m \u001b[0mx\u001b[0m\u001b[0;34m/\u001b[0m\u001b[0;36m2\u001b[0m\u001b[0;34m\u001b[0m\u001b[0;34m\u001b[0m\u001b[0m\n\u001b[0m",
      "\u001b[0;31mTypeError\u001b[0m: unsupported operand type(s) for /: 'str' and 'int'"
     ]
    }
   ],
   "source": [
    "halve('five') # but this function isn't designed to work with strings in the first place"
   ]
  },
  {
   "cell_type": "code",
   "execution_count": 9,
   "id": "980304a5-c2da-4208-91b9-d1042a344268",
   "metadata": {},
   "outputs": [],
   "source": [
    "def halve1(x):\n",
    "    # this type checking/input checking reflects our intention/design choice\n",
    "    if type(x) not in [float, int]:\n",
    "        raise TypeError(\"This function is designed to work only with floats and ints.\")\n",
    "    \n",
    "    return x/2"
   ]
  },
  {
   "cell_type": "code",
   "execution_count": 10,
   "id": "1d5fe98e-8bf6-4ba0-ac2f-eb635399f4ef",
   "metadata": {},
   "outputs": [
    {
     "data": {
      "text/plain": [
       "2.5"
      ]
     },
     "execution_count": 10,
     "metadata": {},
     "output_type": "execute_result"
    }
   ],
   "source": [
    "halve1(5)"
   ]
  },
  {
   "cell_type": "code",
   "execution_count": 11,
   "id": "9ed3e627-7b3e-4c84-92df-0104aeb21734",
   "metadata": {},
   "outputs": [
    {
     "ename": "TypeError",
     "evalue": "This function is designed to work only with floats and ints.",
     "output_type": "error",
     "traceback": [
      "\u001b[0;31m---------------------------------------------------------------------------\u001b[0m",
      "\u001b[0;31mTypeError\u001b[0m                                 Traceback (most recent call last)",
      "\u001b[0;32m/var/folders/t0/z7bd7v710dv11qgg7r8r3k300000gp/T/ipykernel_39580/3877990499.py\u001b[0m in \u001b[0;36m<module>\u001b[0;34m\u001b[0m\n\u001b[0;32m----> 1\u001b[0;31m \u001b[0mhalve1\u001b[0m\u001b[0;34m(\u001b[0m\u001b[0;34m\"five\"\u001b[0m\u001b[0;34m)\u001b[0m\u001b[0;34m\u001b[0m\u001b[0;34m\u001b[0m\u001b[0m\n\u001b[0m",
      "\u001b[0;32m/var/folders/t0/z7bd7v710dv11qgg7r8r3k300000gp/T/ipykernel_39580/2857286213.py\u001b[0m in \u001b[0;36mhalve1\u001b[0;34m(x)\u001b[0m\n\u001b[1;32m      1\u001b[0m \u001b[0;32mdef\u001b[0m \u001b[0mhalve1\u001b[0m\u001b[0;34m(\u001b[0m\u001b[0mx\u001b[0m\u001b[0;34m)\u001b[0m\u001b[0;34m:\u001b[0m\u001b[0;34m\u001b[0m\u001b[0;34m\u001b[0m\u001b[0m\n\u001b[1;32m      2\u001b[0m     \u001b[0;32mif\u001b[0m \u001b[0mtype\u001b[0m\u001b[0;34m(\u001b[0m\u001b[0mx\u001b[0m\u001b[0;34m)\u001b[0m \u001b[0;32mnot\u001b[0m \u001b[0;32min\u001b[0m \u001b[0;34m[\u001b[0m\u001b[0mfloat\u001b[0m\u001b[0;34m,\u001b[0m \u001b[0mint\u001b[0m\u001b[0;34m]\u001b[0m\u001b[0;34m:\u001b[0m\u001b[0;34m\u001b[0m\u001b[0;34m\u001b[0m\u001b[0m\n\u001b[0;32m----> 3\u001b[0;31m         \u001b[0;32mraise\u001b[0m \u001b[0mTypeError\u001b[0m\u001b[0;34m(\u001b[0m\u001b[0;34m\"This function is designed to work only with floats and ints.\"\u001b[0m\u001b[0;34m)\u001b[0m\u001b[0;34m\u001b[0m\u001b[0;34m\u001b[0m\u001b[0m\n\u001b[0m\u001b[1;32m      4\u001b[0m \u001b[0;34m\u001b[0m\u001b[0m\n\u001b[1;32m      5\u001b[0m     \u001b[0;32mreturn\u001b[0m \u001b[0mx\u001b[0m\u001b[0;34m/\u001b[0m\u001b[0;36m2\u001b[0m\u001b[0;34m\u001b[0m\u001b[0;34m\u001b[0m\u001b[0m\n",
      "\u001b[0;31mTypeError\u001b[0m: This function is designed to work only with floats and ints."
     ]
    }
   ],
   "source": [
    "halve1(\"five\") # note the change in error message"
   ]
  },
  {
   "cell_type": "markdown",
   "id": "76d27089-b1c4-4d07-afaf-432f22b33912",
   "metadata": {},
   "source": [
    "Exception handling (`try`-`except`) \n",
    "\n",
    "`try` to do whatever you were trying to do, and if Python raises an exception, `except` it and run something else instead of stopping your code all together"
   ]
  },
  {
   "cell_type": "code",
   "execution_count": 1,
   "id": "676f9c76-8a14-4774-b447-7e43ab372b9e",
   "metadata": {},
   "outputs": [],
   "source": [
    "def halve2(x):\n",
    "    try:\n",
    "        return x/2\n",
    "    except TypeError:\n",
    "        print(\"This function is designed to work with floats and ints, returning original input instead\")\n",
    "    finally:\n",
    "        print('I always run')"
   ]
  },
  {
   "cell_type": "code",
   "execution_count": 22,
   "id": "adb3d73d-0a76-47b8-b0f6-9fdee426cd07",
   "metadata": {},
   "outputs": [],
   "source": [
    "# try:\n",
    "#    # what to do with expected input\n",
    "# except TypeError:\n",
    "#    # if your input type is wrong"
   ]
  },
  {
   "cell_type": "code",
   "execution_count": 2,
   "id": "968a4161-1c1b-4ac3-b1dc-6ea457814f36",
   "metadata": {},
   "outputs": [
    {
     "name": "stdout",
     "output_type": "stream",
     "text": [
      "I always run\n"
     ]
    },
    {
     "data": {
      "text/plain": [
       "2.5"
      ]
     },
     "execution_count": 2,
     "metadata": {},
     "output_type": "execute_result"
    }
   ],
   "source": [
    "halve2(5)"
   ]
  },
  {
   "cell_type": "code",
   "execution_count": 24,
   "id": "7b0e6a50-6cef-411b-924e-901ec64e06fc",
   "metadata": {},
   "outputs": [
    {
     "name": "stdout",
     "output_type": "stream",
     "text": [
      "This function is designed to work with floats and ints, returning original input instead\n",
      "I always run\n"
     ]
    }
   ],
   "source": [
    "halve2(\"five\")"
   ]
  },
  {
   "cell_type": "code",
   "execution_count": null,
   "id": "b65e05d9-6053-4a55-ba99-bd1f730594dd",
   "metadata": {},
   "outputs": [],
   "source": [
    "if type(D) not is dict:\n",
    "    raise TypeError('something')"
   ]
  },
  {
   "cell_type": "code",
   "execution_count": 25,
   "id": "b86e456a-18ca-4ec9-b974-810a7d406852",
   "metadata": {},
   "outputs": [],
   "source": [
    "def divide(x, y):\n",
    "    try:\n",
    "        return x/y\n",
    "    except TypeError:\n",
    "        print(\"please check that x and y are both ints or floats\")\n",
    "    except ZeroDivisionError:\n",
    "        print(\"you can't divide by zero\")\n",
    "    finally:\n",
    "        print('i always run')"
   ]
  },
  {
   "cell_type": "code",
   "execution_count": 26,
   "id": "5d5a263e-82c8-4354-a2e6-f75c05c4590a",
   "metadata": {},
   "outputs": [
    {
     "name": "stdout",
     "output_type": "stream",
     "text": [
      "i always run\n"
     ]
    },
    {
     "data": {
      "text/plain": [
       "0.5"
      ]
     },
     "execution_count": 26,
     "metadata": {},
     "output_type": "execute_result"
    }
   ],
   "source": [
    "divide(1, 2)"
   ]
  },
  {
   "cell_type": "code",
   "execution_count": 27,
   "id": "093edba0-b30f-4e0b-a118-1ec428650e66",
   "metadata": {},
   "outputs": [
    {
     "name": "stdout",
     "output_type": "stream",
     "text": [
      "you can't divide by zero\n",
      "i always run\n"
     ]
    }
   ],
   "source": [
    "divide(1, 0)"
   ]
  },
  {
   "cell_type": "code",
   "execution_count": 1,
   "id": "3f449d95-ee35-4c52-8cad-83e55778f3e7",
   "metadata": {},
   "outputs": [],
   "source": [
    "def divide1(x, y):\n",
    "    try:\n",
    "        return x/y\n",
    "    except TypeError as t:\n",
    "        print(\"please check that x and y are both ints or floats\")\n",
    "        return t\n",
    "    except ZeroDivisionError as z:\n",
    "        print(\"you can't divide by zero\")\n",
    "        return z\n",
    "    finally:\n",
    "        print('i always run')"
   ]
  },
  {
   "cell_type": "code",
   "execution_count": 2,
   "id": "64a3dff6-6172-4075-8fc3-39d1dd3aa2bc",
   "metadata": {},
   "outputs": [
    {
     "name": "stdout",
     "output_type": "stream",
     "text": [
      "i always run\n"
     ]
    }
   ],
   "source": [
    "t = divide1(1, 2)"
   ]
  },
  {
   "cell_type": "code",
   "execution_count": 7,
   "id": "b7a8c06c-916e-4d49-8f1f-34ad454fb840",
   "metadata": {},
   "outputs": [
    {
     "data": {
      "text/plain": [
       "(0.5, float)"
      ]
     },
     "execution_count": 7,
     "metadata": {},
     "output_type": "execute_result"
    }
   ],
   "source": [
    "t, type(t)"
   ]
  },
  {
   "cell_type": "code",
   "execution_count": 36,
   "id": "00ad29f5-4b47-4580-a303-0780acf33f48",
   "metadata": {},
   "outputs": [
    {
     "name": "stdout",
     "output_type": "stream",
     "text": [
      "you can't divide by zero\n",
      "i always run\n"
     ]
    }
   ],
   "source": [
    "z = divide1(1, 0)"
   ]
  },
  {
   "cell_type": "code",
   "execution_count": 39,
   "id": "e69d6af3-6b6c-4e38-956a-7c64eb0cc2e6",
   "metadata": {},
   "outputs": [
    {
     "name": "stdout",
     "output_type": "stream",
     "text": [
      "please check that x and y are both ints or floats\n",
      "i always run\n"
     ]
    }
   ],
   "source": [
    "t = divide1(1, \"one\")"
   ]
  },
  {
   "cell_type": "code",
   "execution_count": 40,
   "id": "3d26464c-d6a1-48c9-acf4-b67d4119705a",
   "metadata": {},
   "outputs": [
    {
     "data": {
      "text/plain": [
       "(TypeError(\"unsupported operand type(s) for /: 'int' and 'str'\"), TypeError)"
      ]
     },
     "execution_count": 40,
     "metadata": {},
     "output_type": "execute_result"
    }
   ],
   "source": [
    "t, type(t)"
   ]
  },
  {
   "cell_type": "code",
   "execution_count": 38,
   "id": "e202352c-b5c1-40a3-8787-33c4ebc395ef",
   "metadata": {},
   "outputs": [
    {
     "data": {
      "text/plain": [
       "ZeroDivisionError"
      ]
     },
     "execution_count": 38,
     "metadata": {},
     "output_type": "execute_result"
    }
   ],
   "source": [
    "type(z)"
   ]
  },
  {
   "cell_type": "code",
   "execution_count": null,
   "id": "a451838e-a199-450f-9fb8-9625baf12986",
   "metadata": {},
   "outputs": [],
   "source": []
  },
  {
   "cell_type": "code",
   "execution_count": 59,
   "id": "77a7873d-0f82-4d25-a1da-2e6ad0cfed46",
   "metadata": {},
   "outputs": [],
   "source": [
    "def add(x=1,y=1):\n",
    "    z = x + y\n",
    "    return z"
   ]
  },
  {
   "cell_type": "code",
   "execution_count": 60,
   "id": "8a0e8d87-b0f2-472b-a1dd-2c882fc3aca7",
   "metadata": {},
   "outputs": [
    {
     "name": "stdout",
     "output_type": "stream",
     "text": [
      "2\n"
     ]
    }
   ],
   "source": [
    "s = add()\n",
    "print(s)"
   ]
  },
  {
   "cell_type": "code",
   "execution_count": 65,
   "id": "d7216437-784c-48e0-b264-b76e4eb752b6",
   "metadata": {},
   "outputs": [],
   "source": [
    "class UCLAStudent:\n",
    "    \n",
    "    university=\"UCLA\"\n",
    "   \n",
    "    def __int__(self):\n",
    "        self.computing=2\n",
    "    def take(self):\n",
    "        self.computing+=1\n",
    "    "
   ]
  },
  {
   "cell_type": "code",
   "execution_count": 66,
   "id": "794a36d5-d65a-4473-b03e-af3d4f255515",
   "metadata": {},
   "outputs": [],
   "source": [
    "class PIC16AStudent(UCLAStudent):\n",
    "\n",
    "    def __init__(self):\n",
    "        super().__init__()\n",
    "        self.python_computing_skill = 1"
   ]
  },
  {
   "cell_type": "code",
   "execution_count": 67,
   "id": "36e62757-0f5d-4ac7-be1f-5e456839ff59",
   "metadata": {},
   "outputs": [
    {
     "data": {
      "text/plain": [
       "'UCLA'"
      ]
     },
     "execution_count": 67,
     "metadata": {},
     "output_type": "execute_result"
    }
   ],
   "source": [
    "J = PIC16AStudent()\n",
    "J.university"
   ]
  },
  {
   "cell_type": "code",
   "execution_count": 70,
   "id": "8ab87304-5a4d-4af0-bc11-7b1077784c41",
   "metadata": {},
   "outputs": [
    {
     "ename": "AttributeError",
     "evalue": "'PIC16AStudent' object has no attribute 'computing_skill'",
     "output_type": "error",
     "traceback": [
      "\u001b[1;31m---------------------------------------------------------------------------\u001b[0m",
      "\u001b[1;31mAttributeError\u001b[0m                            Traceback (most recent call last)",
      "\u001b[1;32m~\\AppData\\Local\\Temp/ipykernel_11136/1457969683.py\u001b[0m in \u001b[0;36m<module>\u001b[1;34m\u001b[0m\n\u001b[1;32m----> 1\u001b[1;33m \u001b[0mJ\u001b[0m\u001b[1;33m.\u001b[0m\u001b[0mcomputing_skill\u001b[0m\u001b[1;33m(\u001b[0m\u001b[1;33m)\u001b[0m\u001b[1;33m\u001b[0m\u001b[1;33m\u001b[0m\u001b[0m\n\u001b[0m",
      "\u001b[1;31mAttributeError\u001b[0m: 'PIC16AStudent' object has no attribute 'computing_skill'"
     ]
    }
   ],
   "source": [
    "J.computing_skill()"
   ]
  },
  {
   "cell_type": "code",
   "execution_count": null,
   "id": "6dd72e9b-14e6-495a-9a0b-d6bb3663c81d",
   "metadata": {},
   "outputs": [],
   "source": []
  },
  {
   "cell_type": "code",
   "execution_count": 55,
   "id": "f4f4d4ab-7092-426d-a69f-aa68e6cd83bf",
   "metadata": {},
   "outputs": [],
   "source": [
    "class student:\n",
    "\n",
    "    classes = []\n",
    "\n"
   ]
  },
  {
   "cell_type": "code",
   "execution_count": 56,
   "id": "3c99b1a7-a4fc-496b-bb89-d05906c41366",
   "metadata": {},
   "outputs": [
    {
     "name": "stdout",
     "output_type": "stream",
     "text": [
      "['PIC16A']\n",
      "['PIC16A']\n"
     ]
    }
   ],
   "source": [
    "student1 = student()\n",
    "\n",
    "student2 = student()\n",
    "\n",
    "#student1.classes.append(\"PIC16A\")\n",
    "\n",
    "student2.classes.append(\"PIC16A\")\n",
    "\n",
    "print(student2.classes)\n",
    "print(student1.classes)"
   ]
  },
  {
   "cell_type": "code",
   "execution_count": 6,
   "id": "130509fa-4724-4aff-b573-43be624ebe51",
   "metadata": {},
   "outputs": [
    {
     "name": "stdout",
     "output_type": "stream",
     "text": [
      "[False, False]\n"
     ]
    }
   ],
   "source": [
    "array = [[2,3,4], [2,5,7]]\n",
    "print (list(len(array[0]) != len(i) for i in array))"
   ]
  },
  {
   "cell_type": "code",
   "execution_count": null,
   "id": "89894cbb-84ce-446d-b4d7-ff4f26aa8d88",
   "metadata": {},
   "outputs": [],
   "source": []
  }
 ],
 "metadata": {
  "kernelspec": {
   "display_name": "Python 3 (ipykernel)",
   "language": "python",
   "name": "python3"
  },
  "language_info": {
   "codemirror_mode": {
    "name": "ipython",
    "version": 3
   },
   "file_extension": ".py",
   "mimetype": "text/x-python",
   "name": "python",
   "nbconvert_exporter": "python",
   "pygments_lexer": "ipython3",
   "version": "3.9.7"
  }
 },
 "nbformat": 4,
 "nbformat_minor": 5
}
