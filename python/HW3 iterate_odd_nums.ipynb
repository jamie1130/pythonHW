{
 "cells": [
  {
   "cell_type": "code",
   "execution_count": 18,
   "id": "1cc27d6b",
   "metadata": {},
   "outputs": [],
   "source": [
    "class iterate_odd_nums:\n",
    "    def __init__(self, max_num=1):\n",
    "        self.max_nums=max_num\n",
    "    \n",
    "    def __next__(self):\n",
    "        if self.n<=self.max_nums:\n",
    "            ret_var=self.n\n",
    "            self.n+=2\n",
    "            return ret_var\n",
    "        else:\n",
    "            raise StopIteration\n",
    "    \n",
    "    def __iter__(self):\n",
    "        self.n=1\n",
    "        return self\n",
    "    "
   ]
  },
  {
   "cell_type": "code",
   "execution_count": 19,
   "id": "3a37ba1a",
   "metadata": {},
   "outputs": [],
   "source": [
    "ion = iterate_odd_nums()"
   ]
  },
  {
   "cell_type": "code",
   "execution_count": 20,
   "id": "824f9f96",
   "metadata": {},
   "outputs": [
    {
     "name": "stdout",
     "output_type": "stream",
     "text": [
      "1\n"
     ]
    }
   ],
   "source": [
    "for i in ion:\n",
    "    print(i)"
   ]
  },
  {
   "cell_type": "code",
   "execution_count": 21,
   "id": "459188c1",
   "metadata": {},
   "outputs": [
    {
     "name": "stdout",
     "output_type": "stream",
     "text": [
      "1\n",
      "3\n",
      "5\n",
      "7\n",
      "9\n"
     ]
    }
   ],
   "source": [
    "ion2 = iterate_odd_nums(10)\n",
    "\n",
    "for i in ion2:\n",
    "    print(i)"
   ]
  },
  {
   "cell_type": "code",
   "execution_count": null,
   "id": "4d6b0190",
   "metadata": {},
   "outputs": [],
   "source": []
  }
 ],
 "metadata": {
  "kernelspec": {
   "display_name": "Python 3.8.8 64-bit ('base': conda)",
   "language": "python",
   "name": "python388jvsc74a57bd0da6274850eefb315cb930193f220d6e6a70f74a77abd4c690fbd6cb5dc54a41e"
  },
  "language_info": {
   "codemirror_mode": {
    "name": "ipython",
    "version": 3
   },
   "file_extension": ".py",
   "mimetype": "text/x-python",
   "name": "python",
   "nbconvert_exporter": "python",
   "pygments_lexer": "ipython3",
   "version": "3.8.8"
  }
 },
 "nbformat": 4,
 "nbformat_minor": 5
}
